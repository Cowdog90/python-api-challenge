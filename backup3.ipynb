{
 "cells": [
  {
   "cell_type": "markdown",
   "metadata": {},
   "source": [
    "# WeatherPy\n",
    "----\n",
    "\n",
    "#### Note\n",
    "* Instructions have been included for each segment. You do not have to follow them exactly, but they are included to help you think through the steps."
   ]
  },
  {
   "cell_type": "code",
   "execution_count": 1,
   "metadata": {
    "scrolled": true
   },
   "outputs": [],
   "source": [
    "# Dependencies and Setup\n",
    "import matplotlib.pyplot as plt\n",
    "import pandas as pd\n",
    "import numpy as np\n",
    "import requests\n",
    "import time\n",
    "from scipy.stats import linregress\n",
    "\n",
    "# Import API key\n",
    "from api_keys import weather_api_key\n",
    "\n",
    "# Incorporated citipy to determine city based on latitude and longitude\n",
    "from citipy import citipy\n",
    "\n",
    "# Output File (CSV)\n",
    "output_data_file = \"output_data/cities.csv\"\n",
    "\n",
    "# Range of latitudes and longitudes\n",
    "lat_range = (-90, 90)\n",
    "lng_range = (-180, 180)"
   ]
  },
  {
   "cell_type": "markdown",
   "metadata": {},
   "source": [
    "## Generate Cities List"
   ]
  },
  {
   "cell_type": "code",
   "execution_count": 2,
   "metadata": {},
   "outputs": [
    {
     "data": {
      "text/plain": [
       "617"
      ]
     },
     "execution_count": 2,
     "metadata": {},
     "output_type": "execute_result"
    }
   ],
   "source": [
    "# List for holding lat_lngs and cities\n",
    "lat_lngs = []\n",
    "cities = []\n",
    "\n",
    "# Create a set of random lat and lng combinations\n",
    "lats = np.random.uniform(low=-90.000, high=90.000, size=1500)\n",
    "lngs = np.random.uniform(low=-180.000, high=180.000, size=1500)\n",
    "lat_lngs = zip(lats, lngs)\n",
    "\n",
    "# Identify nearest city for each lat, lng combination\n",
    "for lat_lng in lat_lngs:\n",
    "    city = citipy.nearest_city(lat_lng[0], lat_lng[1]).city_name\n",
    "    \n",
    "    # If the city is unique, then add it to a our cities list\n",
    "    if city not in cities:\n",
    "        cities.append(city)\n",
    "\n",
    "# Print the city count to confirm sufficient count\n",
    "len(cities)"
   ]
  },
  {
   "cell_type": "markdown",
   "metadata": {},
   "source": [
    "### Perform API Calls\n",
    "* Perform a weather check on each city using a series of successive API calls.\n",
    "* Include a print log of each city as it'sbeing processed (with the city number and city name).\n"
   ]
  },
  {
   "cell_type": "code",
   "execution_count": 3,
   "metadata": {},
   "outputs": [
    {
     "name": "stdout",
     "output_type": "stream",
     "text": [
      "ribeira grande\n",
      "sao joao da barra\n",
      "jamestown\n",
      "port-gentil\n",
      "mar del plata\n",
      "rikitea\n",
      "kodiak\n",
      "saleaula\n",
      "kota bahru\n",
      "alekseyevsk\n",
      "punta arenas\n",
      "yellowknife\n",
      "puerto ayora\n",
      "qaanaaq\n",
      "aswan\n",
      "kapaa\n",
      "cabo san lucas\n",
      "esperance\n",
      "hobart\n",
      "esso\n",
      "pochutla\n",
      "bage\n",
      "neuquen\n",
      "tiksi\n",
      "feijo\n",
      "cape town\n",
      "kaitangata\n",
      "belushya guba\n",
      "doctor pedro p. pena\n",
      "marcona\n",
      "kahului\n",
      "hithadhoo\n",
      "albany\n",
      "cidreira\n",
      "barrow\n",
      "yelbarga\n",
      "monte patria\n",
      "yelnya\n",
      "hami\n",
      "harper\n",
      "saint-philippe\n",
      "pevek\n",
      "nikolskoye\n",
      "pacific grove\n",
      "huarmey\n",
      "chokurdakh\n",
      "hermanus\n",
      "dikson\n",
      "banfora\n",
      "victoria\n",
      "provideniya\n",
      "tura\n",
      "east london\n",
      "demidov\n",
      "salalah\n",
      "nizhneyansk\n",
      "busselton\n",
      "ulladulla\n",
      "new norfolk\n",
      "nanortalik\n",
      "vaini\n",
      "thompson\n",
      "bredasdorp\n",
      "owensboro\n",
      "alofi\n",
      "alyangula\n",
      "hilo\n",
      "san patricio\n",
      "katsuura\n",
      "geraldton\n",
      "ushuaia\n",
      "souillac\n",
      "upernavik\n",
      "kununurra\n",
      "arraial do cabo\n",
      "ponta delgada\n",
      "mataura\n",
      "gunjur\n",
      "gambela\n",
      "vila franca do campo\n",
      "taolanaro\n",
      "ihosy\n",
      "sarkand\n",
      "iqaluit\n",
      "port alfred\n",
      "vestmanna\n",
      "inirida\n",
      "necochea\n",
      "catamarca\n",
      "tasiilaq\n",
      "carnarvon\n",
      "nijar\n",
      "merauke\n",
      "san cristobal\n",
      "atuona\n",
      "tsihombe\n",
      "kigorobya\n",
      "port elizabeth\n",
      "hasaki\n",
      "khatanga\n",
      "yenagoa\n",
      "kenai\n",
      "butaritari\n",
      "vallenar\n",
      "tena\n",
      "lazaro cardenas\n",
      "ust-koksa\n",
      "olinda\n",
      "zolotinka\n",
      "puerto cabezas\n",
      "norman wells\n",
      "bluff\n",
      "whittlesea\n",
      "ostrovnoy\n",
      "sanmenxia\n",
      "kaliganj\n",
      "sentyabrskiy\n",
      "san quintin\n",
      "damietta\n",
      "fortuna\n",
      "flinders\n",
      "laguna\n",
      "dondo\n",
      "andenes\n",
      "noumea\n",
      "carlsbad\n",
      "klaksvik\n",
      "padang\n",
      "sabrum\n",
      "castro\n",
      "ampanihy\n",
      "aklavik\n",
      "cherskiy\n",
      "mahebourg\n",
      "bubaque\n",
      "atherton\n",
      "faanui\n",
      "te anau\n",
      "longyearbyen\n",
      "grand river south east\n",
      "tuatapere\n",
      "merritt island\n",
      "evensk\n",
      "lannion\n",
      "quatre cocos\n",
      "mpika\n",
      "bethel\n",
      "boguchany\n",
      "mys shmidta\n",
      "puerto ayacucho\n",
      "mocuba\n",
      "haines junction\n",
      "aksu\n",
      "arteaga\n",
      "port lincoln\n",
      "namtsy\n",
      "sao borja\n",
      "illoqqortoormiut\n",
      "amderma\n",
      "kiunga\n",
      "imeni poliny osipenko\n",
      "itarema\n",
      "porto novo\n",
      "umm kaddadah\n",
      "ambon\n",
      "tuktoyaktuk\n",
      "bambous virieux\n",
      "winneba\n",
      "tautira\n",
      "teshie\n",
      "saskylakh\n",
      "mamlyutka\n",
      "avera\n",
      "qena\n",
      "ponta do sol\n",
      "yomitan\n",
      "burica\n",
      "talnakh\n",
      "naze\n",
      "lebu\n",
      "gimbi\n",
      "svetlaya\n",
      "la asuncion\n",
      "mount isa\n",
      "stoyba\n",
      "birao\n",
      "phulji\n",
      "petrykiv\n",
      "sinnamary\n",
      "vila\n",
      "torrijos\n",
      "talcahuano\n",
      "kirakira\n",
      "avarua\n",
      "jalu\n",
      "honghu\n",
      "winnemucca\n",
      "sal rei\n",
      "nisia floresta\n",
      "asau\n",
      "brae\n",
      "pampa\n",
      "grand-lahou\n",
      "santa isabel\n",
      "bereda\n",
      "korla\n",
      "chuy\n",
      "oyonnax\n",
      "caravelas\n",
      "mehamn\n",
      "rio grande\n",
      "sept-iles\n",
      "nador\n",
      "fengrun\n",
      "hofn\n",
      "urdzhar\n",
      "sitka\n",
      "belaya gora\n",
      "mianyang\n",
      "la rioja\n",
      "syracuse\n",
      "tabou\n",
      "shubarshi\n",
      "college\n",
      "vokhma\n",
      "yumen\n",
      "aykhal\n",
      "guangyuan\n",
      "phalodi\n",
      "lata\n",
      "amalapuram\n",
      "katete\n",
      "caucaia\n",
      "karratha\n",
      "eureka\n",
      "bangkalan\n",
      "kibala\n",
      "caconda\n",
      "kuandian\n",
      "bowen\n",
      "norrtalje\n",
      "ust-kamchatsk\n",
      "sao filipe\n",
      "rumonge\n",
      "west plains\n",
      "grand gaube\n",
      "saryshagan\n",
      "zadar\n",
      "shaowu\n",
      "yirol\n",
      "byron bay\n",
      "margate\n",
      "macau\n",
      "hamilton\n",
      "coquimbo\n",
      "mrirt\n",
      "sukhumi\n",
      "cardoso\n",
      "rio gallegos\n",
      "pangai\n",
      "antoing\n",
      "sedelnikovo\n",
      "attawapiskat\n",
      "plettenberg bay\n",
      "santa rosalia\n",
      "wuwei\n",
      "ye\n",
      "temaraia\n",
      "ilulissat\n",
      "windsor\n",
      "dunedin\n",
      "kuche\n",
      "kunming\n",
      "raga\n",
      "acari\n",
      "atambua\n",
      "kamenka\n",
      "narsaq\n",
      "sao gabriel da cachoeira\n",
      "port shepstone\n",
      "benalla\n",
      "kavarskas\n",
      "maryville\n",
      "bengkulu\n",
      "contamana\n",
      "viligili\n",
      "indramayu\n",
      "kota belud\n",
      "vega de alatorre\n",
      "ouesso\n",
      "fairbanks\n",
      "garowe\n",
      "grindavik\n",
      "saint-georges\n",
      "carlagan\n",
      "hualmay\n",
      "kangema\n",
      "barentsburg\n",
      "luanda\n",
      "atocha\n",
      "abu samrah\n",
      "guanhaes\n",
      "camocim\n",
      "antofagasta\n",
      "kismayo\n",
      "sucua\n",
      "yar-sale\n",
      "nidderau\n",
      "coihaique\n",
      "luderitz\n",
      "osypenko\n",
      "azimur\n",
      "dwarka\n",
      "pisco\n",
      "georgetown\n",
      "vincennes\n",
      "chapais\n",
      "senador jose porfirio\n",
      "bemidji\n",
      "khonuu\n",
      "payyannur\n",
      "bathsheba\n",
      "aguililla\n",
      "claremore\n",
      "christchurch\n",
      "manggar\n",
      "muros\n",
      "the valley\n",
      "majenang\n",
      "huizhou\n",
      "dzhebariki-khaya\n",
      "tonstad\n",
      "saint george\n",
      "chifeng\n",
      "port-cartier\n",
      "katobu\n",
      "pinawa\n",
      "ugoofaaru\n",
      "sungaipenuh\n",
      "jinka\n",
      "vila velha\n",
      "rockport\n",
      "alice springs\n",
      "claveria\n",
      "adrar\n",
      "halifax\n",
      "dakar\n",
      "okato\n",
      "chegutu\n",
      "saint-joseph\n",
      "kavieng\n",
      "zhigalovo\n",
      "constitucion\n",
      "la peca\n",
      "baykit\n",
      "anadyr\n",
      "himora\n",
      "cortez\n",
      "gornopravdinsk\n",
      "verkhnyaya balkariya\n",
      "maraa\n",
      "berlevag\n",
      "kota kinabalu\n",
      "lastoursville\n",
      "misrikh\n",
      "odienne\n",
      "tambura\n",
      "amapa\n",
      "quixada\n",
      "tigzirt\n",
      "sambava\n",
      "santa isabel do rio negro\n",
      "labuhan\n",
      "nguiu\n",
      "kitale\n",
      "ust-maya\n",
      "acapulco\n",
      "green river\n",
      "shieli\n",
      "herat\n",
      "ruzomberok\n",
      "rolim de moura\n",
      "umzimvubu\n",
      "cockburn town\n",
      "samusu\n",
      "ossora\n",
      "san jose\n",
      "samarai\n",
      "mana\n",
      "bandar\n",
      "severo-kurilsk\n",
      "vila do maio\n",
      "tungkang\n",
      "valentin gomez farias\n",
      "corcoran\n",
      "mahanje\n",
      "mayumba\n",
      "homer\n",
      "ko samui\n",
      "wynyard\n",
      "raudeberg\n",
      "nioro\n",
      "hammerfest\n",
      "ngorongoro\n",
      "shar\n",
      "namatanai\n",
      "gasa\n",
      "troitsko-pechorsk\n",
      "clyde river\n",
      "fukiage\n",
      "awjilah\n",
      "sulangan\n",
      "lompoc\n",
      "hirado\n",
      "touros\n",
      "kutum\n",
      "sao desiderio\n",
      "sovetskiy\n",
      "lima\n",
      "asmara\n",
      "tuggurt\n",
      "fenoarivo atsinanana\n",
      "airai\n",
      "la ronge\n",
      "qandala\n",
      "mount gambier\n",
      "belmonte\n",
      "moji-mirim\n",
      "pangnirtung\n",
      "magui\n",
      "presidencia roque saenz pena\n",
      "camacha\n",
      "tenenkou\n",
      "zhigansk\n",
      "penzance\n",
      "poitiers\n",
      "tumannyy\n",
      "ukiah\n",
      "luohe\n",
      "myanaung\n",
      "madaoua\n",
      "turukhansk\n",
      "buala\n",
      "juegang\n",
      "yerbogachen\n",
      "meadow lake\n",
      "ushtobe\n",
      "lebedinyy\n",
      "dauphin\n",
      "vilyuysk\n",
      "kletskaya\n",
      "solnechnyy\n",
      "puerto baquerizo moreno\n",
      "leon\n",
      "portree\n",
      "las vegas\n",
      "utiroa\n",
      "saint anthony\n",
      "batasan\n",
      "ixtapa\n",
      "devonport\n",
      "nalbari\n",
      "portoferraio\n",
      "wajir\n",
      "salvador\n",
      "olafsvik\n",
      "ghidfalau\n",
      "caohai\n",
      "lae\n",
      "mackenzie\n",
      "luba\n",
      "colquechaca\n",
      "akhalgori\n",
      "finschhafen\n",
      "arlit\n",
      "chabahar\n",
      "hvide sande\n",
      "denizli\n",
      "ignacio zaragoza\n",
      "manicore\n",
      "praia\n",
      "moscow\n",
      "robertson\n",
      "makasar\n",
      "sillod\n",
      "colares\n",
      "hearst\n",
      "aybak\n",
      "shimoda\n",
      "stokmarknes\n",
      "arrecife\n",
      "lisakovsk\n",
      "bandarbeyla\n",
      "flin flon\n",
      "deputatskiy\n",
      "midland\n",
      "yeppoon\n",
      "nizwa\n",
      "straumen\n",
      "sorong\n",
      "heihe\n",
      "meulaboh\n",
      "mayenne\n",
      "palabuhanratu\n",
      "klyuchi\n",
      "san pedro\n",
      "steamboat springs\n",
      "tierralta\n",
      "formoso do araguaia\n",
      "balurghat\n",
      "moramanga\n",
      "uribia\n",
      "kibre mengist\n",
      "ostashkov\n",
      "leningradskiy\n",
      "humaita\n",
      "port macquarie\n",
      "westport\n",
      "jijiga\n",
      "nome\n",
      "luena\n",
      "cravo norte\n",
      "nueva granada\n",
      "hirosaki\n",
      "mlimba\n",
      "san lorenzo\n",
      "wyndham\n",
      "bilibino\n",
      "pine bluff\n",
      "moyo\n",
      "yarovoye\n",
      "sioux lookout\n",
      "maumere\n",
      "abonnema\n",
      "husavik\n",
      "codrington\n",
      "little current\n",
      "lyubech\n",
      "marsh harbour\n",
      "gao\n",
      "watsa\n",
      "akyab\n",
      "beyla\n",
      "ningan\n",
      "rondonopolis\n",
      "tlahualilo\n",
      "omaruru\n",
      "qasigiannguit\n",
      "kyrksaeterora\n",
      "northam\n",
      "otaki\n",
      "shingu\n",
      "san jeronimo\n",
      "karistos\n",
      "stawell\n",
      "komsomolskiy\n",
      "vestmannaeyjar\n",
      "ngunguru\n",
      "krasnoborsk\n",
      "port augusta\n",
      "moree\n",
      "hvammstangi\n",
      "namibe\n",
      "churapcha\n",
      "torbay\n",
      "pacasmayo\n",
      "mimongo\n",
      "roblin\n",
      "gaya\n",
      "leiyang\n",
      "shakawe\n",
      "lagoa\n",
      "hihifo\n",
      "zarubino\n",
      "madawaska\n",
      "beruwala\n",
      "aranos\n",
      "tual\n",
      "jawhar\n",
      "sisimiut\n",
      "genhe\n",
      "ancud\n",
      "ahipara\n",
      "shirokiy\n",
      "bonavista\n",
      "yelizovo\n",
      "saint-pierre\n",
      "asfi\n",
      "mandalgovi\n",
      "portland\n",
      "ayan\n",
      "la union\n",
      "lilongwe\n",
      "manta\n",
      "isangel\n",
      "tres picos\n",
      "jabiru\n",
      "gorele\n",
      "tiznit\n",
      "longlac\n",
      "ketchikan\n",
      "tromso\n",
      "guiratinga\n",
      "altagracia de orituco\n",
      "taltal\n",
      "kot samaba\n",
      "mananara\n",
      "aberystwyth\n",
      "ballina\n",
      "sangar\n",
      "grafton\n",
      "ratnagiri\n",
      "abaza\n",
      "saint-francois\n",
      "comodoro rivadavia\n",
      "honiara\n",
      "srednekolymsk\n"
     ]
    }
   ],
   "source": [
    "url = \"http://api.openweathermap.org/data/2.5/weather?\"\n",
    "units = \"imperial\"\n",
    "\n",
    "lat = []\n",
    "lng = []\n",
    "city_id = []\n",
    "wind = []\n",
    "hum = []\n",
    "max_tmp = []\n",
    "country = []\n",
    "cloudiness = []\n",
    "city_name = []\n",
    "date = []\n",
    "\n",
    "for city in cities:\n",
    "    try:\n",
    "        query_url = f\"{url}appid={weather_api_key}&units={units}&q={city}\"\n",
    "        response = requests.get(query_url).json()\n",
    "        lat.append(response['coord']['lat'])\n",
    "        lng.append(response['coord']['lon'])\n",
    "        cloudiness.append(response['clouds']['all'])\n",
    "        wind.append(response['wind']['speed'])\n",
    "        hum.append(response['main']['humidity'])\n",
    "        max_tmp.append(response['main']['temp_max'])\n",
    "        country.append(response['sys']['country'])\n",
    "        city_id.append(response['id'])\n",
    "        city_name.append(response['name'])\n",
    "        date.append(response['dt'])\n",
    "        #print(f\"Processing {cities[city]} | {city}\")\n",
    "    except: KeyError \n",
    "        \n",
    "       #print(f\"No data returnd for \" {city}: \"skipping.\")\n",
    "        \n",
    "        \n",
    "    \n",
    "    print(city)\n"
   ]
  },
  {
   "cell_type": "markdown",
   "metadata": {},
   "source": [
    "### Convert Raw Data to DataFrame\n",
    "* Export the city data into a .csv.\n",
    "* Display the DataFrame"
   ]
  },
  {
   "cell_type": "code",
   "execution_count": 4,
   "metadata": {},
   "outputs": [
    {
     "data": {
      "text/html": [
       "<div>\n",
       "<style scoped>\n",
       "    .dataframe tbody tr th:only-of-type {\n",
       "        vertical-align: middle;\n",
       "    }\n",
       "\n",
       "    .dataframe tbody tr th {\n",
       "        vertical-align: top;\n",
       "    }\n",
       "\n",
       "    .dataframe thead th {\n",
       "        text-align: right;\n",
       "    }\n",
       "</style>\n",
       "<table border=\"1\" class=\"dataframe\">\n",
       "  <thead>\n",
       "    <tr style=\"text-align: right;\">\n",
       "      <th></th>\n",
       "      <th>City Name</th>\n",
       "      <th>Cloudiness</th>\n",
       "      <th>Country</th>\n",
       "      <th>Date</th>\n",
       "      <th>Humidity</th>\n",
       "      <th>Latitude</th>\n",
       "      <th>Longitude</th>\n",
       "      <th>Max Temperature</th>\n",
       "      <th>Wind Speed</th>\n",
       "    </tr>\n",
       "  </thead>\n",
       "  <tbody>\n",
       "    <tr>\n",
       "      <td>0</td>\n",
       "      <td>Ribeira Grande</td>\n",
       "      <td>4</td>\n",
       "      <td>PT</td>\n",
       "      <td>1579753946</td>\n",
       "      <td>80</td>\n",
       "      <td>38.52</td>\n",
       "      <td>-28.70</td>\n",
       "      <td>52.77</td>\n",
       "      <td>9.80</td>\n",
       "    </tr>\n",
       "    <tr>\n",
       "      <td>1</td>\n",
       "      <td>Sao Joao da Barra</td>\n",
       "      <td>100</td>\n",
       "      <td>BR</td>\n",
       "      <td>1579754334</td>\n",
       "      <td>90</td>\n",
       "      <td>-21.64</td>\n",
       "      <td>-41.05</td>\n",
       "      <td>72.55</td>\n",
       "      <td>4.90</td>\n",
       "    </tr>\n",
       "    <tr>\n",
       "      <td>2</td>\n",
       "      <td>Jamestown</td>\n",
       "      <td>1</td>\n",
       "      <td>US</td>\n",
       "      <td>1579753705</td>\n",
       "      <td>62</td>\n",
       "      <td>42.10</td>\n",
       "      <td>-79.24</td>\n",
       "      <td>32.00</td>\n",
       "      <td>6.93</td>\n",
       "    </tr>\n",
       "    <tr>\n",
       "      <td>3</td>\n",
       "      <td>Port-Gentil</td>\n",
       "      <td>33</td>\n",
       "      <td>GA</td>\n",
       "      <td>1579754334</td>\n",
       "      <td>75</td>\n",
       "      <td>-0.72</td>\n",
       "      <td>8.78</td>\n",
       "      <td>83.23</td>\n",
       "      <td>4.09</td>\n",
       "    </tr>\n",
       "    <tr>\n",
       "      <td>4</td>\n",
       "      <td>Mar del Plata</td>\n",
       "      <td>0</td>\n",
       "      <td>AR</td>\n",
       "      <td>1579753762</td>\n",
       "      <td>94</td>\n",
       "      <td>-38.00</td>\n",
       "      <td>-57.56</td>\n",
       "      <td>69.01</td>\n",
       "      <td>3.36</td>\n",
       "    </tr>\n",
       "  </tbody>\n",
       "</table>\n",
       "</div>"
      ],
      "text/plain": [
       "           City Name  Cloudiness Country        Date  Humidity  Latitude  \\\n",
       "0     Ribeira Grande           4      PT  1579753946        80     38.52   \n",
       "1  Sao Joao da Barra         100      BR  1579754334        90    -21.64   \n",
       "2          Jamestown           1      US  1579753705        62     42.10   \n",
       "3        Port-Gentil          33      GA  1579754334        75     -0.72   \n",
       "4      Mar del Plata           0      AR  1579753762        94    -38.00   \n",
       "\n",
       "   Longitude  Max Temperature  Wind Speed  \n",
       "0     -28.70            52.77        9.80  \n",
       "1     -41.05            72.55        4.90  \n",
       "2     -79.24            32.00        6.93  \n",
       "3       8.78            83.23        4.09  \n",
       "4     -57.56            69.01        3.36  "
      ]
     },
     "execution_count": 4,
     "metadata": {},
     "output_type": "execute_result"
    }
   ],
   "source": [
    "weather_dict = {\n",
    "    \"City Name\": city_name,\n",
    "    \"Cloudiness\": cloudiness,\n",
    "    \"Country\": country,\n",
    "    \"Date\": date,\n",
    "    \"Humidity\": hum,\n",
    "    \"Latitude\": lat,\n",
    "    \"Longitude\": lng,\n",
    "    \"Max Temperature\": max_tmp,\n",
    "    \"Wind Speed\": wind\n",
    "    \n",
    "}\n",
    "\n",
    "weather_df = pd.DataFrame(weather_dict)\n",
    "\n",
    "weather_df.head()"
   ]
  },
  {
   "cell_type": "code",
   "execution_count": 5,
   "metadata": {},
   "outputs": [
    {
     "data": {
      "text/html": [
       "<div>\n",
       "<style scoped>\n",
       "    .dataframe tbody tr th:only-of-type {\n",
       "        vertical-align: middle;\n",
       "    }\n",
       "\n",
       "    .dataframe tbody tr th {\n",
       "        vertical-align: top;\n",
       "    }\n",
       "\n",
       "    .dataframe thead th {\n",
       "        text-align: right;\n",
       "    }\n",
       "</style>\n",
       "<table border=\"1\" class=\"dataframe\">\n",
       "  <thead>\n",
       "    <tr style=\"text-align: right;\">\n",
       "      <th></th>\n",
       "      <th>City Name</th>\n",
       "      <th>Cloudiness</th>\n",
       "      <th>Country</th>\n",
       "      <th>Date</th>\n",
       "      <th>Humidity</th>\n",
       "      <th>Latitude</th>\n",
       "      <th>Longitude</th>\n",
       "      <th>Max Temperature</th>\n",
       "      <th>Wind Speed</th>\n",
       "    </tr>\n",
       "  </thead>\n",
       "  <tbody>\n",
       "    <tr>\n",
       "      <td>1</td>\n",
       "      <td>Sao Joao da Barra</td>\n",
       "      <td>100</td>\n",
       "      <td>BR</td>\n",
       "      <td>1579754334</td>\n",
       "      <td>90</td>\n",
       "      <td>-21.64</td>\n",
       "      <td>-41.05</td>\n",
       "      <td>72.55</td>\n",
       "      <td>4.90</td>\n",
       "    </tr>\n",
       "    <tr>\n",
       "      <td>3</td>\n",
       "      <td>Port-Gentil</td>\n",
       "      <td>33</td>\n",
       "      <td>GA</td>\n",
       "      <td>1579754334</td>\n",
       "      <td>75</td>\n",
       "      <td>-0.72</td>\n",
       "      <td>8.78</td>\n",
       "      <td>83.23</td>\n",
       "      <td>4.09</td>\n",
       "    </tr>\n",
       "    <tr>\n",
       "      <td>4</td>\n",
       "      <td>Mar del Plata</td>\n",
       "      <td>0</td>\n",
       "      <td>AR</td>\n",
       "      <td>1579753762</td>\n",
       "      <td>94</td>\n",
       "      <td>-38.00</td>\n",
       "      <td>-57.56</td>\n",
       "      <td>69.01</td>\n",
       "      <td>3.36</td>\n",
       "    </tr>\n",
       "    <tr>\n",
       "      <td>5</td>\n",
       "      <td>Rikitea</td>\n",
       "      <td>12</td>\n",
       "      <td>PF</td>\n",
       "      <td>1579753759</td>\n",
       "      <td>75</td>\n",
       "      <td>-23.12</td>\n",
       "      <td>-134.97</td>\n",
       "      <td>79.61</td>\n",
       "      <td>12.46</td>\n",
       "    </tr>\n",
       "    <tr>\n",
       "      <td>9</td>\n",
       "      <td>Punta Arenas</td>\n",
       "      <td>75</td>\n",
       "      <td>CL</td>\n",
       "      <td>1579753940</td>\n",
       "      <td>81</td>\n",
       "      <td>-53.15</td>\n",
       "      <td>-70.92</td>\n",
       "      <td>48.20</td>\n",
       "      <td>9.17</td>\n",
       "    </tr>\n",
       "  </tbody>\n",
       "</table>\n",
       "</div>"
      ],
      "text/plain": [
       "           City Name  Cloudiness Country        Date  Humidity  Latitude  \\\n",
       "1  Sao Joao da Barra         100      BR  1579754334        90    -21.64   \n",
       "3        Port-Gentil          33      GA  1579754334        75     -0.72   \n",
       "4      Mar del Plata           0      AR  1579753762        94    -38.00   \n",
       "5            Rikitea          12      PF  1579753759        75    -23.12   \n",
       "9       Punta Arenas          75      CL  1579753940        81    -53.15   \n",
       "\n",
       "   Longitude  Max Temperature  Wind Speed  \n",
       "1     -41.05            72.55        4.90  \n",
       "3       8.78            83.23        4.09  \n",
       "4     -57.56            69.01        3.36  \n",
       "5    -134.97            79.61       12.46  \n",
       "9     -70.92            48.20        9.17  "
      ]
     },
     "execution_count": 5,
     "metadata": {},
     "output_type": "execute_result"
    }
   ],
   "source": [
    "south_forgets = weather_df.loc[weather_df[\"Latitude\"]<= 0, :]\n",
    "\n",
    "south_forgets.head()"
   ]
  },
  {
   "cell_type": "code",
   "execution_count": 6,
   "metadata": {},
   "outputs": [
    {
     "data": {
      "text/html": [
       "<div>\n",
       "<style scoped>\n",
       "    .dataframe tbody tr th:only-of-type {\n",
       "        vertical-align: middle;\n",
       "    }\n",
       "\n",
       "    .dataframe tbody tr th {\n",
       "        vertical-align: top;\n",
       "    }\n",
       "\n",
       "    .dataframe thead th {\n",
       "        text-align: right;\n",
       "    }\n",
       "</style>\n",
       "<table border=\"1\" class=\"dataframe\">\n",
       "  <thead>\n",
       "    <tr style=\"text-align: right;\">\n",
       "      <th></th>\n",
       "      <th>City Name</th>\n",
       "      <th>Cloudiness</th>\n",
       "      <th>Country</th>\n",
       "      <th>Date</th>\n",
       "      <th>Humidity</th>\n",
       "      <th>Latitude</th>\n",
       "      <th>Longitude</th>\n",
       "      <th>Max Temperature</th>\n",
       "      <th>Wind Speed</th>\n",
       "    </tr>\n",
       "  </thead>\n",
       "  <tbody>\n",
       "    <tr>\n",
       "      <td>0</td>\n",
       "      <td>Ribeira Grande</td>\n",
       "      <td>4</td>\n",
       "      <td>PT</td>\n",
       "      <td>1579753946</td>\n",
       "      <td>80</td>\n",
       "      <td>38.52</td>\n",
       "      <td>-28.70</td>\n",
       "      <td>52.77</td>\n",
       "      <td>9.80</td>\n",
       "    </tr>\n",
       "    <tr>\n",
       "      <td>2</td>\n",
       "      <td>Jamestown</td>\n",
       "      <td>1</td>\n",
       "      <td>US</td>\n",
       "      <td>1579753705</td>\n",
       "      <td>62</td>\n",
       "      <td>42.10</td>\n",
       "      <td>-79.24</td>\n",
       "      <td>32.00</td>\n",
       "      <td>6.93</td>\n",
       "    </tr>\n",
       "    <tr>\n",
       "      <td>6</td>\n",
       "      <td>Kodiak</td>\n",
       "      <td>1</td>\n",
       "      <td>US</td>\n",
       "      <td>1579753965</td>\n",
       "      <td>53</td>\n",
       "      <td>57.79</td>\n",
       "      <td>-152.41</td>\n",
       "      <td>23.00</td>\n",
       "      <td>12.75</td>\n",
       "    </tr>\n",
       "    <tr>\n",
       "      <td>7</td>\n",
       "      <td>Kota Bharu</td>\n",
       "      <td>40</td>\n",
       "      <td>MY</td>\n",
       "      <td>1579754335</td>\n",
       "      <td>74</td>\n",
       "      <td>6.13</td>\n",
       "      <td>102.24</td>\n",
       "      <td>86.00</td>\n",
       "      <td>11.41</td>\n",
       "    </tr>\n",
       "    <tr>\n",
       "      <td>8</td>\n",
       "      <td>Alekseyevsk</td>\n",
       "      <td>100</td>\n",
       "      <td>RU</td>\n",
       "      <td>1579754335</td>\n",
       "      <td>94</td>\n",
       "      <td>57.84</td>\n",
       "      <td>108.35</td>\n",
       "      <td>-7.10</td>\n",
       "      <td>14.67</td>\n",
       "    </tr>\n",
       "  </tbody>\n",
       "</table>\n",
       "</div>"
      ],
      "text/plain": [
       "        City Name  Cloudiness Country        Date  Humidity  Latitude  \\\n",
       "0  Ribeira Grande           4      PT  1579753946        80     38.52   \n",
       "2       Jamestown           1      US  1579753705        62     42.10   \n",
       "6          Kodiak           1      US  1579753965        53     57.79   \n",
       "7      Kota Bharu          40      MY  1579754335        74      6.13   \n",
       "8     Alekseyevsk         100      RU  1579754335        94     57.84   \n",
       "\n",
       "   Longitude  Max Temperature  Wind Speed  \n",
       "0     -28.70            52.77        9.80  \n",
       "2     -79.24            32.00        6.93  \n",
       "6    -152.41            23.00       12.75  \n",
       "7     102.24            86.00       11.41  \n",
       "8     108.35            -7.10       14.67  "
      ]
     },
     "execution_count": 6,
     "metadata": {},
     "output_type": "execute_result"
    }
   ],
   "source": [
    "north_remembers = weather_df.loc[weather_df[\"Latitude\"] >= 0, :]\n",
    "\n",
    "\n",
    "north_remembers.head()"
   ]
  },
  {
   "cell_type": "markdown",
   "metadata": {},
   "source": [
    "### Plotting the Data\n",
    "* Use proper labeling of the plots using plot titles (including date of analysis) and axes labels.\n",
    "* Save the plotted figures as .pngs."
   ]
  },
  {
   "cell_type": "markdown",
   "metadata": {},
   "source": [
    "#### Latitude vs. Temperature Plot"
   ]
  },
  {
   "cell_type": "code",
   "execution_count": 7,
   "metadata": {
    "scrolled": true
   },
   "outputs": [
    {
     "data": {
      "image/png": "[encoded data removed]",
      "text/plain": [
       "<Figure size 432x288 with 1 Axes>"
      ]
     },
     "metadata": {
      "needs_background": "light"
     },
     "output_type": "display_data"
    }
   ],
   "source": [
    "plt.title(\"City Latitude vs. Max Temperature\")\n",
    "plt.xlabel(\"Latitude\")\n",
    "plt.ylabel(\"Max Temp\")\n",
    "\n",
    "plt.scatter(weather_df[[\"Latitude\"]], weather_df[[\"Max Temperature\"]], marker=\"o\", color=\"green\")\n",
    "plt.show()"
   ]
  },
  {
   "cell_type": "markdown",
   "metadata": {},
   "source": [
    "#### Latitude vs. Humidity Plot"
   ]
  },
  {
   "cell_type": "code",
   "execution_count": 8,
   "metadata": {},
   "outputs": [
    {
     "data": {
      "image/png": "[encoded data removed]",
      "text/plain": [
       "<Figure size 432x288 with 1 Axes>"
      ]
     },
     "metadata": {
      "needs_background": "light"
     },
     "output_type": "display_data"
    }
   ],
   "source": [
    "plt.title(\"City Latitude vs. Humidity\")\n",
    "plt.xlabel(\"Latitude\")\n",
    "plt.ylabel(\"Humidity\")\n",
    "\n",
    "plt.scatter(weather_df[[\"Latitude\"]], weather_df[[\"Humidity\"]], marker=\"o\", color=\"green\")\n",
    "plt.show()"
   ]
  },
  {
   "cell_type": "markdown",
   "metadata": {},
   "source": [
    "#### Latitude vs. Cloudiness Plot"
   ]
  },
  {
   "cell_type": "code",
   "execution_count": 9,
   "metadata": {},
   "outputs": [
    {
     "data": {
      "image/png": "[encoded data removed]",
      "text/plain": [
       "<Figure size 432x288 with 1 Axes>"
      ]
     },
     "metadata": {
      "needs_background": "light"
     },
     "output_type": "display_data"
    }
   ],
   "source": [
    "plt.title(\"City Latitude vs. Cloudiness\")\n",
    "plt.xlabel(\"Latitude\")\n",
    "plt.ylabel(\"Cloudiness\")\n",
    "\n",
    "plt.scatter(weather_df[[\"Latitude\"]], weather_df[[\"Cloudiness\"]], marker=\"o\", color=\"green\")\n",
    "plt.show()"
   ]
  },
  {
   "cell_type": "markdown",
   "metadata": {},
   "source": [
    "#### Latitude vs. Wind Speed Plot"
   ]
  },
  {
   "cell_type": "code",
   "execution_count": 10,
   "metadata": {},
   "outputs": [
    {
     "data": {
      "image/png": "[encoded data removed]",
      "text/plain": [
       "<Figure size 432x288 with 1 Axes>"
      ]
     },
     "metadata": {
      "needs_background": "light"
     },
     "output_type": "display_data"
    }
   ],
   "source": [
    "plt.title(\"City Latitude vs. Wind Speed (mph)\")\n",
    "plt.xlabel(\"Latitude\")\n",
    "plt.ylabel(\"Wind Speed (mph)\")\n",
    "\n",
    "plt.scatter(weather_df[[\"Latitude\"]], weather_df[[\"Wind Speed\"]], marker=\"o\", color=\"green\")\n",
    "plt.show()"
   ]
  },
  {
   "cell_type": "markdown",
   "metadata": {},
   "source": [
    "## Linear Regression"
   ]
  },
  {
   "cell_type": "code",
   "execution_count": 11,
   "metadata": {},
   "outputs": [],
   "source": [
    "# OPTIONAL: Create a function to create Linear Regression plots\n"
   ]
  },
  {
   "cell_type": "code",
   "execution_count": 12,
   "metadata": {},
   "outputs": [],
   "source": [
    "# Create Northern and Southern Hemisphere DataFrames\n"
   ]
  },
  {
   "cell_type": "markdown",
   "metadata": {},
   "source": [
    "####  Northern Hemisphere - Max Temp vs. Latitude Linear Regression"
   ]
  },
  {
   "cell_type": "code",
   "execution_count": 13,
   "metadata": {},
   "outputs": [
    {
     "data": {
      "image/png": "[encoded data removed]",
      "text/plain": [
       "<Figure size 432x288 with 1 Axes>"
      ]
     },
     "metadata": {
      "needs_background": "light"
     },
     "output_type": "display_data"
    }
   ],
   "source": [
    "x_values = north_remembers['Latitude']\n",
    "y_values = north_remembers['Max Temperature']\n",
    "(slope, intercept, rvalue, pvalue, stderr) = linregress(x_values, y_values)\n",
    "regress_values = x_values * slope + intercept\n",
    "line_eq = \"y = \" + str(round(slope,2)) + \"x + \" + str(round(intercept,2))\n",
    "plt.scatter(x_values,y_values)\n",
    "plt.plot(x_values,regress_values,\"r-\")\n",
    "plt.annotate(line_eq,(6,10),fontsize=15,color=\"red\")\n",
    "plt.xlabel('Latitude')\n",
    "plt.ylabel('Max Temperature')\n",
    "plt.show()"
   ]
  },
  {
   "cell_type": "markdown",
   "metadata": {},
   "source": [
    "####  Southern Hemisphere - Max Temp vs. Latitude Linear Regression"
   ]
  },
  {
   "cell_type": "code",
   "execution_count": 14,
   "metadata": {
    "scrolled": true
   },
   "outputs": [
    {
     "data": {
      "image/png": "[encoded data removed]",
      "text/plain": [
       "<Figure size 432x288 with 1 Axes>"
      ]
     },
     "metadata": {
      "needs_background": "light"
     },
     "output_type": "display_data"
    }
   ],
   "source": [
    "x_values = south_forgets['Latitude']\n",
    "y_values = south_forgets['Max Temperature']\n",
    "(slope, intercept, rvalue, pvalue, stderr) = linregress(x_values, y_values)\n",
    "regress_values = x_values * slope + intercept\n",
    "line_eq = \"y = \" + str(round(slope,2)) + \"x + \" + str(round(intercept,2))\n",
    "plt.scatter(x_values,y_values)\n",
    "plt.plot(x_values,regress_values,\"r-\")\n",
    "plt.annotate(line_eq,(6,10),fontsize=15,color=\"red\")\n",
    "plt.xlabel('Latitude')\n",
    "plt.ylabel('Max Temperature')\n",
    "plt.show()"
   ]
  },
  {
   "cell_type": "markdown",
   "metadata": {},
   "source": [
    "####  Northern Hemisphere - Humidity (%) vs. Latitude Linear Regression"
   ]
  },
  {
   "cell_type": "code",
   "execution_count": 15,
   "metadata": {},
   "outputs": [
    {
     "data": {
      "image/png": "[encoded data removed]",
      "text/plain": [
       "<Figure size 432x288 with 1 Axes>"
      ]
     },
     "metadata": {
      "needs_background": "light"
     },
     "output_type": "display_data"
    }
   ],
   "source": [
    "x_val = north_remembers['Latitude']\n",
    "y_val = north_remembers['Humidity']\n",
    "(slope, intercept, rvalue, pvalue, stderr) = linregress(x_val, y_val)\n",
    "regress_val = x_val * slope + intercept\n",
    "line_eq = \"y = \" + str(round(slope,2)) + \"x + \" + str(round(intercept,2))\n",
    "plt.scatter(x_val,y_val)\n",
    "plt.plot(x_val,regress_val,\"r-\")\n",
    "plt.annotate(line_eq,(6,10),fontsize=15,color=\"red\")\n",
    "plt.xlabel('Latitude')\n",
    "plt.ylabel('Humidity')\n",
    "plt.show()"
   ]
  },
  {
   "cell_type": "markdown",
   "metadata": {},
   "source": [
    "####  Southern Hemisphere - Humidity (%) vs. Latitude Linear Regression"
   ]
  },
  {
   "cell_type": "code",
   "execution_count": 16,
   "metadata": {},
   "outputs": [
    {
     "data": {
      "image/png": "[encoded data removed]",
      "text/plain": [
       "<Figure size 432x288 with 1 Axes>"
      ]
     },
     "metadata": {
      "needs_background": "light"
     },
     "output_type": "display_data"
    }
   ],
   "source": [
    "x_values = south_forgets['Latitude']\n",
    "y_values = south_forgets['Humidity']\n",
    "(slope, intercept, rvalue, pvalue, stderr) = linregress(x_values, y_values)\n",
    "regress_values = x_values * slope + intercept\n",
    "line_eq = \"y = \" + str(round(slope,2)) + \"x + \" + str(round(intercept,2))\n",
    "plt.scatter(x_values,y_values)\n",
    "plt.plot(x_values,regress_values,\"r-\")\n",
    "plt.annotate(line_eq,(6,10),fontsize=15,color=\"red\")\n",
    "plt.xlabel('Latitude')\n",
    "plt.ylabel('Humidity')\n",
    "plt.show()"
   ]
  },
  {
   "cell_type": "markdown",
   "metadata": {},
   "source": [
    "####  Northern Hemisphere - Cloudiness (%) vs. Latitude Linear Regression"
   ]
  },
  {
   "cell_type": "code",
   "execution_count": 17,
   "metadata": {},
   "outputs": [
    {
     "data": {
      "image/png": "[encoded data removed]",
      "text/plain": [
       "<Figure size 432x288 with 1 Axes>"
      ]
     },
     "metadata": {
      "needs_background": "light"
     },
     "output_type": "display_data"
    }
   ],
   "source": [
    "x_val = north_remembers['Latitude']\n",
    "y_val = north_remembers['Cloudiness']\n",
    "(slope, intercept, rvalue, pvalue, stderr) = linregress(x_val, y_val)\n",
    "regress_val = x_val * slope + intercept\n",
    "line_eq = \"y = \" + str(round(slope,2)) + \"x + \" + str(round(intercept,2))\n",
    "plt.scatter(x_val,y_val)\n",
    "plt.plot(x_val,regress_val,\"r-\")\n",
    "plt.annotate(line_eq,(6,10),fontsize=15,color=\"red\")\n",
    "plt.xlabel('Latitude')\n",
    "plt.ylabel('Cloudiness')\n",
    "plt.show()"
   ]
  },
  {
   "cell_type": "markdown",
   "metadata": {},
   "source": [
    "####  Southern Hemisphere - Cloudiness (%) vs. Latitude Linear Regression"
   ]
  },
  {
   "cell_type": "code",
   "execution_count": 18,
   "metadata": {},
   "outputs": [
    {
     "data": {
      "image/png": "[encoded data removed]",
      "text/plain": [
       "<Figure size 432x288 with 1 Axes>"
      ]
     },
     "metadata": {
      "needs_background": "light"
     },
     "output_type": "display_data"
    }
   ],
   "source": [
    "x_val = south_forgets['Latitude']\n",
    "y_val = south_forgets['Cloudiness']\n",
    "(slope, intercept, rvalue, pvalue, stderr) = linregress(x_val, y_val)\n",
    "regress_val = x_val * slope + intercept\n",
    "line_eq = \"y = \" + str(round(slope,2)) + \"x + \" + str(round(intercept,2))\n",
    "plt.scatter(x_val,y_val)\n",
    "plt.plot(x_val,regress_val,\"r-\")\n",
    "plt.annotate(line_eq,(6,10),fontsize=15,color=\"red\")\n",
    "plt.xlabel('Latitude')\n",
    "plt.ylabel('Cloudiness')\n",
    "plt.show()"
   ]
  },
  {
   "cell_type": "markdown",
   "metadata": {},
   "source": [
    "####  Northern Hemisphere - Wind Speed (mph) vs. Latitude Linear Regression"
   ]
  },
  {
   "cell_type": "code",
   "execution_count": 19,
   "metadata": {},
   "outputs": [
    {
     "data": {
      "image/png": "[encoded data removed]",
      "text/plain": [
       "<Figure size 432x288 with 1 Axes>"
      ]
     },
     "metadata": {
      "needs_background": "light"
     },
     "output_type": "display_data"
    }
   ],
   "source": [
    "x_val = north_remembers['Latitude']\n",
    "y_val = north_remembers['Wind Speed']\n",
    "(slope, intercept, rvalue, pvalue, stderr) = linregress(x_val, y_val)\n",
    "regress_val = x_val * slope + intercept\n",
    "line_eq = \"y = \" + str(round(slope,2)) + \"x + \" + str(round(intercept,2))\n",
    "plt.scatter(x_val,y_val)\n",
    "plt.plot(x_val,regress_val,\"r-\")\n",
    "plt.annotate(line_eq,(6,10),fontsize=15,color=\"red\")\n",
    "plt.xlabel('Latitude')\n",
    "plt.ylabel('Wind Speed (mph)')\n",
    "plt.show()"
   ]
  },
  {
   "cell_type": "markdown",
   "metadata": {},
   "source": [
    "####  Southern Hemisphere - Wind Speed (mph) vs. Latitude Linear Regression"
   ]
  },
  {
   "cell_type": "code",
   "execution_count": 20,
   "metadata": {},
   "outputs": [
    {
     "data": {
      "image/png": "[encoded data removed]",
      "text/plain": [
       "<Figure size 432x288 with 1 Axes>"
      ]
     },
     "metadata": {
      "needs_background": "light"
     },
     "output_type": "display_data"
    }
   ],
   "source": [
    "x_val = south_forgets['Latitude']\n",
    "y_val = south_forgets['Wind Speed']\n",
    "(slope, intercept, rvalue, pvalue, stderr) = linregress(x_val, y_val)\n",
    "regress_val = x_val * slope + intercept\n",
    "line_eq = \"y = \" + str(round(slope,2)) + \"x + \" + str(round(intercept,2))\n",
    "plt.scatter(x_val,y_val)\n",
    "plt.plot(x_val,regress_val,\"r-\")\n",
    "plt.annotate(line_eq,(6,10),fontsize=15,color=\"red\")\n",
    "plt.xlabel('Latitude')\n",
    "plt.ylabel('Wind Speed (mph)')\n",
    "plt.show()"
   ]
  },
  {
   "cell_type": "code",
   "execution_count": null,
   "metadata": {},
   "outputs": [],
   "source": []
  }
 ],
 "metadata": {
  "anaconda-cloud": {},
  "kernel_info": {
   "name": "python3"
  },
  "kernelspec": {
   "display_name": "Python 3",
   "language": "python",
   "name": "python3"
  },
  "language_info": {
   "codemirror_mode": {
    "name": "ipython",
    "version": 3
   },
   "file_extension": ".py",
   "mimetype": "text/x-python",
   "name": "python",
   "nbconvert_exporter": "python",
   "pygments_lexer": "ipython3",
   "version": "3.7.4"
  },
  "latex_envs": {
   "LaTeX_envs_menu_present": true,
   "autoclose": false,
   "autocomplete": true,
   "bibliofile": "biblio.bib",
   "cite_by": "apalike",
   "current_citInitial": 1,
   "eqLabelWithNumbers": true,
   "eqNumInitial": 1,
   "hotkeys": {
    "equation": "Ctrl-E",
    "itemize": "Ctrl-I"
   },
   "labels_anchors": false,
   "latex_user_defs": false,
   "report_style_numbering": false,
   "user_envs_cfg": false
  },
  "nteract": {
   "version": "0.12.3"
  }
 },
 "nbformat": 4,
 "nbformat_minor": 2
}
