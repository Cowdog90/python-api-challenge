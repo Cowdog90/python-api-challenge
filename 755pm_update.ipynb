{
 "cells": [
  {
   "cell_type": "markdown",
   "metadata": {},
   "source": [
    "# WeatherPy\n",
    "----\n",
    "\n",
    "#### Note\n",
    "* Instructions have been included for each segment. You do not have to follow them exactly, but they are included to help you think through the steps."
   ]
  },
  {
   "cell_type": "code",
   "execution_count": 1,
   "metadata": {
    "scrolled": true
   },
   "outputs": [],
   "source": [
    "# Dependencies and Setup\n",
    "import matplotlib.pyplot as plt\n",
    "import pandas as pd\n",
    "import numpy as np\n",
    "import requests\n",
    "import time\n",
    "from scipy.stats import linregress\n",
    "\n",
    "# Import API key\n",
    "from api_keys import weather_api_key\n",
    "\n",
    "# Incorporated citipy to determine city based on latitude and longitude\n",
    "from citipy import citipy\n",
    "\n",
    "# Output File (CSV)\n",
    "output_data_file = \"output_data/cities.csv\"\n",
    "\n",
    "# Range of latitudes and longitudes\n",
    "lat_range = (-90, 90)\n",
    "lng_range = (-180, 180)"
   ]
  },
  {
   "cell_type": "markdown",
   "metadata": {},
   "source": [
    "## Generate Cities List"
   ]
  },
  {
   "cell_type": "code",
   "execution_count": 2,
   "metadata": {},
   "outputs": [
    {
     "data": {
      "text/plain": [
       "628"
      ]
     },
     "execution_count": 2,
     "metadata": {},
     "output_type": "execute_result"
    }
   ],
   "source": [
    "# List for holding lat_lngs and cities\n",
    "lat_lngs = []\n",
    "cities = []\n",
    "\n",
    "# Create a set of random lat and lng combinations\n",
    "lats = np.random.uniform(low=-90.000, high=90.000, size=1500)\n",
    "lngs = np.random.uniform(low=-180.000, high=180.000, size=1500)\n",
    "lat_lngs = zip(lats, lngs)\n",
    "\n",
    "# Identify nearest city for each lat, lng combination\n",
    "for lat_lng in lat_lngs:\n",
    "    city = citipy.nearest_city(lat_lng[0], lat_lng[1]).city_name\n",
    "    \n",
    "    # If the city is unique, then add it to a our cities list\n",
    "    if city not in cities:\n",
    "        cities.append(city)\n",
    "\n",
    "# Print the city count to confirm sufficient count\n",
    "len(cities)"
   ]
  },
  {
   "cell_type": "markdown",
   "metadata": {},
   "source": [
    "### Perform API Calls\n",
    "* Perform a weather check on each city using a series of successive API calls.\n",
    "* Include a print log of each city as it'sbeing processed (with the city number and city name).\n"
   ]
  },
  {
   "cell_type": "code",
   "execution_count": 3,
   "metadata": {},
   "outputs": [
    {
     "name": "stdout",
     "output_type": "stream",
     "text": [
      "cabedelo\n",
      "punta arenas\n",
      "severo-kurilsk\n",
      "butaritari\n",
      "fort nelson\n",
      "rawson\n",
      "portland\n",
      "mataura\n",
      "bredasdorp\n",
      "cabo san lucas\n",
      "gouyave\n",
      "rikitea\n",
      "teloloapan\n",
      "tema\n",
      "grand river south east\n",
      "lagoa\n",
      "hirara\n",
      "mar del plata\n",
      "ushuaia\n",
      "kavieng\n",
      "alofi\n",
      "hobart\n",
      "bluff\n",
      "busselton\n",
      "hithadhoo\n",
      "upernavik\n",
      "lorengau\n",
      "arlit\n",
      "constitucion\n",
      "aginskoye\n",
      "kayankulam\n",
      "viedma\n",
      "nizhneyansk\n",
      "umzimvubu\n",
      "waddan\n",
      "ponta do sol\n",
      "naustdal\n",
      "porto santo\n",
      "yar-sale\n",
      "jamestown\n",
      "new norfolk\n",
      "bengkulu\n",
      "kapaa\n",
      "matay\n",
      "hilo\n",
      "biak\n",
      "saskylakh\n",
      "arraial do cabo\n",
      "castro\n",
      "victoria\n",
      "lakes entrance\n",
      "chuy\n",
      "east london\n",
      "yellowknife\n",
      "kars\n",
      "kodiak\n",
      "praia da vitoria\n",
      "atuona\n",
      "phan thiet\n",
      "harper\n",
      "phnum penh\n",
      "albany\n",
      "deer lake\n",
      "san cristobal\n",
      "tasiilaq\n",
      "stykkisholmur\n",
      "chokurdakh\n",
      "dumbravita\n",
      "vaini\n",
      "brae\n",
      "cabo rojo\n",
      "phan rang\n",
      "kavaratti\n",
      "rivadavia\n",
      "barentsburg\n",
      "taolanaro\n",
      "rio claro\n",
      "kigoma\n",
      "tuatapere\n",
      "mehamn\n",
      "rupert\n",
      "pevek\n",
      "nivala\n",
      "barrow\n",
      "auki\n",
      "provideniya\n",
      "te anau\n",
      "marawi\n",
      "puerto ayora\n",
      "hermanus\n",
      "tessalit\n",
      "dikson\n",
      "bethel\n",
      "nikolskoye\n",
      "severiano melo\n",
      "ponta delgada\n",
      "buqayq\n",
      "thaton\n",
      "severnyy\n",
      "stephenville\n",
      "lhokseumawe\n",
      "cherskiy\n",
      "esso\n",
      "verkhnevilyuysk\n",
      "lethem\n",
      "luderitz\n",
      "calvinia\n",
      "lolua\n",
      "xining\n",
      "roma\n",
      "padang\n",
      "vostok\n",
      "saint-philippe\n",
      "narsaq\n",
      "mys shmidta\n",
      "toora-khem\n",
      "caravelas\n",
      "umm kaddadah\n",
      "peniche\n",
      "oneonta\n",
      "yerbogachen\n",
      "salalah\n",
      "ushtobe\n",
      "sentyabrskiy\n",
      "taoudenni\n",
      "kamaishi\n",
      "zlatoustovsk\n",
      "son la\n",
      "skjervoy\n",
      "northam\n",
      "bac lieu\n",
      "kontagora\n",
      "high level\n",
      "cabatuan\n",
      "marovoay\n",
      "sinazongwe\n",
      "olinda\n",
      "aswan\n",
      "petropavlovsk-kamchatskiy\n",
      "port alfred\n",
      "usevya\n",
      "bissora\n",
      "pak phanang\n",
      "pisco\n",
      "naifaru\n",
      "vardo\n",
      "waipawa\n",
      "doha\n",
      "lahat\n",
      "bambous virieux\n",
      "iqaluit\n",
      "neka\n",
      "usakos\n",
      "bismarck\n",
      "sheridan\n",
      "baker city\n",
      "puerto del rosario\n",
      "nexo\n",
      "vestmannaeyjar\n",
      "sambava\n",
      "araouane\n",
      "lebu\n",
      "abha\n",
      "tahoua\n",
      "khonuu\n",
      "ayagoz\n",
      "dhanaura\n",
      "tsihombe\n",
      "erenhot\n",
      "qandahar\n",
      "poum\n",
      "nevsehir\n",
      "okha\n",
      "sitka\n",
      "kamenka\n",
      "olga\n",
      "manaus\n",
      "tiksi\n",
      "manuk mangkaw\n",
      "rocha\n",
      "shubarshi\n",
      "san patricio\n",
      "san policarpo\n",
      "yunjinghong\n",
      "miri\n",
      "palabuhanratu\n",
      "azimur\n",
      "marsh harbour\n",
      "upata\n",
      "uinskoye\n",
      "jasper\n",
      "sungaipenuh\n",
      "longyearbyen\n",
      "ordzhonikidze\n",
      "san carlos de bariloche\n",
      "tutoia\n",
      "tuktoyaktuk\n",
      "saint albans\n",
      "kromberk\n",
      "neiafu\n",
      "kruisfontein\n",
      "khuzdar\n",
      "eureka\n",
      "tumannyy\n",
      "juneau\n",
      "willmar\n",
      "cape town\n",
      "zwickau\n",
      "boa vista\n",
      "laureles\n",
      "karpathos\n",
      "puerto ayacucho\n",
      "lavrentiya\n",
      "mayo\n",
      "la ronge\n",
      "thompson\n",
      "male\n",
      "maltahohe\n",
      "falealupo\n",
      "aklavik\n",
      "haines junction\n",
      "sakakah\n",
      "svetlyy\n",
      "singkang\n",
      "krasnyy yar\n",
      "omaruru\n",
      "jiwani\n",
      "hasaki\n",
      "amderma\n",
      "clyde river\n",
      "khatanga\n",
      "carnarvon\n",
      "bandar-e lengeh\n",
      "walvis bay\n",
      "labuan\n",
      "birin\n",
      "ribeira grande\n",
      "torbay\n",
      "marfino\n",
      "oksfjord\n",
      "tabou\n",
      "gayny\n",
      "samusu\n",
      "illoqqortoormiut\n",
      "port elizabeth\n",
      "sakaraha\n",
      "baoqing\n",
      "coahuayana\n",
      "olden\n",
      "carutapera\n",
      "port-gentil\n",
      "marsabit\n",
      "kaitangata\n",
      "wa\n",
      "madimba\n",
      "campana\n",
      "souillac\n",
      "buzmeyin\n",
      "belushya guba\n",
      "avarua\n",
      "dwarka\n",
      "kemise\n",
      "bakchar\n",
      "wanaka\n",
      "abu samrah\n",
      "qaanaaq\n",
      "pekalongan\n",
      "nishihara\n",
      "navolato\n",
      "maldonado\n",
      "gunnedah\n",
      "cooma\n",
      "glenwood springs\n",
      "imbituba\n",
      "kommunisticheskiy\n",
      "boissevain\n",
      "katsuura\n",
      "hamilton\n",
      "muros\n",
      "faanui\n",
      "banjarmasin\n",
      "griffith\n",
      "inhambane\n",
      "kabanjahe\n",
      "conceicao do araguaia\n",
      "palmer\n",
      "mao\n",
      "rawannawi\n",
      "tecoanapa\n",
      "deputatskiy\n",
      "shizunai\n",
      "kozhevnikovo\n",
      "pacific grove\n",
      "sobolevo\n",
      "alihe\n",
      "iskateley\n",
      "camocim\n",
      "saint george\n",
      "georgetown\n",
      "oistins\n",
      "atar\n",
      "nagai\n",
      "sukhobezvodnoye\n",
      "requena\n",
      "korla\n",
      "mtambile\n",
      "johi\n",
      "balkanabat\n",
      "kahului\n",
      "baiyin\n",
      "wanning\n",
      "camacha\n",
      "fushan\n",
      "meulaboh\n",
      "anadyr\n",
      "zell am see\n",
      "mount isa\n",
      "zhangye\n",
      "nanortalik\n",
      "ngunguru\n",
      "bintulu\n",
      "gilgil\n",
      "svetlogorsk\n",
      "pundaguitan\n",
      "gobabis\n",
      "bonthe\n",
      "hofn\n",
      "quatre cocos\n",
      "tazovskiy\n",
      "pasighat\n",
      "alekseyevka\n",
      "la paz\n",
      "odweyne\n",
      "mezen\n",
      "tiarei\n",
      "shakawe\n",
      "klaksvik\n",
      "sayansk\n",
      "nouadhibou\n",
      "bilma\n",
      "byron bay\n",
      "ahar\n",
      "kendari\n",
      "si bun ruang\n",
      "fevralsk\n",
      "muscat\n",
      "kantunilkin\n",
      "bam\n",
      "mahebourg\n",
      "monduli\n",
      "marzuq\n",
      "husavik\n",
      "ugoofaaru\n",
      "borazjan\n",
      "kita\n",
      "rostovka\n",
      "vaitupu\n",
      "muli\n",
      "jalu\n",
      "hami\n",
      "guilin\n",
      "kaeo\n",
      "argentan\n",
      "huilong\n",
      "camacupa\n",
      "goderich\n",
      "isangel\n",
      "rungata\n",
      "saldanha\n",
      "jinka\n",
      "los llanos de aridane\n",
      "qiryat shemona\n",
      "salta\n",
      "bhadasar\n",
      "dukat\n",
      "lasa\n",
      "uspenka\n",
      "petropavlovka\n",
      "mhango\n",
      "chegdomyn\n",
      "cidreira\n",
      "matara\n",
      "lac du bonnet\n",
      "sao felix do xingu\n",
      "baley\n",
      "attawapiskat\n",
      "chakia\n",
      "mandalgovi\n",
      "oranjestad\n",
      "zhireken\n",
      "yaan\n",
      "sunndalsora\n",
      "karimpur\n",
      "nantucket\n",
      "talaya\n",
      "cayenne\n",
      "moate\n",
      "talladega\n",
      "apaxtla\n",
      "leninskoye\n",
      "geraldton\n",
      "ajdabiya\n",
      "chabahar\n",
      "lazaro cardenas\n",
      "kozhva\n",
      "fuente de oro\n",
      "gzhatsk\n",
      "kysyl-syr\n",
      "qostanay\n",
      "grootfontein\n",
      "ishigaki\n",
      "solvychegodsk\n",
      "abu dhabi\n",
      "port hedland\n",
      "karaul\n",
      "aromashevo\n",
      "katherine\n",
      "berlevag\n",
      "maniwaki\n",
      "college\n",
      "moose factory\n",
      "ixtapa\n",
      "talnakh\n",
      "sazonovo\n",
      "laukaa\n",
      "houston\n",
      "ostersund\n",
      "margate\n",
      "skagastrond\n",
      "jardim\n",
      "warqla\n",
      "victor harbor\n",
      "ilinskiy\n",
      "mokhsogollokh\n",
      "ancud\n",
      "smirnykh\n",
      "port shepstone\n",
      "durban\n",
      "necochea\n",
      "dudinka\n",
      "karratha\n",
      "honiara\n",
      "garowe\n",
      "flinders\n",
      "saint anthony\n",
      "aligudarz\n",
      "faya\n",
      "tabuk\n",
      "westport\n",
      "baruun-urt\n",
      "oxapampa\n",
      "kiama\n",
      "monrovia\n",
      "itarana\n",
      "zapolyarnyy\n",
      "luang prabang\n",
      "kutum\n",
      "riyadh\n",
      "don benito\n",
      "qaqortoq\n",
      "hobyo\n",
      "dianopolis\n",
      "shakiso\n",
      "coquimbo\n",
      "manokwari\n",
      "qasigiannguit\n",
      "biltine\n",
      "salinopolis\n",
      "merauke\n",
      "bathsheba\n",
      "nome\n",
      "norman wells\n",
      "seoul\n",
      "san vicente\n",
      "abonnema\n",
      "ahuimanu\n",
      "jega\n",
      "verkhniy baskunchak\n",
      "temaraia\n",
      "kawalu\n",
      "kaltenkirchen\n",
      "galle\n",
      "homer\n",
      "ilanskiy\n",
      "srednekolymsk\n",
      "stornoway\n",
      "hervey bay\n",
      "beloha\n",
      "avera\n",
      "naze\n",
      "dunedin\n",
      "registro\n",
      "saleaula\n",
      "asau\n",
      "puerto escondido\n",
      "gopalpur\n",
      "koumac\n",
      "moshkovo\n",
      "beringovskiy\n",
      "halalo\n",
      "dire dawa\n",
      "borba\n",
      "banjar\n",
      "vanimo\n",
      "yulara\n",
      "touros\n",
      "airai\n",
      "aksarka\n",
      "hambantota\n",
      "termoli\n",
      "nizhniy kuranakh\n",
      "poddorye\n",
      "itarema\n",
      "ampanihy\n",
      "tlahualilo\n",
      "pontes e lacerda\n",
      "conneaut\n",
      "ulladulla\n",
      "rio grande\n",
      "xinzhou\n",
      "macaboboni\n",
      "imeni poliny osipenko\n",
      "prince rupert\n",
      "rimavska sobota\n",
      "leningradskiy\n",
      "vila velha\n",
      "lambarene\n",
      "gerash\n",
      "tabialan\n",
      "chute-aux-outardes\n",
      "halifax\n",
      "farafangana\n",
      "ketchikan\n",
      "visby\n",
      "armacao dos buzios\n",
      "nambucca heads\n",
      "cheney\n",
      "ust-ilimsk\n",
      "qui nhon\n",
      "kobyzhcha\n",
      "fairbanks\n",
      "sao filipe\n",
      "andenes\n",
      "saint-joseph\n",
      "urfa\n",
      "san joaquin\n",
      "bang saphan\n",
      "ottumwa\n",
      "xiangfan\n",
      "hluti\n",
      "itoman\n",
      "seddon\n",
      "cutler\n",
      "gisborne\n",
      "kungurtug\n",
      "puerto baquerizo moreno\n",
      "grand gaube\n",
      "kaseda\n",
      "kununurra\n",
      "saint-pierre\n",
      "pangody\n",
      "nova olimpia\n",
      "sabha\n",
      "samarai\n",
      "smithers\n",
      "ust-omchug\n",
      "dubbo\n",
      "codrington\n",
      "banda aceh\n",
      "mitchell\n",
      "port lincoln\n",
      "san andres\n",
      "takoradi\n",
      "ylojarvi\n",
      "rumonge\n",
      "we\n",
      "palaiokhora\n",
      "tilichiki\n",
      "bani walid\n",
      "noyabrsk\n",
      "ust-tsilma\n",
      "fuerte olimpo\n",
      "quesnel\n",
      "pahrump\n",
      "urdoma\n",
      "champerico\n",
      "taguatinga\n",
      "scarborough\n",
      "ahipara\n",
      "saint-francois\n",
      "hualmay\n",
      "adrar\n",
      "joensuu\n",
      "kirkwood\n",
      "abapo\n",
      "vanavara\n",
      "gorno-chuyskiy\n",
      "marcona\n",
      "qeshm\n",
      "jaszszentandras\n",
      "eirunepe\n",
      "romanovka\n",
      "sinegorye\n",
      "hermiston\n",
      "bon accord\n",
      "kupang\n",
      "japura\n",
      "zhukovka\n",
      "santa barbara\n",
      "pokrovka\n",
      "tubruq\n",
      "ulaanbaatar\n",
      "plettenberg bay\n",
      "jieshi\n",
      "marystown\n",
      "laramie\n",
      "mongu\n",
      "uddevalla\n",
      "ubinskoye\n",
      "viransehir\n",
      "charlestown\n",
      "axim\n",
      "prudyanka\n",
      "tehachapi\n",
      "maputo\n",
      "san quintin\n",
      "kapoeta\n",
      "pinawa\n"
     ]
    }
   ],
   "source": [
    "url = \"http://api.openweathermap.org/data/2.5/weather?\"\n",
    "units = \"imperial\"\n",
    "\n",
    "lat = []\n",
    "lng = []\n",
    "city_id = []\n",
    "wind = []\n",
    "hum = []\n",
    "max_tmp = []\n",
    "country = []\n",
    "cloudiness = []\n",
    "city_name = []\n",
    "date = []\n",
    "\n",
    "for city in cities:\n",
    "    try:\n",
    "        query_url = f\"{url}appid={weather_api_key}&units={units}&q={city}\"\n",
    "        response = requests.get(query_url).json()\n",
    "        lat.append(response['coord']['lat'])\n",
    "        lng.append(response['coord']['lon'])\n",
    "        cloudiness.append(response['clouds']['all'])\n",
    "        wind.append(response['wind']['speed'])\n",
    "        hum.append(response['main']['humidity'])\n",
    "        max_tmp.append(response['main']['temp_max'])\n",
    "        country.append(response['sys']['country'])\n",
    "        city_id.append(response['id'])\n",
    "        city_name.append(response['name'])\n",
    "        date.append(response['dt'])\n",
    "        #print(f\"Processing {cities[city]} | {city}\")\n",
    "    except: KeyError \n",
    "        \n",
    "       #print(f\"No data returnd for \" {city}: \"skipping.\")\n",
    "        \n",
    "        \n",
    "    \n",
    "    print(city)\n"
   ]
  },
  {
   "cell_type": "markdown",
   "metadata": {},
   "source": [
    "### Convert Raw Data to DataFrame\n",
    "* Export the city data into a .csv.\n",
    "* Display the DataFrame"
   ]
  },
  {
   "cell_type": "code",
   "execution_count": 6,
   "metadata": {},
   "outputs": [
    {
     "data": {
      "text/html": [
       "<div>\n",
       "<style scoped>\n",
       "    .dataframe tbody tr th:only-of-type {\n",
       "        vertical-align: middle;\n",
       "    }\n",
       "\n",
       "    .dataframe tbody tr th {\n",
       "        vertical-align: top;\n",
       "    }\n",
       "\n",
       "    .dataframe thead th {\n",
       "        text-align: right;\n",
       "    }\n",
       "</style>\n",
       "<table border=\"1\" class=\"dataframe\">\n",
       "  <thead>\n",
       "    <tr style=\"text-align: right;\">\n",
       "      <th></th>\n",
       "      <th>City Name</th>\n",
       "      <th>Cloudiness</th>\n",
       "      <th>Country</th>\n",
       "      <th>Date</th>\n",
       "      <th>Humidity</th>\n",
       "      <th>Latitude</th>\n",
       "      <th>Longitude</th>\n",
       "      <th>Max Temperature</th>\n",
       "      <th>Wind Speed</th>\n",
       "    </tr>\n",
       "  </thead>\n",
       "  <tbody>\n",
       "    <tr>\n",
       "      <td>0</td>\n",
       "      <td>Cabedelo</td>\n",
       "      <td>75</td>\n",
       "      <td>BR</td>\n",
       "      <td>1579917004</td>\n",
       "      <td>88</td>\n",
       "      <td>-6.98</td>\n",
       "      <td>-34.83</td>\n",
       "      <td>78.80</td>\n",
       "      <td>4.70</td>\n",
       "    </tr>\n",
       "    <tr>\n",
       "      <td>1</td>\n",
       "      <td>Punta Arenas</td>\n",
       "      <td>20</td>\n",
       "      <td>CL</td>\n",
       "      <td>1579916809</td>\n",
       "      <td>76</td>\n",
       "      <td>-53.15</td>\n",
       "      <td>-70.92</td>\n",
       "      <td>48.20</td>\n",
       "      <td>10.38</td>\n",
       "    </tr>\n",
       "    <tr>\n",
       "      <td>2</td>\n",
       "      <td>Severo-Kuril'sk</td>\n",
       "      <td>95</td>\n",
       "      <td>RU</td>\n",
       "      <td>1579917005</td>\n",
       "      <td>90</td>\n",
       "      <td>50.68</td>\n",
       "      <td>156.12</td>\n",
       "      <td>17.17</td>\n",
       "      <td>41.03</td>\n",
       "    </tr>\n",
       "    <tr>\n",
       "      <td>3</td>\n",
       "      <td>Butaritari</td>\n",
       "      <td>100</td>\n",
       "      <td>KI</td>\n",
       "      <td>1579917005</td>\n",
       "      <td>71</td>\n",
       "      <td>3.07</td>\n",
       "      <td>172.79</td>\n",
       "      <td>84.51</td>\n",
       "      <td>3.96</td>\n",
       "    </tr>\n",
       "    <tr>\n",
       "      <td>4</td>\n",
       "      <td>Fort Nelson</td>\n",
       "      <td>90</td>\n",
       "      <td>CA</td>\n",
       "      <td>1579917005</td>\n",
       "      <td>85</td>\n",
       "      <td>58.81</td>\n",
       "      <td>-122.70</td>\n",
       "      <td>10.40</td>\n",
       "      <td>2.24</td>\n",
       "    </tr>\n",
       "  </tbody>\n",
       "</table>\n",
       "</div>"
      ],
      "text/plain": [
       "         City Name  Cloudiness Country        Date  Humidity  Latitude  \\\n",
       "0         Cabedelo          75      BR  1579917004        88     -6.98   \n",
       "1     Punta Arenas          20      CL  1579916809        76    -53.15   \n",
       "2  Severo-Kuril'sk          95      RU  1579917005        90     50.68   \n",
       "3       Butaritari         100      KI  1579917005        71      3.07   \n",
       "4      Fort Nelson          90      CA  1579917005        85     58.81   \n",
       "\n",
       "   Longitude  Max Temperature  Wind Speed  \n",
       "0     -34.83            78.80        4.70  \n",
       "1     -70.92            48.20       10.38  \n",
       "2     156.12            17.17       41.03  \n",
       "3     172.79            84.51        3.96  \n",
       "4    -122.70            10.40        2.24  "
      ]
     },
     "execution_count": 6,
     "metadata": {},
     "output_type": "execute_result"
    }
   ],
   "source": [
    "weather_dict = {\n",
    "    \"City Name\": city_name,\n",
    "    \"Cloudiness\": cloudiness,\n",
    "    \"Country\": country,\n",
    "    \"Date\": date,\n",
    "    \"Humidity\": hum,\n",
    "    \"Latitude\": lat,\n",
    "    \"Longitude\": lng,\n",
    "    \"Max Temperature\": max_tmp,\n",
    "    \"Wind Speed\": wind\n",
    "    \n",
    "}\n",
    "\n",
    "weather_df = pd.DataFrame(weather_dict)\n",
    "\n",
    "weather_df.to_csv(output_data_file)\n",
    "\n",
    "weather_df.head()"
   ]
  },
  {
   "cell_type": "code",
   "execution_count": 7,
   "metadata": {},
   "outputs": [
    {
     "data": {
      "text/html": [
       "<div>\n",
       "<style scoped>\n",
       "    .dataframe tbody tr th:only-of-type {\n",
       "        vertical-align: middle;\n",
       "    }\n",
       "\n",
       "    .dataframe tbody tr th {\n",
       "        vertical-align: top;\n",
       "    }\n",
       "\n",
       "    .dataframe thead th {\n",
       "        text-align: right;\n",
       "    }\n",
       "</style>\n",
       "<table border=\"1\" class=\"dataframe\">\n",
       "  <thead>\n",
       "    <tr style=\"text-align: right;\">\n",
       "      <th></th>\n",
       "      <th>City Name</th>\n",
       "      <th>Cloudiness</th>\n",
       "      <th>Country</th>\n",
       "      <th>Date</th>\n",
       "      <th>Humidity</th>\n",
       "      <th>Latitude</th>\n",
       "      <th>Longitude</th>\n",
       "      <th>Max Temperature</th>\n",
       "      <th>Wind Speed</th>\n",
       "    </tr>\n",
       "  </thead>\n",
       "  <tbody>\n",
       "    <tr>\n",
       "      <td>0</td>\n",
       "      <td>Cabedelo</td>\n",
       "      <td>75</td>\n",
       "      <td>BR</td>\n",
       "      <td>1579917004</td>\n",
       "      <td>88</td>\n",
       "      <td>-6.98</td>\n",
       "      <td>-34.83</td>\n",
       "      <td>78.80</td>\n",
       "      <td>4.70</td>\n",
       "    </tr>\n",
       "    <tr>\n",
       "      <td>1</td>\n",
       "      <td>Punta Arenas</td>\n",
       "      <td>20</td>\n",
       "      <td>CL</td>\n",
       "      <td>1579916809</td>\n",
       "      <td>76</td>\n",
       "      <td>-53.15</td>\n",
       "      <td>-70.92</td>\n",
       "      <td>48.20</td>\n",
       "      <td>10.38</td>\n",
       "    </tr>\n",
       "    <tr>\n",
       "      <td>5</td>\n",
       "      <td>Rawson</td>\n",
       "      <td>100</td>\n",
       "      <td>AR</td>\n",
       "      <td>1579917005</td>\n",
       "      <td>47</td>\n",
       "      <td>-43.30</td>\n",
       "      <td>-65.10</td>\n",
       "      <td>70.02</td>\n",
       "      <td>30.87</td>\n",
       "    </tr>\n",
       "    <tr>\n",
       "      <td>7</td>\n",
       "      <td>Mataura</td>\n",
       "      <td>72</td>\n",
       "      <td>NZ</td>\n",
       "      <td>1579917005</td>\n",
       "      <td>63</td>\n",
       "      <td>-46.19</td>\n",
       "      <td>168.86</td>\n",
       "      <td>66.99</td>\n",
       "      <td>5.01</td>\n",
       "    </tr>\n",
       "    <tr>\n",
       "      <td>8</td>\n",
       "      <td>Bredasdorp</td>\n",
       "      <td>26</td>\n",
       "      <td>ZA</td>\n",
       "      <td>1579917005</td>\n",
       "      <td>94</td>\n",
       "      <td>-34.53</td>\n",
       "      <td>20.04</td>\n",
       "      <td>68.00</td>\n",
       "      <td>1.30</td>\n",
       "    </tr>\n",
       "  </tbody>\n",
       "</table>\n",
       "</div>"
      ],
      "text/plain": [
       "      City Name  Cloudiness Country        Date  Humidity  Latitude  \\\n",
       "0      Cabedelo          75      BR  1579917004        88     -6.98   \n",
       "1  Punta Arenas          20      CL  1579916809        76    -53.15   \n",
       "5        Rawson         100      AR  1579917005        47    -43.30   \n",
       "7       Mataura          72      NZ  1579917005        63    -46.19   \n",
       "8    Bredasdorp          26      ZA  1579917005        94    -34.53   \n",
       "\n",
       "   Longitude  Max Temperature  Wind Speed  \n",
       "0     -34.83            78.80        4.70  \n",
       "1     -70.92            48.20       10.38  \n",
       "5     -65.10            70.02       30.87  \n",
       "7     168.86            66.99        5.01  \n",
       "8      20.04            68.00        1.30  "
      ]
     },
     "execution_count": 7,
     "metadata": {},
     "output_type": "execute_result"
    }
   ],
   "source": [
    "south_forgets = weather_df.loc[weather_df[\"Latitude\"]<= 0, :]\n",
    "\n",
    "south_forgets.head()"
   ]
  },
  {
   "cell_type": "code",
   "execution_count": 8,
   "metadata": {},
   "outputs": [
    {
     "data": {
      "text/html": [
       "<div>\n",
       "<style scoped>\n",
       "    .dataframe tbody tr th:only-of-type {\n",
       "        vertical-align: middle;\n",
       "    }\n",
       "\n",
       "    .dataframe tbody tr th {\n",
       "        vertical-align: top;\n",
       "    }\n",
       "\n",
       "    .dataframe thead th {\n",
       "        text-align: right;\n",
       "    }\n",
       "</style>\n",
       "<table border=\"1\" class=\"dataframe\">\n",
       "  <thead>\n",
       "    <tr style=\"text-align: right;\">\n",
       "      <th></th>\n",
       "      <th>City Name</th>\n",
       "      <th>Cloudiness</th>\n",
       "      <th>Country</th>\n",
       "      <th>Date</th>\n",
       "      <th>Humidity</th>\n",
       "      <th>Latitude</th>\n",
       "      <th>Longitude</th>\n",
       "      <th>Max Temperature</th>\n",
       "      <th>Wind Speed</th>\n",
       "    </tr>\n",
       "  </thead>\n",
       "  <tbody>\n",
       "    <tr>\n",
       "      <td>2</td>\n",
       "      <td>Severo-Kuril'sk</td>\n",
       "      <td>95</td>\n",
       "      <td>RU</td>\n",
       "      <td>1579917005</td>\n",
       "      <td>90</td>\n",
       "      <td>50.68</td>\n",
       "      <td>156.12</td>\n",
       "      <td>17.17</td>\n",
       "      <td>41.03</td>\n",
       "    </tr>\n",
       "    <tr>\n",
       "      <td>3</td>\n",
       "      <td>Butaritari</td>\n",
       "      <td>100</td>\n",
       "      <td>KI</td>\n",
       "      <td>1579917005</td>\n",
       "      <td>71</td>\n",
       "      <td>3.07</td>\n",
       "      <td>172.79</td>\n",
       "      <td>84.51</td>\n",
       "      <td>3.96</td>\n",
       "    </tr>\n",
       "    <tr>\n",
       "      <td>4</td>\n",
       "      <td>Fort Nelson</td>\n",
       "      <td>90</td>\n",
       "      <td>CA</td>\n",
       "      <td>1579917005</td>\n",
       "      <td>85</td>\n",
       "      <td>58.81</td>\n",
       "      <td>-122.70</td>\n",
       "      <td>10.40</td>\n",
       "      <td>2.24</td>\n",
       "    </tr>\n",
       "    <tr>\n",
       "      <td>6</td>\n",
       "      <td>Portland</td>\n",
       "      <td>75</td>\n",
       "      <td>US</td>\n",
       "      <td>1579916716</td>\n",
       "      <td>81</td>\n",
       "      <td>45.52</td>\n",
       "      <td>-122.68</td>\n",
       "      <td>53.60</td>\n",
       "      <td>3.47</td>\n",
       "    </tr>\n",
       "    <tr>\n",
       "      <td>9</td>\n",
       "      <td>Cabo San Lucas</td>\n",
       "      <td>90</td>\n",
       "      <td>MX</td>\n",
       "      <td>1579917005</td>\n",
       "      <td>72</td>\n",
       "      <td>22.89</td>\n",
       "      <td>-109.91</td>\n",
       "      <td>69.01</td>\n",
       "      <td>4.70</td>\n",
       "    </tr>\n",
       "  </tbody>\n",
       "</table>\n",
       "</div>"
      ],
      "text/plain": [
       "         City Name  Cloudiness Country        Date  Humidity  Latitude  \\\n",
       "2  Severo-Kuril'sk          95      RU  1579917005        90     50.68   \n",
       "3       Butaritari         100      KI  1579917005        71      3.07   \n",
       "4      Fort Nelson          90      CA  1579917005        85     58.81   \n",
       "6         Portland          75      US  1579916716        81     45.52   \n",
       "9   Cabo San Lucas          90      MX  1579917005        72     22.89   \n",
       "\n",
       "   Longitude  Max Temperature  Wind Speed  \n",
       "2     156.12            17.17       41.03  \n",
       "3     172.79            84.51        3.96  \n",
       "4    -122.70            10.40        2.24  \n",
       "6    -122.68            53.60        3.47  \n",
       "9    -109.91            69.01        4.70  "
      ]
     },
     "execution_count": 8,
     "metadata": {},
     "output_type": "execute_result"
    }
   ],
   "source": [
    "north_remembers = weather_df.loc[weather_df[\"Latitude\"] >= 0, :]\n",
    "\n",
    "\n",
    "north_remembers.head()"
   ]
  },
  {
   "cell_type": "markdown",
   "metadata": {},
   "source": [
    "### Plotting the Data\n",
    "* Use proper labeling of the plots using plot titles (including date of analysis) and axes labels.\n",
    "* Save the plotted figures as .pngs."
   ]
  },
  {
   "cell_type": "markdown",
   "metadata": {},
   "source": [
    "#### Latitude vs. Temperature Plot"
   ]
  },
  {
   "cell_type": "code",
   "execution_count": 9,
   "metadata": {
    "scrolled": true
   },
   "outputs": [
    {
     "data": {
      "image/png": "[encoded data removed]",
      "text/plain": [
       "<Figure size 432x288 with 1 Axes>"
      ]
     },
     "metadata": {
      "needs_background": "light"
     },
     "output_type": "display_data"
    }
   ],
   "source": [
    "plt.title(\"City Latitude vs. Max Temperature\")\n",
    "plt.xlabel(\"Latitude\")\n",
    "plt.ylabel(\"Max Temp\")\n",
    "\n",
    "plt.scatter(weather_df[[\"Latitude\"]], weather_df[[\"Max Temperature\"]], marker=\"o\", color=\"green\")\n",
    "plt.show()"
   ]
  },
  {
   "cell_type": "markdown",
   "metadata": {},
   "source": [
    "#### Latitude vs. Humidity Plot"
   ]
  },
  {
   "cell_type": "code",
   "execution_count": 10,
   "metadata": {},
   "outputs": [
    {
     "data": {
      "image/png": "[encoded data removed]",
      "text/plain": [
       "<Figure size 432x288 with 1 Axes>"
      ]
     },
     "metadata": {
      "needs_background": "light"
     },
     "output_type": "display_data"
    }
   ],
   "source": [
    "plt.title(\"City Latitude vs. Humidity\")\n",
    "plt.xlabel(\"Latitude\")\n",
    "plt.ylabel(\"Humidity\")\n",
    "\n",
    "plt.scatter(weather_df[[\"Latitude\"]], weather_df[[\"Humidity\"]], marker=\"o\", color=\"green\")\n",
    "plt.show()"
   ]
  },
  {
   "cell_type": "markdown",
   "metadata": {},
   "source": [
    "#### Latitude vs. Cloudiness Plot"
   ]
  },
  {
   "cell_type": "code",
   "execution_count": 11,
   "metadata": {},
   "outputs": [
    {
     "data": {
      "image/png": "[encoded data removed]",
      "text/plain": [
       "<Figure size 432x288 with 1 Axes>"
      ]
     },
     "metadata": {
      "needs_background": "light"
     },
     "output_type": "display_data"
    }
   ],
   "source": [
    "plt.title(\"City Latitude vs. Cloudiness\")\n",
    "plt.xlabel(\"Latitude\")\n",
    "plt.ylabel(\"Cloudiness\")\n",
    "\n",
    "plt.scatter(weather_df[[\"Latitude\"]], weather_df[[\"Cloudiness\"]], marker=\"o\", color=\"green\")\n",
    "plt.show()"
   ]
  },
  {
   "cell_type": "markdown",
   "metadata": {},
   "source": [
    "#### Latitude vs. Wind Speed Plot"
   ]
  },
  {
   "cell_type": "code",
   "execution_count": 12,
   "metadata": {},
   "outputs": [
    {
     "data": {
      "image/png": "[encoded data removed]",
      "text/plain": [
       "<Figure size 432x288 with 1 Axes>"
      ]
     },
     "metadata": {
      "needs_background": "light"
     },
     "output_type": "display_data"
    }
   ],
   "source": [
    "plt.title(\"City Latitude vs. Wind Speed (mph)\")\n",
    "plt.xlabel(\"Latitude\")\n",
    "plt.ylabel(\"Wind Speed (mph)\")\n",
    "\n",
    "plt.scatter(weather_df[[\"Latitude\"]], weather_df[[\"Wind Speed\"]], marker=\"o\", color=\"green\")\n",
    "plt.show()"
   ]
  },
  {
   "cell_type": "markdown",
   "metadata": {},
   "source": [
    "## Linear Regression"
   ]
  },
  {
   "cell_type": "code",
   "execution_count": 13,
   "metadata": {},
   "outputs": [],
   "source": [
    "# OPTIONAL: Create a function to create Linear Regression plots\n"
   ]
  },
  {
   "cell_type": "code",
   "execution_count": 14,
   "metadata": {},
   "outputs": [],
   "source": [
    "# Create Northern and Southern Hemisphere DataFrames\n"
   ]
  },
  {
   "cell_type": "markdown",
   "metadata": {},
   "source": [
    "####  Northern Hemisphere - Max Temp vs. Latitude Linear Regression"
   ]
  },
  {
   "cell_type": "code",
   "execution_count": 15,
   "metadata": {},
   "outputs": [
    {
     "data": {
      "image/png": "[encoded data removed]",
      "text/plain": [
       "<Figure size 432x288 with 1 Axes>"
      ]
     },
     "metadata": {
      "needs_background": "light"
     },
     "output_type": "display_data"
    }
   ],
   "source": [
    "x_values = north_remembers['Latitude']\n",
    "y_values = north_remembers['Max Temperature']\n",
    "(slope, intercept, rvalue, pvalue, stderr) = linregress(x_values, y_values)\n",
    "regress_values = x_values * slope + intercept\n",
    "line_eq = \"y = \" + str(round(slope,2)) + \"x + \" + str(round(intercept,2))\n",
    "plt.scatter(x_values,y_values)\n",
    "plt.plot(x_values,regress_values,\"r-\")\n",
    "plt.annotate(line_eq,(6,10),fontsize=15,color=\"red\")\n",
    "plt.xlabel('Latitude')\n",
    "plt.ylabel('Max Temperature')\n",
    "plt.show()"
   ]
  },
  {
   "cell_type": "markdown",
   "metadata": {},
   "source": [
    "####  Southern Hemisphere - Max Temp vs. Latitude Linear Regression"
   ]
  },
  {
   "cell_type": "code",
   "execution_count": 16,
   "metadata": {
    "scrolled": true
   },
   "outputs": [
    {
     "data": {
      "image/png": "[encoded data removed]",
      "text/plain": [
       "<Figure size 432x288 with 1 Axes>"
      ]
     },
     "metadata": {
      "needs_background": "light"
     },
     "output_type": "display_data"
    }
   ],
   "source": [
    "x_values = south_forgets['Latitude']\n",
    "y_values = south_forgets['Max Temperature']\n",
    "(slope, intercept, rvalue, pvalue, stderr) = linregress(x_values, y_values)\n",
    "regress_values = x_values * slope + intercept\n",
    "line_eq = \"y = \" + str(round(slope,2)) + \"x + \" + str(round(intercept,2))\n",
    "plt.scatter(x_values,y_values)\n",
    "plt.plot(x_values,regress_values,\"r-\")\n",
    "plt.annotate(line_eq,(6,10),fontsize=15,color=\"red\")\n",
    "plt.xlabel('Latitude')\n",
    "plt.ylabel('Max Temperature')\n",
    "plt.show()"
   ]
  },
  {
   "cell_type": "markdown",
   "metadata": {},
   "source": [
    "####  Northern Hemisphere - Humidity (%) vs. Latitude Linear Regression"
   ]
  },
  {
   "cell_type": "code",
   "execution_count": 17,
   "metadata": {},
   "outputs": [
    {
     "data": {
      "image/png": "[encoded data removed]",
      "text/plain": [
       "<Figure size 432x288 with 1 Axes>"
      ]
     },
     "metadata": {
      "needs_background": "light"
     },
     "output_type": "display_data"
    }
   ],
   "source": [
    "x_val = north_remembers['Latitude']\n",
    "y_val = north_remembers['Humidity']\n",
    "(slope, intercept, rvalue, pvalue, stderr) = linregress(x_val, y_val)\n",
    "regress_val = x_val * slope + intercept\n",
    "line_eq = \"y = \" + str(round(slope,2)) + \"x + \" + str(round(intercept,2))\n",
    "plt.scatter(x_val,y_val)\n",
    "plt.plot(x_val,regress_val,\"r-\")\n",
    "plt.annotate(line_eq,(6,10),fontsize=15,color=\"red\")\n",
    "plt.xlabel('Latitude')\n",
    "plt.ylabel('Humidity')\n",
    "plt.show()"
   ]
  },
  {
   "cell_type": "markdown",
   "metadata": {},
   "source": [
    "####  Southern Hemisphere - Humidity (%) vs. Latitude Linear Regression"
   ]
  },
  {
   "cell_type": "code",
   "execution_count": 18,
   "metadata": {},
   "outputs": [
    {
     "data": {
      "image/png": "[encoded data removed]",
      "text/plain": [
       "<Figure size 432x288 with 1 Axes>"
      ]
     },
     "metadata": {
      "needs_background": "light"
     },
     "output_type": "display_data"
    }
   ],
   "source": [
    "x_values = south_forgets['Latitude']\n",
    "y_values = south_forgets['Humidity']\n",
    "(slope, intercept, rvalue, pvalue, stderr) = linregress(x_values, y_values)\n",
    "regress_values = x_values * slope + intercept\n",
    "line_eq = \"y = \" + str(round(slope,2)) + \"x + \" + str(round(intercept,2))\n",
    "plt.scatter(x_values,y_values)\n",
    "plt.plot(x_values,regress_values,\"r-\")\n",
    "plt.annotate(line_eq,(6,10),fontsize=15,color=\"red\")\n",
    "plt.xlabel('Latitude')\n",
    "plt.ylabel('Humidity')\n",
    "plt.show()"
   ]
  },
  {
   "cell_type": "markdown",
   "metadata": {},
   "source": [
    "####  Northern Hemisphere - Cloudiness (%) vs. Latitude Linear Regression"
   ]
  },
  {
   "cell_type": "code",
   "execution_count": 19,
   "metadata": {},
   "outputs": [
    {
     "data": {
      "image/png": "[encoded data removed]",
      "text/plain": [
       "<Figure size 432x288 with 1 Axes>"
      ]
     },
     "metadata": {
      "needs_background": "light"
     },
     "output_type": "display_data"
    }
   ],
   "source": [
    "x_val = north_remembers['Latitude']\n",
    "y_val = north_remembers['Cloudiness']\n",
    "(slope, intercept, rvalue, pvalue, stderr) = linregress(x_val, y_val)\n",
    "regress_val = x_val * slope + intercept\n",
    "line_eq = \"y = \" + str(round(slope,2)) + \"x + \" + str(round(intercept,2))\n",
    "plt.scatter(x_val,y_val)\n",
    "plt.plot(x_val,regress_val,\"r-\")\n",
    "plt.annotate(line_eq,(6,10),fontsize=15,color=\"red\")\n",
    "plt.xlabel('Latitude')\n",
    "plt.ylabel('Cloudiness')\n",
    "plt.show()"
   ]
  },
  {
   "cell_type": "markdown",
   "metadata": {},
   "source": [
    "####  Southern Hemisphere - Cloudiness (%) vs. Latitude Linear Regression"
   ]
  },
  {
   "cell_type": "code",
   "execution_count": 20,
   "metadata": {},
   "outputs": [
    {
     "data": {
      "image/png": "[encoded data removed]",
      "text/plain": [
       "<Figure size 432x288 with 1 Axes>"
      ]
     },
     "metadata": {
      "needs_background": "light"
     },
     "output_type": "display_data"
    }
   ],
   "source": [
    "x_val = south_forgets['Latitude']\n",
    "y_val = south_forgets['Cloudiness']\n",
    "(slope, intercept, rvalue, pvalue, stderr) = linregress(x_val, y_val)\n",
    "regress_val = x_val * slope + intercept\n",
    "line_eq = \"y = \" + str(round(slope,2)) + \"x + \" + str(round(intercept,2))\n",
    "plt.scatter(x_val,y_val)\n",
    "plt.plot(x_val,regress_val,\"r-\")\n",
    "plt.annotate(line_eq,(6,10),fontsize=15,color=\"red\")\n",
    "plt.xlabel('Latitude')\n",
    "plt.ylabel('Cloudiness')\n",
    "plt.show()"
   ]
  },
  {
   "cell_type": "markdown",
   "metadata": {},
   "source": [
    "####  Northern Hemisphere - Wind Speed (mph) vs. Latitude Linear Regression"
   ]
  },
  {
   "cell_type": "code",
   "execution_count": 21,
   "metadata": {},
   "outputs": [
    {
     "data": {
      "image/png": "[encoded data removed]",
      "text/plain": [
       "<Figure size 432x288 with 1 Axes>"
      ]
     },
     "metadata": {
      "needs_background": "light"
     },
     "output_type": "display_data"
    }
   ],
   "source": [
    "x_val = north_remembers['Latitude']\n",
    "y_val = north_remembers['Wind Speed']\n",
    "(slope, intercept, rvalue, pvalue, stderr) = linregress(x_val, y_val)\n",
    "regress_val = x_val * slope + intercept\n",
    "line_eq = \"y = \" + str(round(slope,2)) + \"x + \" + str(round(intercept,2))\n",
    "plt.scatter(x_val,y_val)\n",
    "plt.plot(x_val,regress_val,\"r-\")\n",
    "plt.annotate(line_eq,(6,10),fontsize=15,color=\"red\")\n",
    "plt.xlabel('Latitude')\n",
    "plt.ylabel('Wind Speed (mph)')\n",
    "plt.show()"
   ]
  },
  {
   "cell_type": "markdown",
   "metadata": {},
   "source": [
    "####  Southern Hemisphere - Wind Speed (mph) vs. Latitude Linear Regression"
   ]
  },
  {
   "cell_type": "code",
   "execution_count": 22,
   "metadata": {},
   "outputs": [
    {
     "data": {
      "image/png": "[encoded data removed]",
      "text/plain": [
       "<Figure size 432x288 with 1 Axes>"
      ]
     },
     "metadata": {
      "needs_background": "light"
     },
     "output_type": "display_data"
    }
   ],
   "source": [
    "x_val = south_forgets['Latitude']\n",
    "y_val = south_forgets['Wind Speed']\n",
    "(slope, intercept, rvalue, pvalue, stderr) = linregress(x_val, y_val)\n",
    "regress_val = x_val * slope + intercept\n",
    "line_eq = \"y = \" + str(round(slope,2)) + \"x + \" + str(round(intercept,2))\n",
    "plt.scatter(x_val,y_val)\n",
    "plt.plot(x_val,regress_val,\"r-\")\n",
    "plt.annotate(line_eq,(6,10),fontsize=15,color=\"red\")\n",
    "plt.xlabel('Latitude')\n",
    "plt.ylabel('Wind Speed (mph)')\n",
    "plt.show()"
   ]
  },
  {
   "cell_type": "code",
   "execution_count": null,
   "metadata": {},
   "outputs": [],
   "source": []
  },
  {
   "cell_type": "code",
   "execution_count": null,
   "metadata": {},
   "outputs": [],
   "source": []
  },
  {
   "cell_type": "code",
   "execution_count": null,
   "metadata": {},
   "outputs": [],
   "source": []
  },
  {
   "cell_type": "code",
   "execution_count": null,
   "metadata": {},
   "outputs": [],
   "source": []
  }
 ],
 "metadata": {
  "anaconda-cloud": {},
  "kernel_info": {
   "name": "python3"
  },
  "kernelspec": {
   "display_name": "Python 3",
   "language": "python",
   "name": "python3"
  },
  "language_info": {
   "codemirror_mode": {
    "name": "ipython",
    "version": 3
   },
   "file_extension": ".py",
   "mimetype": "text/x-python",
   "name": "python",
   "nbconvert_exporter": "python",
   "pygments_lexer": "ipython3",
   "version": "3.7.4"
  },
  "latex_envs": {
   "LaTeX_envs_menu_present": true,
   "autoclose": false,
   "autocomplete": true,
   "bibliofile": "biblio.bib",
   "cite_by": "apalike",
   "current_citInitial": 1,
   "eqLabelWithNumbers": true,
   "eqNumInitial": 1,
   "hotkeys": {
    "equation": "Ctrl-E",
    "itemize": "Ctrl-I"
   },
   "labels_anchors": false,
   "latex_user_defs": false,
   "report_style_numbering": false,
   "user_envs_cfg": false
  },
  "nteract": {
   "version": "0.12.3"
  }
 },
 "nbformat": 4,
 "nbformat_minor": 2
}
