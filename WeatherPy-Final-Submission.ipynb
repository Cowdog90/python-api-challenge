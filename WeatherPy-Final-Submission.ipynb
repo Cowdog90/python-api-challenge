{
 "cells": [
  {
   "cell_type": "markdown",
   "metadata": {},
   "source": [
    "# WeatherPy\n",
    "----\n",
    "\n",
    "#### Note\n",
    "* Instructions have been included for each segment. You do not have to follow them exactly, but they are included to help you think through the steps."
   ]
  },
  {
   "cell_type": "code",
   "execution_count": null,
   "metadata": {
    "scrolled": true
   },
   "outputs": [],
   "source": [
    "# Dependencies and Setup\n",
    "import matplotlib.pyplot as plt\n",
    "import pandas as pd\n",
    "import numpy as np\n",
    "import requests\n",
    "import time\n",
    "from scipy.stats import linregress\n",
    "\n",
    "# Import API key\n",
    "from api_keys import weather_api_key\n",
    "\n",
    "# Incorporated citipy to determine city based on latitude and longitude\n",
    "from citipy import citipy\n",
    "\n",
    "# Output File (CSV)\n",
    "output_data_file = \"output_data/cities.csv\"\n",
    "\n",
    "# Range of latitudes and longitudes\n",
    "lat_range = (-90, 90)\n",
    "lng_range = (-180, 180)"
   ]
  },
  {
   "cell_type": "markdown",
   "metadata": {},
   "source": [
    "## Generate Cities List"
   ]
  },
  {
   "cell_type": "code",
   "execution_count": 2,
   "metadata": {},
   "outputs": [
    {
     "data": {
      "text/plain": [
       "608"
      ]
     },
     "execution_count": 2,
     "metadata": {},
     "output_type": "execute_result"
    }
   ],
   "source": [
    "# List for holding lat_lngs and cities\n",
    "lat_lngs = []\n",
    "cities = []\n",
    "\n",
    "# Create a set of random lat and lng combinations\n",
    "lats = np.random.uniform(low=-90.000, high=90.000, size=1500)\n",
    "lngs = np.random.uniform(low=-180.000, high=180.000, size=1500)\n",
    "lat_lngs = zip(lats, lngs)\n",
    "\n",
    "# Identify nearest city for each lat, lng combination\n",
    "for lat_lng in lat_lngs:\n",
    "    city = citipy.nearest_city(lat_lng[0], lat_lng[1]).city_name\n",
    "    \n",
    "    # If the city is unique, then add it to a our cities list\n",
    "    if city not in cities:\n",
    "        cities.append(city)\n",
    "\n",
    "# Print the city count to confirm sufficient count\n",
    "len(cities)"
   ]
  },
  {
   "cell_type": "markdown",
   "metadata": {},
   "source": [
    "### Perform API Calls\n",
    "* Perform a weather check on each city using a series of successive API calls.\n",
    "* Include a print log of each city as it'sbeing processed (with the city number and city name).\n"
   ]
  },
  {
   "cell_type": "code",
   "execution_count": 3,
   "metadata": {},
   "outputs": [
    {
     "name": "stdout",
     "output_type": "stream",
     "text": [
      "namatanai\n",
      "caceres\n",
      "new norfolk\n",
      "amderma\n",
      "rikitea\n",
      "koumac\n",
      "marsaxlokk\n",
      "mataura\n",
      "atuona\n",
      "torbay\n",
      "kenai\n",
      "kapaa\n",
      "san pedro\n",
      "lasa\n",
      "flin flon\n",
      "jamestown\n",
      "tiksi\n",
      "cape town\n",
      "mount gambier\n",
      "vaini\n",
      "illoqqortoormiut\n",
      "vysokogornyy\n",
      "avarua\n",
      "matamoros\n",
      "grand gaube\n",
      "albany\n",
      "yeehaw junction\n",
      "hofn\n",
      "harindanga\n",
      "tubruq\n",
      "rio de jesus\n",
      "bathsheba\n",
      "seminole\n",
      "port said\n",
      "labe\n",
      "hermanus\n",
      "punta arenas\n",
      "lagoa\n",
      "sentyabrskiy\n",
      "san jeronimo\n",
      "viligili\n",
      "taolanaro\n",
      "thompson\n",
      "barth\n",
      "bluff\n",
      "bredasdorp\n",
      "chapais\n",
      "ballina\n",
      "lebu\n",
      "kjustendil\n",
      "ust-nera\n",
      "tumannyy\n",
      "butaritari\n",
      "saskylakh\n",
      "vaitupu\n",
      "qaanaaq\n",
      "mentok\n",
      "ostrovnoy\n",
      "sinnamary\n",
      "guaranda\n",
      "lakselv\n",
      "cabo san lucas\n",
      "mackenzie\n",
      "auchterarder\n",
      "victoria\n",
      "shingu\n",
      "sohag\n",
      "barranca\n",
      "port alfred\n",
      "yellowknife\n",
      "norman wells\n",
      "busselton\n",
      "ushuaia\n",
      "saint anthony\n",
      "puerto ayora\n",
      "kainantu\n",
      "la ronge\n",
      "le port\n",
      "eureka\n",
      "barrow\n",
      "mys shmidta\n",
      "isangel\n",
      "vestmannaeyjar\n",
      "kieta\n",
      "klaksvik\n",
      "saldanha\n",
      "pio xii\n",
      "dolinsk\n",
      "gurgan\n",
      "port elizabeth\n",
      "anchorage\n",
      "pestravka\n",
      "kimberley\n",
      "husavik\n",
      "porto novo\n",
      "severo-kurilsk\n",
      "faanui\n",
      "puerto leguizamo\n",
      "tamandare\n",
      "flinders\n",
      "tuktoyaktuk\n",
      "saleaula\n",
      "san jose\n",
      "dikson\n",
      "hithadhoo\n",
      "touros\n",
      "la rioja\n",
      "port lincoln\n",
      "volokolamsk\n",
      "carnarvon\n",
      "belle fourche\n",
      "louisbourg\n",
      "talnakh\n",
      "ancud\n",
      "komsomolskiy\n",
      "grindavik\n",
      "ilulissat\n",
      "lavrentiya\n",
      "najran\n",
      "hambantota\n",
      "guarapari\n",
      "coquimbo\n",
      "ixtapa\n",
      "malibu\n",
      "codrington\n",
      "longyearbyen\n",
      "portland\n",
      "mahebourg\n",
      "sao miguel do araguaia\n",
      "maniitsoq\n",
      "muisne\n",
      "ituni\n",
      "ruteng\n",
      "kununurra\n",
      "seoul\n",
      "belushya guba\n",
      "tomatlan\n",
      "pevek\n",
      "ariquemes\n",
      "trairi\n",
      "chokurdakh\n",
      "saint george\n",
      "bakel\n",
      "barentsburg\n",
      "padang\n",
      "hobart\n",
      "dawson creek\n",
      "sechura\n",
      "egvekinot\n",
      "bethel\n",
      "castro\n",
      "mar del plata\n",
      "marawi\n",
      "sancti spiritus\n",
      "sao filipe\n",
      "jiayuguan\n",
      "loyabad\n",
      "manzhouli\n",
      "chumikan\n",
      "pozo colorado\n",
      "koumra\n",
      "ponta delgada\n",
      "machilipatnam\n",
      "qaqortoq\n",
      "pangkalanbuun\n",
      "tarudant\n",
      "east london\n",
      "bac lieu\n",
      "vardo\n",
      "mackay\n",
      "ribeira grande\n",
      "kudat\n",
      "nanakuli\n",
      "shenzhen\n",
      "okhotsk\n",
      "iqaluit\n",
      "buraydah\n",
      "saint-georges\n",
      "bambous virieux\n",
      "boddam\n",
      "port hardy\n",
      "north bend\n",
      "constitucion\n",
      "barbar\n",
      "naze\n",
      "visimo-utkinsk\n",
      "jawhar\n",
      "alice springs\n",
      "kavieng\n",
      "sorrento\n",
      "marsa matruh\n",
      "port-gentil\n",
      "markala\n",
      "fortuna\n",
      "valdez\n",
      "tinskoy\n",
      "hilo\n",
      "mrirt\n",
      "rochelle\n",
      "yerbogachen\n",
      "san quintin\n",
      "upernavik\n",
      "necochea\n",
      "bandarbeyla\n",
      "koutsouras\n",
      "saint-philippe\n",
      "provideniya\n",
      "adrar\n",
      "jujuy\n",
      "dickinson\n",
      "chuy\n",
      "khatanga\n",
      "ugoofaaru\n",
      "kupang\n",
      "sayansk\n",
      "tabialan\n",
      "dunedin\n",
      "katsuura\n",
      "nurota\n",
      "tocopilla\n",
      "cherskiy\n",
      "san cristobal\n",
      "atambua\n",
      "rawannawi\n",
      "hamilton\n",
      "tsihombe\n",
      "omagari\n",
      "yuzhno-yeniseyskiy\n",
      "grand river south east\n",
      "abu jubayhah\n",
      "tallinn\n",
      "miyako\n",
      "daxian\n",
      "elko\n",
      "nikolskoye\n",
      "esperance\n",
      "boyolangu\n",
      "ofunato\n",
      "ballia\n",
      "betong\n",
      "ambanja\n",
      "kautokeino\n",
      "centralia\n",
      "kracheh\n",
      "finspang\n",
      "college\n",
      "kisesa\n",
      "komatipoort\n",
      "gejiu\n",
      "faxinal\n",
      "kalianget\n",
      "rapid valley\n",
      "san rafael\n",
      "barawe\n",
      "srednekolymsk\n",
      "dingle\n",
      "asyut\n",
      "betki\n",
      "sambava\n",
      "tasiilaq\n",
      "yarim\n",
      "balaghat\n",
      "airai\n",
      "voyvozh\n",
      "khandyga\n",
      "halalo\n",
      "takoradi\n",
      "kodinsk\n",
      "mount isa\n",
      "qujing\n",
      "clyde river\n",
      "uige\n",
      "la romana\n",
      "arraial do cabo\n",
      "cayenne\n",
      "kitaibaraki\n",
      "dayong\n",
      "chuguyevka\n",
      "palmeira das missoes\n",
      "hami\n",
      "laguna\n",
      "salmon arm\n",
      "saint-augustin\n",
      "angoche\n",
      "benjamin hill\n",
      "mahadday weyne\n",
      "sitka\n",
      "geraldton\n",
      "green river\n",
      "aykhal\n",
      "inverness\n",
      "starkville\n",
      "lompoc\n",
      "santiago del estero\n",
      "ponta do sol\n",
      "florina\n",
      "calarasi\n",
      "kodiak\n",
      "iberia\n",
      "hailar\n",
      "azrow\n",
      "tyup\n",
      "manturovo\n",
      "karratha\n",
      "iquique\n",
      "nenjiang\n",
      "kijang\n",
      "comodoro rivadavia\n",
      "los llanos de aridane\n",
      "kurtamysh\n",
      "guymon\n",
      "georgetown\n",
      "geresk\n",
      "chatham\n",
      "cockburn town\n",
      "bilibino\n",
      "duldurga\n",
      "sanchez\n",
      "puerto madryn\n",
      "bairiki\n",
      "saint-louis\n",
      "moiyabana\n",
      "rongcheng\n",
      "meulaboh\n",
      "kruisfontein\n",
      "dhidhdhoo\n",
      "kashi\n",
      "amboasary\n",
      "batagay\n",
      "matara\n",
      "goderich\n",
      "kabompo\n",
      "barentu\n",
      "saint-michel-des-saints\n",
      "tateyama\n",
      "kalabo\n",
      "general roca\n",
      "tairua\n",
      "privolnyy\n",
      "kapuskasing\n",
      "nola\n",
      "rognan\n",
      "beterou\n",
      "osypenko\n",
      "bolungarvik\n",
      "poum\n",
      "great falls\n",
      "nyaunglebin\n",
      "jalu\n",
      "brae\n",
      "kiama\n",
      "cairns\n",
      "benjamin constant\n",
      "luderitz\n",
      "taltal\n",
      "markova\n",
      "newport\n",
      "cody\n",
      "sola\n",
      "talcahuano\n",
      "juneau\n",
      "cabedelo\n",
      "satitoa\n",
      "haines junction\n",
      "medea\n",
      "rundu\n",
      "podyuga\n",
      "sharjah\n",
      "huazolotitlan\n",
      "kaitangata\n",
      "mier\n",
      "takob\n",
      "nanortalik\n",
      "gohad\n",
      "skibbereen\n",
      "inta\n",
      "darapidap\n",
      "kahului\n",
      "toungoo\n",
      "valdivia\n",
      "nizhneyansk\n",
      "simnas\n",
      "guerrero negro\n",
      "magole\n",
      "umm lajj\n",
      "kawalu\n",
      "samarai\n",
      "sao joao da barra\n",
      "luanda\n",
      "moree\n",
      "taunggyi\n",
      "emerald\n",
      "griffith\n",
      "salalah\n",
      "wewak\n",
      "puerto madero\n",
      "mandalgovi\n",
      "rawson\n",
      "strezhevoy\n",
      "muros\n",
      "udachnyy\n",
      "lata\n",
      "kisangani\n",
      "kegayli\n",
      "san patricio\n",
      "arlit\n",
      "bengkulu\n",
      "dustlik\n",
      "inhambane\n",
      "manyana\n",
      "nizwa\n",
      "port alberni\n",
      "yar-sale\n",
      "kocevje\n",
      "attawapiskat\n",
      "vostok\n",
      "caravelas\n",
      "alyangula\n",
      "redding\n",
      "copiapo\n",
      "koeru\n",
      "acapulco\n",
      "henties bay\n",
      "nador\n",
      "bangangte\n",
      "rybachiy\n",
      "ketchikan\n",
      "haapu\n",
      "pafos\n",
      "melfort\n",
      "bonthe\n",
      "salamanca\n",
      "fairlie\n",
      "gat\n",
      "tukums\n",
      "rio bravo\n",
      "souillac\n",
      "zaraza\n",
      "urdzhar\n",
      "lorengau\n",
      "nabire\n",
      "kavaratti\n",
      "kurilsk\n",
      "tessalit\n",
      "beringovskiy\n",
      "sao jose da coroa grande\n",
      "serebryansk\n",
      "yulara\n",
      "margate\n",
      "leinefelde\n",
      "cururupu\n",
      "mao\n",
      "pangody\n",
      "tooele\n",
      "coihaique\n",
      "palimbang\n",
      "nakamura\n",
      "kutum\n",
      "shahreza\n",
      "vao\n",
      "batabano\n",
      "hasaki\n",
      "farafangana\n",
      "darhan\n",
      "rocha\n",
      "broome\n",
      "alekseyevsk\n",
      "leningradskiy\n",
      "te anau\n",
      "mogadishu\n",
      "gasa\n",
      "krasnyy yar\n",
      "bay roberts\n",
      "stokmarknes\n",
      "zhongshu\n",
      "thinadhoo\n",
      "jacarau\n",
      "pisco\n",
      "westport\n",
      "almunecar\n",
      "nizhnedevitsk\n",
      "saurimo\n",
      "uray\n",
      "safford\n",
      "narsaq\n",
      "hervey bay\n",
      "tiarei\n",
      "ascension\n",
      "nioro\n",
      "walvis bay\n",
      "colesberg\n",
      "port hedland\n",
      "armacao de pera\n",
      "lengshuijiang\n",
      "erenhot\n",
      "keti bandar\n",
      "kampot\n",
      "upington\n",
      "kuala krai\n",
      "novonukutskiy\n",
      "samusu\n",
      "vila velha\n",
      "dauphin\n",
      "aguimes\n",
      "hay river\n",
      "viedma\n",
      "acarau\n",
      "abu samrah\n",
      "mugur-aksy\n",
      "revelstoke\n",
      "kondinskoye\n",
      "nouakchott\n",
      "paamiut\n",
      "boromo\n",
      "warqla\n",
      "grand centre\n",
      "karaul\n",
      "moshi\n",
      "solnechnyy\n",
      "filingue\n",
      "tall kayf\n",
      "russell\n",
      "sindou\n",
      "chadan\n",
      "puerto del rosario\n",
      "pangnirtung\n",
      "morant bay\n",
      "dunmore town\n",
      "ilembula\n",
      "mareeba\n",
      "campeche\n",
      "korla\n",
      "sao goncalo do amarante\n",
      "puerto baquerizo moreno\n",
      "bolshoye ignatovo\n",
      "gamba\n",
      "sterling\n",
      "hede\n",
      "mayumba\n",
      "urumqi\n",
      "ratnagiri\n",
      "haifa\n",
      "sistranda\n",
      "slave lake\n",
      "glubczyce\n",
      "fort nelson\n",
      "volda\n",
      "kysyl-syr\n",
      "cidreira\n",
      "dakar\n",
      "bangsund\n",
      "neiafu\n",
      "coos bay\n",
      "selenginsk\n",
      "ust-ilimsk\n",
      "dong hoi\n",
      "praia\n",
      "dengzhou\n",
      "cambridge\n",
      "iguape\n",
      "whitehorse\n",
      "boguchany\n",
      "banikoara\n",
      "sestri levante\n",
      "karlstad\n",
      "luganville\n",
      "kazanskaya\n",
      "ossora\n",
      "lunca muresului\n",
      "cagayan de tawi-tawi\n",
      "santa rosa\n",
      "port hawkesbury\n",
      "huilong\n",
      "labuhan\n",
      "sao gabriel da cachoeira\n",
      "muravlenko\n",
      "belaya gora\n",
      "aswan\n",
      "kapit\n",
      "do gonbadan\n",
      "moron\n",
      "boralday\n",
      "northam\n",
      "vuktyl\n",
      "meyungs\n",
      "giyani\n",
      "xuddur\n",
      "bicester\n",
      "marzuq\n",
      "manavalakurichi\n",
      "de aar\n",
      "veraval\n",
      "myitkyina\n",
      "aknada\n",
      "hoganas\n",
      "vila franca do campo\n",
      "kamakwie\n",
      "roald\n",
      "lang son\n",
      "omsukchan\n",
      "manakara\n",
      "dingzhou\n",
      "durban\n",
      "formosa\n",
      "rawah\n",
      "guayaramerin\n",
      "wahpeton\n",
      "bucerias\n"
     ]
    }
   ],
   "source": [
    "url = \"http://api.openweathermap.org/data/2.5/weather?\"\n",
    "units = \"imperial\"\n",
    "\n",
    "lat = []\n",
    "lng = []\n",
    "city_id = []\n",
    "wind = []\n",
    "hum = []\n",
    "max_tmp = []\n",
    "country = []\n",
    "cloudiness = []\n",
    "city_name = []\n",
    "date = []\n",
    "\n",
    "for city in cities:\n",
    "    try:\n",
    "        query_url = f\"{url}appid={weather_api_key}&units={units}&q={city}\"\n",
    "        response = requests.get(query_url).json()\n",
    "        lat.append(response['coord']['lat'])\n",
    "        lng.append(response['coord']['lon'])\n",
    "        cloudiness.append(response['clouds']['all'])\n",
    "        wind.append(response['wind']['speed'])\n",
    "        hum.append(response['main']['humidity'])\n",
    "        max_tmp.append(response['main']['temp_max'])\n",
    "        country.append(response['sys']['country'])\n",
    "        city_id.append(response['id'])\n",
    "        city_name.append(response['name'])\n",
    "        date.append(response['dt'])\n",
    "        #print(f\"Processing {cities[city]} | {city}\")\n",
    "    except: KeyError \n",
    "        \n",
    "       #print(f\"No data returnd for \" {city}: \"skipping.\")\n",
    "        \n",
    "        \n",
    "    \n",
    "    print(city)\n"
   ]
  },
  {
   "cell_type": "markdown",
   "metadata": {},
   "source": [
    "### Convert Raw Data to DataFrame\n",
    "* Export the city data into a .csv.\n",
    "* Display the DataFrame"
   ]
  },
  {
   "cell_type": "code",
   "execution_count": 4,
   "metadata": {},
   "outputs": [
    {
     "data": {
      "text/html": [
       "<div>\n",
       "<style scoped>\n",
       "    .dataframe tbody tr th:only-of-type {\n",
       "        vertical-align: middle;\n",
       "    }\n",
       "\n",
       "    .dataframe tbody tr th {\n",
       "        vertical-align: top;\n",
       "    }\n",
       "\n",
       "    .dataframe thead th {\n",
       "        text-align: right;\n",
       "    }\n",
       "</style>\n",
       "<table border=\"1\" class=\"dataframe\">\n",
       "  <thead>\n",
       "    <tr style=\"text-align: right;\">\n",
       "      <th></th>\n",
       "      <th>City Name</th>\n",
       "      <th>Cloudiness</th>\n",
       "      <th>Country</th>\n",
       "      <th>Date</th>\n",
       "      <th>Humidity</th>\n",
       "      <th>Latitude</th>\n",
       "      <th>Longitude</th>\n",
       "      <th>Max Temperature</th>\n",
       "      <th>Wind Speed</th>\n",
       "    </tr>\n",
       "  </thead>\n",
       "  <tbody>\n",
       "    <tr>\n",
       "      <td>0</td>\n",
       "      <td>Namatanai</td>\n",
       "      <td>71</td>\n",
       "      <td>PG</td>\n",
       "      <td>1580042604</td>\n",
       "      <td>77</td>\n",
       "      <td>-3.67</td>\n",
       "      <td>152.43</td>\n",
       "      <td>82.90</td>\n",
       "      <td>2.35</td>\n",
       "    </tr>\n",
       "    <tr>\n",
       "      <td>1</td>\n",
       "      <td>Caceres</td>\n",
       "      <td>1</td>\n",
       "      <td>ES</td>\n",
       "      <td>1580042604</td>\n",
       "      <td>79</td>\n",
       "      <td>39.52</td>\n",
       "      <td>-6.37</td>\n",
       "      <td>48.99</td>\n",
       "      <td>1.99</td>\n",
       "    </tr>\n",
       "    <tr>\n",
       "      <td>2</td>\n",
       "      <td>New Norfolk</td>\n",
       "      <td>73</td>\n",
       "      <td>AU</td>\n",
       "      <td>1580042604</td>\n",
       "      <td>56</td>\n",
       "      <td>-42.78</td>\n",
       "      <td>147.06</td>\n",
       "      <td>60.01</td>\n",
       "      <td>3.94</td>\n",
       "    </tr>\n",
       "    <tr>\n",
       "      <td>3</td>\n",
       "      <td>Rikitea</td>\n",
       "      <td>50</td>\n",
       "      <td>PF</td>\n",
       "      <td>1580042605</td>\n",
       "      <td>76</td>\n",
       "      <td>-23.12</td>\n",
       "      <td>-134.97</td>\n",
       "      <td>78.98</td>\n",
       "      <td>11.77</td>\n",
       "    </tr>\n",
       "    <tr>\n",
       "      <td>4</td>\n",
       "      <td>Koumac</td>\n",
       "      <td>100</td>\n",
       "      <td>NC</td>\n",
       "      <td>1580042605</td>\n",
       "      <td>85</td>\n",
       "      <td>-20.57</td>\n",
       "      <td>164.28</td>\n",
       "      <td>73.36</td>\n",
       "      <td>4.41</td>\n",
       "    </tr>\n",
       "  </tbody>\n",
       "</table>\n",
       "</div>"
      ],
      "text/plain": [
       "     City Name  Cloudiness Country        Date  Humidity  Latitude  Longitude  \\\n",
       "0    Namatanai          71      PG  1580042604        77     -3.67     152.43   \n",
       "1      Caceres           1      ES  1580042604        79     39.52      -6.37   \n",
       "2  New Norfolk          73      AU  1580042604        56    -42.78     147.06   \n",
       "3      Rikitea          50      PF  1580042605        76    -23.12    -134.97   \n",
       "4       Koumac         100      NC  1580042605        85    -20.57     164.28   \n",
       "\n",
       "   Max Temperature  Wind Speed  \n",
       "0            82.90        2.35  \n",
       "1            48.99        1.99  \n",
       "2            60.01        3.94  \n",
       "3            78.98       11.77  \n",
       "4            73.36        4.41  "
      ]
     },
     "execution_count": 4,
     "metadata": {},
     "output_type": "execute_result"
    }
   ],
   "source": [
    "weather_dict = {\n",
    "    \"City Name\": city_name,\n",
    "    \"Cloudiness\": cloudiness,\n",
    "    \"Country\": country,\n",
    "    \"Date\": date,\n",
    "    \"Humidity\": hum,\n",
    "    \"Latitude\": lat,\n",
    "    \"Longitude\": lng,\n",
    "    \"Max Temperature\": max_tmp,\n",
    "    \"Wind Speed\": wind\n",
    "    \n",
    "}\n",
    "\n",
    "weather_df = pd.DataFrame(weather_dict)\n",
    "\n",
    "weather_df.to_csv(output_data_file)\n",
    "\n",
    "weather_df.head()"
   ]
  },
  {
   "cell_type": "code",
   "execution_count": 5,
   "metadata": {},
   "outputs": [
    {
     "data": {
      "text/html": [
       "<div>\n",
       "<style scoped>\n",
       "    .dataframe tbody tr th:only-of-type {\n",
       "        vertical-align: middle;\n",
       "    }\n",
       "\n",
       "    .dataframe tbody tr th {\n",
       "        vertical-align: top;\n",
       "    }\n",
       "\n",
       "    .dataframe thead th {\n",
       "        text-align: right;\n",
       "    }\n",
       "</style>\n",
       "<table border=\"1\" class=\"dataframe\">\n",
       "  <thead>\n",
       "    <tr style=\"text-align: right;\">\n",
       "      <th></th>\n",
       "      <th>City Name</th>\n",
       "      <th>Cloudiness</th>\n",
       "      <th>Country</th>\n",
       "      <th>Date</th>\n",
       "      <th>Humidity</th>\n",
       "      <th>Latitude</th>\n",
       "      <th>Longitude</th>\n",
       "      <th>Max Temperature</th>\n",
       "      <th>Wind Speed</th>\n",
       "    </tr>\n",
       "  </thead>\n",
       "  <tbody>\n",
       "    <tr>\n",
       "      <td>0</td>\n",
       "      <td>Namatanai</td>\n",
       "      <td>71</td>\n",
       "      <td>PG</td>\n",
       "      <td>1580042604</td>\n",
       "      <td>77</td>\n",
       "      <td>-3.67</td>\n",
       "      <td>152.43</td>\n",
       "      <td>82.90</td>\n",
       "      <td>2.35</td>\n",
       "    </tr>\n",
       "    <tr>\n",
       "      <td>2</td>\n",
       "      <td>New Norfolk</td>\n",
       "      <td>73</td>\n",
       "      <td>AU</td>\n",
       "      <td>1580042604</td>\n",
       "      <td>56</td>\n",
       "      <td>-42.78</td>\n",
       "      <td>147.06</td>\n",
       "      <td>60.01</td>\n",
       "      <td>3.94</td>\n",
       "    </tr>\n",
       "    <tr>\n",
       "      <td>3</td>\n",
       "      <td>Rikitea</td>\n",
       "      <td>50</td>\n",
       "      <td>PF</td>\n",
       "      <td>1580042605</td>\n",
       "      <td>76</td>\n",
       "      <td>-23.12</td>\n",
       "      <td>-134.97</td>\n",
       "      <td>78.98</td>\n",
       "      <td>11.77</td>\n",
       "    </tr>\n",
       "    <tr>\n",
       "      <td>4</td>\n",
       "      <td>Koumac</td>\n",
       "      <td>100</td>\n",
       "      <td>NC</td>\n",
       "      <td>1580042605</td>\n",
       "      <td>85</td>\n",
       "      <td>-20.57</td>\n",
       "      <td>164.28</td>\n",
       "      <td>73.36</td>\n",
       "      <td>4.41</td>\n",
       "    </tr>\n",
       "    <tr>\n",
       "      <td>6</td>\n",
       "      <td>Mataura</td>\n",
       "      <td>100</td>\n",
       "      <td>NZ</td>\n",
       "      <td>1580042605</td>\n",
       "      <td>84</td>\n",
       "      <td>-46.19</td>\n",
       "      <td>168.86</td>\n",
       "      <td>57.99</td>\n",
       "      <td>0.43</td>\n",
       "    </tr>\n",
       "  </tbody>\n",
       "</table>\n",
       "</div>"
      ],
      "text/plain": [
       "     City Name  Cloudiness Country        Date  Humidity  Latitude  Longitude  \\\n",
       "0    Namatanai          71      PG  1580042604        77     -3.67     152.43   \n",
       "2  New Norfolk          73      AU  1580042604        56    -42.78     147.06   \n",
       "3      Rikitea          50      PF  1580042605        76    -23.12    -134.97   \n",
       "4       Koumac         100      NC  1580042605        85    -20.57     164.28   \n",
       "6      Mataura         100      NZ  1580042605        84    -46.19     168.86   \n",
       "\n",
       "   Max Temperature  Wind Speed  \n",
       "0            82.90        2.35  \n",
       "2            60.01        3.94  \n",
       "3            78.98       11.77  \n",
       "4            73.36        4.41  \n",
       "6            57.99        0.43  "
      ]
     },
     "execution_count": 5,
     "metadata": {},
     "output_type": "execute_result"
    }
   ],
   "source": [
    "south_forgets = weather_df.loc[weather_df[\"Latitude\"]<= 0, :]\n",
    "\n",
    "south_forgets.head()"
   ]
  },
  {
   "cell_type": "code",
   "execution_count": 6,
   "metadata": {},
   "outputs": [
    {
     "data": {
      "text/html": [
       "<div>\n",
       "<style scoped>\n",
       "    .dataframe tbody tr th:only-of-type {\n",
       "        vertical-align: middle;\n",
       "    }\n",
       "\n",
       "    .dataframe tbody tr th {\n",
       "        vertical-align: top;\n",
       "    }\n",
       "\n",
       "    .dataframe thead th {\n",
       "        text-align: right;\n",
       "    }\n",
       "</style>\n",
       "<table border=\"1\" class=\"dataframe\">\n",
       "  <thead>\n",
       "    <tr style=\"text-align: right;\">\n",
       "      <th></th>\n",
       "      <th>City Name</th>\n",
       "      <th>Cloudiness</th>\n",
       "      <th>Country</th>\n",
       "      <th>Date</th>\n",
       "      <th>Humidity</th>\n",
       "      <th>Latitude</th>\n",
       "      <th>Longitude</th>\n",
       "      <th>Max Temperature</th>\n",
       "      <th>Wind Speed</th>\n",
       "    </tr>\n",
       "  </thead>\n",
       "  <tbody>\n",
       "    <tr>\n",
       "      <td>1</td>\n",
       "      <td>Caceres</td>\n",
       "      <td>1</td>\n",
       "      <td>ES</td>\n",
       "      <td>1580042604</td>\n",
       "      <td>79</td>\n",
       "      <td>39.52</td>\n",
       "      <td>-6.37</td>\n",
       "      <td>48.99</td>\n",
       "      <td>1.99</td>\n",
       "    </tr>\n",
       "    <tr>\n",
       "      <td>5</td>\n",
       "      <td>Marsaxlokk</td>\n",
       "      <td>11</td>\n",
       "      <td>MT</td>\n",
       "      <td>1580042605</td>\n",
       "      <td>87</td>\n",
       "      <td>35.84</td>\n",
       "      <td>14.54</td>\n",
       "      <td>63.00</td>\n",
       "      <td>3.00</td>\n",
       "    </tr>\n",
       "    <tr>\n",
       "      <td>8</td>\n",
       "      <td>Torbay</td>\n",
       "      <td>7</td>\n",
       "      <td>CA</td>\n",
       "      <td>1580042605</td>\n",
       "      <td>83</td>\n",
       "      <td>47.67</td>\n",
       "      <td>-52.73</td>\n",
       "      <td>21.99</td>\n",
       "      <td>7.47</td>\n",
       "    </tr>\n",
       "    <tr>\n",
       "      <td>9</td>\n",
       "      <td>Kenai</td>\n",
       "      <td>0</td>\n",
       "      <td>US</td>\n",
       "      <td>1580042429</td>\n",
       "      <td>70</td>\n",
       "      <td>60.55</td>\n",
       "      <td>-151.26</td>\n",
       "      <td>3.99</td>\n",
       "      <td>4.00</td>\n",
       "    </tr>\n",
       "    <tr>\n",
       "      <td>10</td>\n",
       "      <td>Kapaa</td>\n",
       "      <td>32</td>\n",
       "      <td>US</td>\n",
       "      <td>1580042606</td>\n",
       "      <td>59</td>\n",
       "      <td>22.08</td>\n",
       "      <td>-159.32</td>\n",
       "      <td>72.00</td>\n",
       "      <td>6.55</td>\n",
       "    </tr>\n",
       "  </tbody>\n",
       "</table>\n",
       "</div>"
      ],
      "text/plain": [
       "     City Name  Cloudiness Country        Date  Humidity  Latitude  Longitude  \\\n",
       "1      Caceres           1      ES  1580042604        79     39.52      -6.37   \n",
       "5   Marsaxlokk          11      MT  1580042605        87     35.84      14.54   \n",
       "8       Torbay           7      CA  1580042605        83     47.67     -52.73   \n",
       "9        Kenai           0      US  1580042429        70     60.55    -151.26   \n",
       "10       Kapaa          32      US  1580042606        59     22.08    -159.32   \n",
       "\n",
       "    Max Temperature  Wind Speed  \n",
       "1             48.99        1.99  \n",
       "5             63.00        3.00  \n",
       "8             21.99        7.47  \n",
       "9              3.99        4.00  \n",
       "10            72.00        6.55  "
      ]
     },
     "execution_count": 6,
     "metadata": {},
     "output_type": "execute_result"
    }
   ],
   "source": [
    "north_remembers = weather_df.loc[weather_df[\"Latitude\"] >= 0, :]\n",
    "\n",
    "\n",
    "north_remembers.head()"
   ]
  },
  {
   "cell_type": "markdown",
   "metadata": {},
   "source": [
    "### Plotting the Data\n",
    "* Use proper labeling of the plots using plot titles (including date of analysis) and axes labels.\n",
    "* Save the plotted figures as .pngs."
   ]
  },
  {
   "cell_type": "markdown",
   "metadata": {},
   "source": [
    "#### Latitude vs. Temperature Plot"
   ]
  },
  {
   "cell_type": "code",
   "execution_count": 7,
   "metadata": {
    "scrolled": true
   },
   "outputs": [
    {
     "data": {
      "image/png": "[encoded data removed]",
      "text/plain": [
       "<Figure size 432x288 with 1 Axes>"
      ]
     },
     "metadata": {
      "needs_background": "light"
     },
     "output_type": "display_data"
    }
   ],
   "source": [
    "plt.title(\"City Latitude vs. Max Temperature\")\n",
    "plt.xlabel(\"Latitude\")\n",
    "plt.ylabel(\"Max Temp\")\n",
    "\n",
    "plt.scatter(weather_df[[\"Latitude\"]], weather_df[[\"Max Temperature\"]], marker=\"o\", color=\"green\")\n",
    "plt.show()"
   ]
  },
  {
   "cell_type": "markdown",
   "metadata": {},
   "source": [
    "#### Latitude vs. Humidity Plot"
   ]
  },
  {
   "cell_type": "code",
   "execution_count": 11,
   "metadata": {},
   "outputs": [
    {
     "data": {
      "image/png": "[encoded data removed]",
      "text/plain": [
       "<Figure size 432x288 with 1 Axes>"
      ]
     },
     "metadata": {
      "needs_background": "light"
     },
     "output_type": "display_data"
    }
   ],
   "source": [
    "plt.title(\"City Latitude vs. Humidity\")\n",
    "plt.xlabel(\"Latitude\")\n",
    "plt.ylabel(\"Humidity\")\n",
    "\n",
    "plt.scatter(weather_df[[\"Latitude\"]], weather_df[[\"Humidity\"]], marker=\"o\", color=\"green\")\n",
    "plt.show()"
   ]
  },
  {
   "cell_type": "markdown",
   "metadata": {},
   "source": [
    "#### Latitude vs. Cloudiness Plot"
   ]
  },
  {
   "cell_type": "code",
   "execution_count": 9,
   "metadata": {},
   "outputs": [
    {
     "data": {
      "image/png": "[encoded data removed]",
      "text/plain": [
       "<Figure size 432x288 with 1 Axes>"
      ]
     },
     "metadata": {
      "needs_background": "light"
     },
     "output_type": "display_data"
    }
   ],
   "source": [
    "plt.title(\"City Latitude vs. Cloudiness\")\n",
    "plt.xlabel(\"Latitude\")\n",
    "plt.ylabel(\"Cloudiness\")\n",
    "\n",
    "plt.scatter(weather_df[[\"Latitude\"]], weather_df[[\"Cloudiness\"]], marker=\"o\", color=\"green\")\n",
    "plt.show()"
   ]
  },
  {
   "cell_type": "markdown",
   "metadata": {},
   "source": [
    "#### Latitude vs. Wind Speed Plot"
   ]
  },
  {
   "cell_type": "code",
   "execution_count": 10,
   "metadata": {},
   "outputs": [
    {
     "data": {
      "image/png": "[encoded data removed]",
      "text/plain": [
       "<Figure size 432x288 with 1 Axes>"
      ]
     },
     "metadata": {
      "needs_background": "light"
     },
     "output_type": "display_data"
    }
   ],
   "source": [
    "plt.title(\"City Latitude vs. Wind Speed (mph)\")\n",
    "plt.xlabel(\"Latitude\")\n",
    "plt.ylabel(\"Wind Speed (mph)\")\n",
    "\n",
    "plt.scatter(weather_df[[\"Latitude\"]], weather_df[[\"Wind Speed\"]], marker=\"o\", color=\"green\")\n",
    "plt.show()"
   ]
  },
  {
   "cell_type": "markdown",
   "metadata": {},
   "source": [
    "## Linear Regression"
   ]
  },
  {
   "cell_type": "code",
   "execution_count": 12,
   "metadata": {},
   "outputs": [],
   "source": [
    "# OPTIONAL: Create a function to create Linear Regression plots\n"
   ]
  },
  {
   "cell_type": "code",
   "execution_count": 13,
   "metadata": {},
   "outputs": [],
   "source": [
    "# Create Northern and Southern Hemisphere DataFrames\n",
    "\n",
    "# Coded this earlier in th 'north_remembers and sout_forgets dataframes'\n"
   ]
  },
  {
   "cell_type": "markdown",
   "metadata": {},
   "source": [
    "####  Northern Hemisphere - Max Temp vs. Latitude Linear Regression"
   ]
  },
  {
   "cell_type": "code",
   "execution_count": 14,
   "metadata": {},
   "outputs": [
    {
     "data": {
      "image/png": "[encoded data removed]",
      "text/plain": [
       "<Figure size 432x288 with 1 Axes>"
      ]
     },
     "metadata": {
      "needs_background": "light"
     },
     "output_type": "display_data"
    }
   ],
   "source": [
    "x_values = north_remembers['Latitude']\n",
    "y_values = north_remembers['Max Temperature']\n",
    "(slope, intercept, rvalue, pvalue, stderr) = linregress(x_values, y_values)\n",
    "regress_values = x_values * slope + intercept\n",
    "line_eq = \"y = \" + str(round(slope,2)) + \"x + \" + str(round(intercept,2))\n",
    "plt.scatter(x_values,y_values)\n",
    "plt.plot(x_values,regress_values,\"r-\")\n",
    "plt.annotate(line_eq,(6,10),fontsize=15,color=\"red\")\n",
    "plt.title(\"Northern Hemisphere - Max Temp vs. Latitude Linear Regression\")\n",
    "plt.xlabel('Latitude')\n",
    "plt.ylabel('Max Temperature')\n",
    "plt.show()"
   ]
  },
  {
   "cell_type": "markdown",
   "metadata": {},
   "source": [
    "####  Southern Hemisphere - Max Temp vs. Latitude Linear Regression"
   ]
  },
  {
   "cell_type": "code",
   "execution_count": 15,
   "metadata": {
    "scrolled": true
   },
   "outputs": [
    {
     "data": {
      "image/png": "[encoded data removed]",
      "text/plain": [
       "<Figure size 432x288 with 1 Axes>"
      ]
     },
     "metadata": {
      "needs_background": "light"
     },
     "output_type": "display_data"
    }
   ],
   "source": [
    "x_values = south_forgets['Latitude']\n",
    "y_values = south_forgets['Max Temperature']\n",
    "(slope, intercept, rvalue, pvalue, stderr) = linregress(x_values, y_values)\n",
    "regress_values = x_values * slope + intercept\n",
    "line_eq = \"y = \" + str(round(slope,2)) + \"x + \" + str(round(intercept,2))\n",
    "plt.scatter(x_values,y_values)\n",
    "plt.plot(x_values,regress_values,\"r-\")\n",
    "plt.annotate(line_eq,(6,10),fontsize=15,color=\"red\")\n",
    "plt.title(\"Southern Hemisphere - Max Temp vs. Latitude Linear Regression\")\n",
    "plt.xlabel('Latitude')\n",
    "plt.ylabel('Max Temperature')\n",
    "plt.show()"
   ]
  },
  {
   "cell_type": "markdown",
   "metadata": {},
   "source": [
    "####  Northern Hemisphere - Humidity (%) vs. Latitude Linear Regression"
   ]
  },
  {
   "cell_type": "code",
   "execution_count": 16,
   "metadata": {},
   "outputs": [
    {
     "data": {
      "image/png": "[encoded data removed]",
      "text/plain": [
       "<Figure size 432x288 with 1 Axes>"
      ]
     },
     "metadata": {
      "needs_background": "light"
     },
     "output_type": "display_data"
    }
   ],
   "source": [
    "x_val = north_remembers['Latitude']\n",
    "y_val = north_remembers['Humidity']\n",
    "(slope, intercept, rvalue, pvalue, stderr) = linregress(x_val, y_val)\n",
    "regress_val = x_val * slope + intercept\n",
    "line_eq = \"y = \" + str(round(slope,2)) + \"x + \" + str(round(intercept,2))\n",
    "plt.scatter(x_val,y_val)\n",
    "plt.plot(x_val,regress_val,\"r-\")\n",
    "plt.annotate(line_eq,(6,10),fontsize=15,color=\"red\")\n",
    "plt.title(\"Northern Hemisphere - Humidity (%) vs. Latitude Linear Regression\")\n",
    "plt.xlabel('Latitude')\n",
    "plt.ylabel('Humidity')\n",
    "plt.show()"
   ]
  },
  {
   "cell_type": "markdown",
   "metadata": {},
   "source": [
    "####  Southern Hemisphere - Humidity (%) vs. Latitude Linear Regression"
   ]
  },
  {
   "cell_type": "code",
   "execution_count": 17,
   "metadata": {},
   "outputs": [
    {
     "data": {
      "image/png": "[encoded data removed]",
      "text/plain": [
       "<Figure size 432x288 with 1 Axes>"
      ]
     },
     "metadata": {
      "needs_background": "light"
     },
     "output_type": "display_data"
    }
   ],
   "source": [
    "x_values = south_forgets['Latitude']\n",
    "y_values = south_forgets['Humidity']\n",
    "(slope, intercept, rvalue, pvalue, stderr) = linregress(x_values, y_values)\n",
    "regress_values = x_values * slope + intercept\n",
    "line_eq = \"y = \" + str(round(slope,2)) + \"x + \" + str(round(intercept,2))\n",
    "plt.scatter(x_values,y_values)\n",
    "plt.plot(x_values,regress_values,\"r-\")\n",
    "plt.annotate(line_eq,(6,10),fontsize=15,color=\"red\")\n",
    "plt.title(\"Southern Hemisphere - Humidity (%) vs. Latitude Linear Regression\")\n",
    "plt.xlabel('Latitude')\n",
    "plt.ylabel('Humidity')\n",
    "plt.show()"
   ]
  },
  {
   "cell_type": "markdown",
   "metadata": {},
   "source": [
    "####  Northern Hemisphere - Cloudiness (%) vs. Latitude Linear Regression"
   ]
  },
  {
   "cell_type": "code",
   "execution_count": 18,
   "metadata": {},
   "outputs": [
    {
     "data": {
      "image/png": "[encoded data removed]",
      "text/plain": [
       "<Figure size 432x288 with 1 Axes>"
      ]
     },
     "metadata": {
      "needs_background": "light"
     },
     "output_type": "display_data"
    }
   ],
   "source": [
    "x_val = north_remembers['Latitude']\n",
    "y_val = north_remembers['Cloudiness']\n",
    "(slope, intercept, rvalue, pvalue, stderr) = linregress(x_val, y_val)\n",
    "regress_val = x_val * slope + intercept\n",
    "line_eq = \"y = \" + str(round(slope,2)) + \"x + \" + str(round(intercept,2))\n",
    "plt.scatter(x_val,y_val)\n",
    "plt.plot(x_val,regress_val,\"r-\")\n",
    "plt.annotate(line_eq,(6,10),fontsize=15,color=\"red\")\n",
    "plt.title(\"Northern Hemisphere - Cloudiness (%) vs. Latitude Linear Regression\")\n",
    "plt.xlabel('Latitude')\n",
    "plt.ylabel('Cloudiness')\n",
    "plt.show()"
   ]
  },
  {
   "cell_type": "markdown",
   "metadata": {},
   "source": [
    "####  Southern Hemisphere - Cloudiness (%) vs. Latitude Linear Regression"
   ]
  },
  {
   "cell_type": "code",
   "execution_count": 19,
   "metadata": {},
   "outputs": [
    {
     "data": {
      "image/png": "[encoded data removed]",
      "text/plain": [
       "<Figure size 432x288 with 1 Axes>"
      ]
     },
     "metadata": {
      "needs_background": "light"
     },
     "output_type": "display_data"
    }
   ],
   "source": [
    "x_val = south_forgets['Latitude']\n",
    "y_val = south_forgets['Cloudiness']\n",
    "(slope, intercept, rvalue, pvalue, stderr) = linregress(x_val, y_val)\n",
    "regress_val = x_val * slope + intercept\n",
    "line_eq = \"y = \" + str(round(slope,2)) + \"x + \" + str(round(intercept,2))\n",
    "plt.scatter(x_val,y_val)\n",
    "plt.plot(x_val,regress_val,\"r-\")\n",
    "plt.annotate(line_eq,(6,10),fontsize=15,color=\"red\")\n",
    "plt.title(\"Southern Hemisphere - Cloudiness (%) vs. Latitude Linear Regression\")\n",
    "plt.xlabel('Latitude')\n",
    "plt.ylabel('Cloudiness')\n",
    "plt.show()"
   ]
  },
  {
   "cell_type": "markdown",
   "metadata": {},
   "source": [
    "####  Northern Hemisphere - Wind Speed (mph) vs. Latitude Linear Regression"
   ]
  },
  {
   "cell_type": "code",
   "execution_count": 20,
   "metadata": {},
   "outputs": [
    {
     "data": {
      "image/png": "[encoded data removed]",
      "text/plain": [
       "<Figure size 432x288 with 1 Axes>"
      ]
     },
     "metadata": {
      "needs_background": "light"
     },
     "output_type": "display_data"
    }
   ],
   "source": [
    "x_val = north_remembers['Latitude']\n",
    "y_val = north_remembers['Wind Speed']\n",
    "(slope, intercept, rvalue, pvalue, stderr) = linregress(x_val, y_val)\n",
    "regress_val = x_val * slope + intercept\n",
    "line_eq = \"y = \" + str(round(slope,2)) + \"x + \" + str(round(intercept,2))\n",
    "plt.scatter(x_val,y_val)\n",
    "plt.plot(x_val,regress_val,\"r-\")\n",
    "plt.annotate(line_eq,(6,10),fontsize=15,color=\"red\")\n",
    "plt.title(\"Northern Hemisphere - Wind Speed (mph) vs. Latitude Linear Regression\")\n",
    "plt.xlabel('Latitude')\n",
    "plt.ylabel('Wind Speed (mph)')\n",
    "plt.show()"
   ]
  },
  {
   "cell_type": "markdown",
   "metadata": {},
   "source": [
    "####  Southern Hemisphere - Wind Speed (mph) vs. Latitude Linear Regression"
   ]
  },
  {
   "cell_type": "code",
   "execution_count": 21,
   "metadata": {},
   "outputs": [
    {
     "data": {
      "image/png": "[encoded data removed]",
      "text/plain": [
       "<Figure size 432x288 with 1 Axes>"
      ]
     },
     "metadata": {
      "needs_background": "light"
     },
     "output_type": "display_data"
    }
   ],
   "source": [
    "x_val = south_forgets['Latitude']\n",
    "y_val = south_forgets['Wind Speed']\n",
    "(slope, intercept, rvalue, pvalue, stderr) = linregress(x_val, y_val)\n",
    "regress_val = x_val * slope + intercept\n",
    "line_eq = \"y = \" + str(round(slope,2)) + \"x + \" + str(round(intercept,2))\n",
    "plt.scatter(x_val,y_val)\n",
    "plt.plot(x_val,regress_val,\"r-\")\n",
    "plt.annotate(line_eq,(6,10),fontsize=15,color=\"red\")\n",
    "plt.title(\"Southern Hemisphere - Wind Speed (mph) vs. Latitude Linear Regression\")\n",
    "plt.xlabel('Latitude')\n",
    "plt.ylabel('Wind Speed (mph)')\n",
    "plt.show()"
   ]
  },
  {
   "cell_type": "code",
   "execution_count": null,
   "metadata": {},
   "outputs": [],
   "source": []
  },
  {
   "cell_type": "code",
   "execution_count": null,
   "metadata": {},
   "outputs": [],
   "source": []
  },
  {
   "cell_type": "code",
   "execution_count": null,
   "metadata": {},
   "outputs": [],
   "source": []
  },
  {
   "cell_type": "code",
   "execution_count": null,
   "metadata": {},
   "outputs": [],
   "source": []
  }
 ],
 "metadata": {
  "anaconda-cloud": {},
  "kernel_info": {
   "name": "python3"
  },
  "kernelspec": {
   "display_name": "Python 3",
   "language": "python",
   "name": "python3"
  },
  "language_info": {
   "codemirror_mode": {
    "name": "ipython",
    "version": 3
   },
   "file_extension": ".py",
   "mimetype": "text/x-python",
   "name": "python",
   "nbconvert_exporter": "python",
   "pygments_lexer": "ipython3",
   "version": "3.7.4"
  },
  "latex_envs": {
   "LaTeX_envs_menu_present": true,
   "autoclose": false,
   "autocomplete": true,
   "bibliofile": "biblio.bib",
   "cite_by": "apalike",
   "current_citInitial": 1,
   "eqLabelWithNumbers": true,
   "eqNumInitial": 1,
   "hotkeys": {
    "equation": "Ctrl-E",
    "itemize": "Ctrl-I"
   },
   "labels_anchors": false,
   "latex_user_defs": false,
   "report_style_numbering": false,
   "user_envs_cfg": false
  },
  "nteract": {
   "version": "0.12.3"
  }
 },
 "nbformat": 4,
 "nbformat_minor": 2
}
