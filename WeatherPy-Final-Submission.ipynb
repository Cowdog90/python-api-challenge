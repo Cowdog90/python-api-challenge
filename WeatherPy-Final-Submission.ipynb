{
 "cells": [
  {
   "cell_type": "markdown",
   "metadata": {},
   "source": [
    "# WeatherPy\n",
    "----\n",
    "\n",
    "#### Note\n",
    "* Instructions have been included for each segment. You do not have to follow them exactly, but they are included to help you think through the steps."
   ]
  },
  {
   "cell_type": "code",
   "execution_count": 1,
   "metadata": {
    "scrolled": true
   },
   "outputs": [],
   "source": [
    "# Dependencies and Setup\n",
    "import matplotlib.pyplot as plt\n",
    "import pandas as pd\n",
    "import numpy as np\n",
    "import requests\n",
    "import time\n",
    "from scipy.stats import linregress\n",
    "\n",
    "# Import API key\n",
    "from api_keys import weather_api_key\n",
    "\n",
    "# Incorporated citipy to determine city based on latitude and longitude\n",
    "from citipy import citipy\n",
    "\n",
    "# Output File (CSV)\n",
    "output_data_file = \"output_data/cities.csv\"\n",
    "\n",
    "# Range of latitudes and longitudes\n",
    "lat_range = (-90, 90)\n",
    "lng_range = (-180, 180)"
   ]
  },
  {
   "cell_type": "markdown",
   "metadata": {},
   "source": [
    "## Generate Cities List"
   ]
  },
  {
   "cell_type": "code",
   "execution_count": 2,
   "metadata": {},
   "outputs": [
    {
     "data": {
      "text/plain": [
       "606"
      ]
     },
     "execution_count": 2,
     "metadata": {},
     "output_type": "execute_result"
    }
   ],
   "source": [
    "# List for holding lat_lngs and cities\n",
    "lat_lngs = []\n",
    "cities = []\n",
    "\n",
    "# Create a set of random lat and lng combinations\n",
    "lats = np.random.uniform(low=-90.000, high=90.000, size=1500)\n",
    "lngs = np.random.uniform(low=-180.000, high=180.000, size=1500)\n",
    "lat_lngs = zip(lats, lngs)\n",
    "\n",
    "# Identify nearest city for each lat, lng combination\n",
    "for lat_lng in lat_lngs:\n",
    "    city = citipy.nearest_city(lat_lng[0], lat_lng[1]).city_name\n",
    "    \n",
    "    # If the city is unique, then add it to a our cities list\n",
    "    if city not in cities:\n",
    "        cities.append(city)\n",
    "\n",
    "# Print the city count to confirm sufficient count\n",
    "len(cities)"
   ]
  },
  {
   "cell_type": "markdown",
   "metadata": {},
   "source": [
    "### Perform API Calls\n",
    "* Perform a weather check on each city using a series of successive API calls.\n",
    "* Include a print log of each city as it'sbeing processed (with the city number and city name).\n"
   ]
  },
  {
   "cell_type": "code",
   "execution_count": 3,
   "metadata": {},
   "outputs": [
    {
     "name": "stdout",
     "output_type": "stream",
     "text": [
      "sao mateus do sul\n",
      "jamestown\n",
      "albany\n",
      "nizhneyansk\n",
      "san policarpo\n",
      "punta arenas\n",
      "banyumas\n",
      "padang\n",
      "cidreira\n",
      "ratnagiri\n",
      "bluff\n",
      "sur\n",
      "rikitea\n",
      "padilla\n",
      "saint-philippe\n",
      "pevek\n",
      "cape town\n",
      "weihai\n",
      "dikson\n",
      "trincomalee\n",
      "turukhansk\n",
      "sao luiz gonzaga\n",
      "samusu\n",
      "kapaa\n",
      "jalu\n",
      "kundiawa\n",
      "khalkhal\n",
      "bambous virieux\n",
      "mount isa\n",
      "tiarei\n",
      "dalby\n",
      "saskylakh\n",
      "sibi\n",
      "chagda\n",
      "palas\n",
      "manzanillo\n",
      "talnakh\n",
      "avarua\n",
      "tongliao\n",
      "khatanga\n",
      "yellowknife\n",
      "lebu\n",
      "barentsburg\n",
      "iqaluit\n",
      "vallenar\n",
      "walvis bay\n",
      "ayan\n",
      "batemans bay\n",
      "necochea\n",
      "mataura\n",
      "torbay\n",
      "souillac\n",
      "nagorsk\n",
      "bilibino\n",
      "ushuaia\n",
      "fortuna\n",
      "muromtsevo\n",
      "zapolyarnyy\n",
      "tuktoyaktuk\n",
      "laguna\n",
      "marsh harbour\n",
      "lokosovo\n",
      "busselton\n",
      "tambul\n",
      "qaanaaq\n",
      "namatanai\n",
      "mahebourg\n",
      "ballina\n",
      "meulaboh\n",
      "posse\n",
      "severo-kurilsk\n",
      "kantunilkin\n",
      "mahibadhoo\n",
      "atuona\n",
      "kodiak\n",
      "egvekinot\n",
      "puerto ayora\n",
      "chuy\n",
      "vila velha\n",
      "evanston\n",
      "mount gambier\n",
      "faanui\n",
      "hermanus\n",
      "taolanaro\n",
      "muros\n",
      "bredasdorp\n",
      "la palma\n",
      "upernavik\n",
      "sao joao da barra\n",
      "sofiysk\n",
      "guerrero negro\n",
      "dingle\n",
      "ha giang\n",
      "khorramshahr\n",
      "emerald\n",
      "tumannyy\n",
      "amderma\n",
      "dickson\n",
      "arraial do cabo\n",
      "srednekolymsk\n",
      "abu dhabi\n",
      "vaini\n",
      "dujuma\n",
      "kahului\n",
      "santa maria del rio\n",
      "senmonorom\n",
      "novoagansk\n",
      "hilo\n",
      "cognac\n",
      "inhambane\n",
      "ngukurr\n",
      "bocaranga\n",
      "new norfolk\n",
      "zhezkazgan\n",
      "ponnampet\n",
      "flinders\n",
      "naze\n",
      "disa\n",
      "kismayo\n",
      "longyearbyen\n",
      "viedma\n",
      "tiksi\n",
      "hobyo\n",
      "batagay-alyta\n",
      "wanning\n",
      "port elizabeth\n",
      "barrow\n",
      "komatipoort\n",
      "thompson\n",
      "cherskiy\n",
      "attawapiskat\n",
      "charters towers\n",
      "port alfred\n",
      "tasiilaq\n",
      "sabang\n",
      "castro\n",
      "hirara\n",
      "coracao de jesus\n",
      "shelburne\n",
      "santa maria\n",
      "baytown\n",
      "sao borja\n",
      "cockburn town\n",
      "prince rupert\n",
      "mackay\n",
      "tessalit\n",
      "sitka\n",
      "orissaare\n",
      "daru\n",
      "hammerfest\n",
      "lagoa\n",
      "illoqqortoormiut\n",
      "mitsamiouli\n",
      "kavieng\n",
      "bethel\n",
      "tema\n",
      "ponta do sol\n",
      "provideniya\n",
      "buraydah\n",
      "klobuck\n",
      "ust-kuyga\n",
      "butaritari\n",
      "vao\n",
      "galiwinku\n",
      "mrirt\n",
      "aklavik\n",
      "vila franca do campo\n",
      "ribas do rio pardo\n",
      "mehamn\n",
      "qeshm\n",
      "phan thiet\n",
      "morondava\n",
      "geraldton\n",
      "hobart\n",
      "atar\n",
      "yulara\n",
      "mar del plata\n",
      "bereda\n",
      "grand centre\n",
      "codrington\n",
      "dese\n",
      "hami\n",
      "kavaratti\n",
      "east london\n",
      "grand river south east\n",
      "turbat\n",
      "altay\n",
      "luena\n",
      "klaksvik\n",
      "georgetown\n",
      "southbridge\n",
      "cabo san lucas\n",
      "boundiali\n",
      "berlevag\n",
      "nome\n",
      "arlit\n",
      "victoria\n",
      "saleaula\n",
      "eureka\n",
      "amapa\n",
      "airai\n",
      "priargunsk\n",
      "coihaique\n",
      "vathi\n",
      "bathsheba\n",
      "orange cove\n",
      "stryn\n",
      "omboue\n",
      "tairua\n",
      "erzurum\n",
      "akhtanizovskaya\n",
      "isla mujeres\n",
      "salekhard\n",
      "galveston\n",
      "san patricio\n",
      "santa cruz de la palma\n",
      "diffa\n",
      "quatre cocos\n",
      "la ronge\n",
      "adrar\n",
      "sorong\n",
      "ribeira grande\n",
      "wajir\n",
      "belushya guba\n",
      "namibe\n",
      "pedro ii\n",
      "nemuro\n",
      "college\n",
      "kruisfontein\n",
      "haines junction\n",
      "verkhnyaya inta\n",
      "esperance\n",
      "nikolskoye\n",
      "north platte\n",
      "anadyr\n",
      "bengkulu\n",
      "waddan\n",
      "merauke\n",
      "karamken\n",
      "nanortalik\n",
      "havre-saint-pierre\n",
      "dispur\n",
      "ballarat\n",
      "seddon\n",
      "tacna\n",
      "toliary\n",
      "bima\n",
      "tallahassee\n",
      "langholm\n",
      "mareeba\n",
      "rudbar\n",
      "chimbote\n",
      "demba\n",
      "pontianak\n",
      "nguru\n",
      "oyama\n",
      "lata\n",
      "aberdeen\n",
      "praia\n",
      "chulman\n",
      "saint george\n",
      "webuye\n",
      "flin flon\n",
      "sulphur\n",
      "carnarvon\n",
      "aflu\n",
      "ozinki\n",
      "lompoc\n",
      "aleksandrovskoye\n",
      "yarmouth\n",
      "aguas vermelhas\n",
      "babaeski\n",
      "port hardy\n",
      "yuxia\n",
      "ayia anna\n",
      "chokurdakh\n",
      "jiroft\n",
      "natalinsk\n",
      "along\n",
      "gushi\n",
      "lambari\n",
      "fort frances\n",
      "hithadhoo\n",
      "minab\n",
      "tuggurt\n",
      "plover\n",
      "hienghene\n",
      "teguldet\n",
      "tuatapere\n",
      "usinsk\n",
      "vaitupu\n",
      "najran\n",
      "severo-yeniseyskiy\n",
      "bur gabo\n",
      "yumen\n",
      "poum\n",
      "saldanha\n",
      "berea\n",
      "baiyin\n",
      "faya\n",
      "grand gaube\n",
      "clyde river\n",
      "mabaruma\n",
      "roald\n",
      "parnarama\n",
      "powell river\n",
      "miles city\n",
      "zhigansk\n",
      "ilo\n",
      "mawlaik\n",
      "paradwip\n",
      "dakar\n",
      "labuhan\n",
      "thinadhoo\n",
      "banda aceh\n",
      "barranca\n",
      "mys shmidta\n",
      "taipei\n",
      "constantine\n",
      "craig\n",
      "amalapuram\n",
      "mudyuga\n",
      "lazarev\n",
      "bentiu\n",
      "bilma\n",
      "vardo\n",
      "giyani\n",
      "filadelfia\n",
      "avera\n",
      "vysokogornyy\n",
      "tibati\n",
      "port-cartier\n",
      "hue\n",
      "yakeshi\n",
      "sakakah\n",
      "tshikapa\n",
      "salalah\n",
      "antofagasta\n",
      "springfield\n",
      "khonuu\n",
      "gornyy\n",
      "tsihombe\n",
      "beloha\n",
      "sisimiut\n",
      "belaya gora\n",
      "sinnamary\n",
      "mirnyy\n",
      "micheweni\n",
      "methoni\n",
      "isangel\n",
      "sentyabrskiy\n",
      "ahipara\n",
      "rawson\n",
      "ketchikan\n",
      "villa carlos paz\n",
      "brae\n",
      "te anau\n",
      "nchelenge\n",
      "zelenoborskiy\n",
      "ushtobe\n",
      "ossora\n",
      "cap malheureux\n",
      "beringovskiy\n",
      "pandan\n",
      "wa\n",
      "angoche\n",
      "solsvik\n",
      "siva\n",
      "bubaque\n",
      "russell\n",
      "west wendover\n",
      "san vicente\n",
      "san rafael\n",
      "inderborskiy\n",
      "lorengau\n",
      "kuche\n",
      "nabire\n",
      "gushikawa\n",
      "ginda\n",
      "gat\n",
      "santiago del estero\n",
      "pisco\n",
      "fairbanks\n",
      "huaibei\n",
      "lima\n",
      "kulhudhuffushi\n",
      "corbelia\n",
      "karaul\n",
      "karratha\n",
      "xiangxiang\n",
      "pangnirtung\n",
      "tual\n",
      "yerbogachen\n",
      "soledade\n",
      "pangody\n",
      "luau\n",
      "marcona\n",
      "kloulklubed\n",
      "rocha\n",
      "yankton\n",
      "noboribetsu\n",
      "faridan\n",
      "pervomayskoye\n",
      "copiapo\n",
      "chegdomyn\n",
      "vaitape\n",
      "mikuni\n",
      "rexburg\n",
      "cumaribo\n",
      "tunduru\n",
      "mulege\n",
      "belyy yar\n",
      "malakal\n",
      "mae ramat\n",
      "stawell\n",
      "chicama\n",
      "muisne\n",
      "itupiranga\n",
      "ban nahin\n",
      "coquimbo\n",
      "hualmay\n",
      "harper\n",
      "taksimo\n",
      "priboj\n",
      "smithers\n",
      "kathu\n",
      "marang\n",
      "huron\n",
      "big spring\n",
      "tsabong\n",
      "buala\n",
      "wuwei\n",
      "ponta delgada\n",
      "paine\n",
      "sambava\n",
      "huarmey\n",
      "port moresby\n",
      "louisbourg\n",
      "helena\n",
      "santa cruz\n",
      "new glasgow\n",
      "quelimane\n",
      "kaitangata\n",
      "bridlington\n",
      "cartagena\n",
      "luderitz\n",
      "komsomolskiy\n",
      "kaitong\n",
      "kuragino\n",
      "takoradi\n",
      "viet tri\n",
      "port lincoln\n",
      "tuy hoa\n",
      "katsuura\n",
      "kokopo\n",
      "ikwiriri\n",
      "port hawkesbury\n",
      "rincon\n",
      "orlik\n",
      "aykhal\n",
      "onalaska\n",
      "khuzhir\n",
      "paamiut\n",
      "cavalcante\n",
      "shetpe\n",
      "bontang\n",
      "dapitan\n",
      "krasnoarmeysk\n",
      "mariselu\n",
      "nouadhibou\n",
      "westport\n",
      "inta\n",
      "vilyuysk\n",
      "chapais\n",
      "vestmanna\n",
      "porto belo\n",
      "caravelas\n",
      "nshamba\n",
      "ixtapa\n",
      "jos\n",
      "hasaki\n",
      "puerto cabezas\n",
      "upington\n",
      "frontera\n",
      "sao filipe\n",
      "taltal\n",
      "praya\n",
      "porto novo\n",
      "duarte\n",
      "sorland\n",
      "sola\n",
      "viligili\n",
      "tucuman\n",
      "odweyne\n",
      "wajima\n",
      "ahuimanu\n",
      "lasa\n",
      "elko\n",
      "kalaleh\n",
      "puunsi\n",
      "george town\n",
      "yeniseysk\n",
      "mount pleasant\n",
      "presque isle\n",
      "escalerillas\n",
      "kontagora\n",
      "goundam\n",
      "barras\n",
      "rankovce\n",
      "shimoda\n",
      "privolzhskiy\n",
      "prieska\n",
      "narsaq\n",
      "richards bay\n",
      "tayu\n",
      "port macquarie\n",
      "jinchang\n",
      "blagoveshchenka\n",
      "amahai\n",
      "coruripe\n",
      "progreso\n",
      "tsiroanomandidy\n",
      "inirida\n",
      "norman wells\n",
      "rognan\n",
      "san juan\n",
      "sarahan\n",
      "ebolowa\n",
      "porto de moz\n",
      "bjornevatn\n",
      "nishihara\n",
      "virginia beach\n",
      "palmer\n",
      "byron bay\n",
      "axim\n",
      "pemangkat\n",
      "topolevo\n",
      "udachnyy\n",
      "ovre ardal\n",
      "tselinnoye\n",
      "alofi\n",
      "la peca\n",
      "crab hill\n",
      "celestun\n",
      "weihe\n",
      "bulgan\n",
      "bongandanga\n",
      "marsabit\n",
      "imbituba\n",
      "venado tuerto\n",
      "leningradskiy\n",
      "lulea\n",
      "awbari\n",
      "fredericksburg\n",
      "morehead\n",
      "riyadh\n",
      "male\n",
      "jacareacanga\n",
      "comodoro rivadavia\n",
      "veraval\n",
      "saint-nazaire\n",
      "kyren\n",
      "sakaiminato\n",
      "ancud\n",
      "maceio\n",
      "port-gentil\n",
      "harindanga\n",
      "halalo\n",
      "tarnogskiy gorodok\n",
      "winslow\n",
      "tomatlan\n",
      "durazno\n",
      "jiddah\n",
      "saint augustine\n",
      "rio das ostras\n",
      "yaitepec\n",
      "aras\n",
      "yershichi\n",
      "solnechnyy\n",
      "nouakchott\n",
      "nizwa\n",
      "port-de-paix\n",
      "cabra\n",
      "thohoyandou\n",
      "ixtacomitan\n",
      "coahuayana\n",
      "arman\n",
      "vary\n",
      "rio grande\n",
      "gobabis\n",
      "griffith\n",
      "koumac\n",
      "upata\n",
      "el angel\n",
      "sulangan\n",
      "san quintin\n",
      "kuching\n",
      "xiashi\n",
      "bam\n",
      "carutapera\n",
      "sabalgarh\n",
      "seoul\n",
      "mandali\n",
      "centralia\n",
      "salamanca\n",
      "olafsvik\n"
     ]
    }
   ],
   "source": [
    "url = \"http://api.openweathermap.org/data/2.5/weather?\"\n",
    "units = \"imperial\"\n",
    "\n",
    "lat = []\n",
    "lng = []\n",
    "city_id = []\n",
    "wind = []\n",
    "hum = []\n",
    "max_tmp = []\n",
    "country = []\n",
    "cloudiness = []\n",
    "city_name = []\n",
    "date = []\n",
    "\n",
    "for city in cities:\n",
    "    try:\n",
    "        query_url = f\"{url}appid={weather_api_key}&units={units}&q={city}\"\n",
    "        response = requests.get(query_url).json()\n",
    "        lat.append(response['coord']['lat'])\n",
    "        lng.append(response['coord']['lon'])\n",
    "        cloudiness.append(response['clouds']['all'])\n",
    "        wind.append(response['wind']['speed'])\n",
    "        hum.append(response['main']['humidity'])\n",
    "        max_tmp.append(response['main']['temp_max'])\n",
    "        country.append(response['sys']['country'])\n",
    "        city_id.append(response['id'])\n",
    "        city_name.append(response['name'])\n",
    "        date.append(response['dt'])\n",
    "        #print(f\"Processing {cities[city]} | {city}\")\n",
    "    except: KeyError \n",
    "        \n",
    "       #print(f\"No data returnd for \" {city}: \"skipping.\")\n",
    "        \n",
    "        \n",
    "    \n",
    "    print(city)\n"
   ]
  },
  {
   "cell_type": "markdown",
   "metadata": {},
   "source": [
    "### Convert Raw Data to DataFrame\n",
    "* Export the city data into a .csv.\n",
    "* Display the DataFrame"
   ]
  },
  {
   "cell_type": "code",
   "execution_count": 6,
   "metadata": {},
   "outputs": [
    {
     "data": {
      "text/html": [
       "<div>\n",
       "<style scoped>\n",
       "    .dataframe tbody tr th:only-of-type {\n",
       "        vertical-align: middle;\n",
       "    }\n",
       "\n",
       "    .dataframe tbody tr th {\n",
       "        vertical-align: top;\n",
       "    }\n",
       "\n",
       "    .dataframe thead th {\n",
       "        text-align: right;\n",
       "    }\n",
       "</style>\n",
       "<table border=\"1\" class=\"dataframe\">\n",
       "  <thead>\n",
       "    <tr style=\"text-align: right;\">\n",
       "      <th></th>\n",
       "      <th>City Name</th>\n",
       "      <th>Cloudiness</th>\n",
       "      <th>Country</th>\n",
       "      <th>Date</th>\n",
       "      <th>Humidity</th>\n",
       "      <th>Latitude</th>\n",
       "      <th>Longitude</th>\n",
       "      <th>Max Temperature</th>\n",
       "      <th>Wind Speed</th>\n",
       "    </tr>\n",
       "  </thead>\n",
       "  <tbody>\n",
       "    <tr>\n",
       "      <td>0</td>\n",
       "      <td>Sao Mateus do Sul</td>\n",
       "      <td>0</td>\n",
       "      <td>BR</td>\n",
       "      <td>1580044480</td>\n",
       "      <td>46</td>\n",
       "      <td>-25.87</td>\n",
       "      <td>-50.38</td>\n",
       "      <td>75.33</td>\n",
       "      <td>0.94</td>\n",
       "    </tr>\n",
       "    <tr>\n",
       "      <td>1</td>\n",
       "      <td>Jamestown</td>\n",
       "      <td>99</td>\n",
       "      <td>US</td>\n",
       "      <td>1580044480</td>\n",
       "      <td>95</td>\n",
       "      <td>42.10</td>\n",
       "      <td>-79.24</td>\n",
       "      <td>33.01</td>\n",
       "      <td>10.00</td>\n",
       "    </tr>\n",
       "    <tr>\n",
       "      <td>2</td>\n",
       "      <td>Albany</td>\n",
       "      <td>53</td>\n",
       "      <td>US</td>\n",
       "      <td>1580044481</td>\n",
       "      <td>90</td>\n",
       "      <td>42.60</td>\n",
       "      <td>-73.97</td>\n",
       "      <td>35.01</td>\n",
       "      <td>4.38</td>\n",
       "    </tr>\n",
       "    <tr>\n",
       "      <td>3</td>\n",
       "      <td>San Policarpo</td>\n",
       "      <td>7</td>\n",
       "      <td>PH</td>\n",
       "      <td>1580044481</td>\n",
       "      <td>88</td>\n",
       "      <td>12.18</td>\n",
       "      <td>125.51</td>\n",
       "      <td>79.57</td>\n",
       "      <td>8.55</td>\n",
       "    </tr>\n",
       "    <tr>\n",
       "      <td>4</td>\n",
       "      <td>Punta Arenas</td>\n",
       "      <td>92</td>\n",
       "      <td>CL</td>\n",
       "      <td>1580044481</td>\n",
       "      <td>58</td>\n",
       "      <td>-53.15</td>\n",
       "      <td>-70.92</td>\n",
       "      <td>53.01</td>\n",
       "      <td>23.00</td>\n",
       "    </tr>\n",
       "  </tbody>\n",
       "</table>\n",
       "</div>"
      ],
      "text/plain": [
       "           City Name  Cloudiness Country        Date  Humidity  Latitude  \\\n",
       "0  Sao Mateus do Sul           0      BR  1580044480        46    -25.87   \n",
       "1          Jamestown          99      US  1580044480        95     42.10   \n",
       "2             Albany          53      US  1580044481        90     42.60   \n",
       "3      San Policarpo           7      PH  1580044481        88     12.18   \n",
       "4       Punta Arenas          92      CL  1580044481        58    -53.15   \n",
       "\n",
       "   Longitude  Max Temperature  Wind Speed  \n",
       "0     -50.38            75.33        0.94  \n",
       "1     -79.24            33.01       10.00  \n",
       "2     -73.97            35.01        4.38  \n",
       "3     125.51            79.57        8.55  \n",
       "4     -70.92            53.01       23.00  "
      ]
     },
     "execution_count": 6,
     "metadata": {},
     "output_type": "execute_result"
    }
   ],
   "source": [
    "weather_dict = {\n",
    "    \"City Name\": city_name,\n",
    "    \"Cloudiness\": cloudiness,\n",
    "    \"Country\": country,\n",
    "    \"Date\": date,\n",
    "    \"Humidity\": hum,\n",
    "    \"Latitude\": lat,\n",
    "    \"Longitude\": lng,\n",
    "    \"Max Temperature\": max_tmp,\n",
    "    \"Wind Speed\": wind\n",
    "    \n",
    "}\n",
    "\n",
    "weather_df = pd.DataFrame(weather_dict)\n",
    "\n",
    "weather_df.to_csv(output_data_file)\n",
    "\n",
    "weather_df.head()"
   ]
  },
  {
   "cell_type": "code",
   "execution_count": 7,
   "metadata": {},
   "outputs": [
    {
     "data": {
      "text/html": [
       "<div>\n",
       "<style scoped>\n",
       "    .dataframe tbody tr th:only-of-type {\n",
       "        vertical-align: middle;\n",
       "    }\n",
       "\n",
       "    .dataframe tbody tr th {\n",
       "        vertical-align: top;\n",
       "    }\n",
       "\n",
       "    .dataframe thead th {\n",
       "        text-align: right;\n",
       "    }\n",
       "</style>\n",
       "<table border=\"1\" class=\"dataframe\">\n",
       "  <thead>\n",
       "    <tr style=\"text-align: right;\">\n",
       "      <th></th>\n",
       "      <th>City Name</th>\n",
       "      <th>Cloudiness</th>\n",
       "      <th>Country</th>\n",
       "      <th>Date</th>\n",
       "      <th>Humidity</th>\n",
       "      <th>Latitude</th>\n",
       "      <th>Longitude</th>\n",
       "      <th>Max Temperature</th>\n",
       "      <th>Wind Speed</th>\n",
       "    </tr>\n",
       "  </thead>\n",
       "  <tbody>\n",
       "    <tr>\n",
       "      <td>0</td>\n",
       "      <td>Sao Mateus do Sul</td>\n",
       "      <td>0</td>\n",
       "      <td>BR</td>\n",
       "      <td>1580044480</td>\n",
       "      <td>46</td>\n",
       "      <td>-25.87</td>\n",
       "      <td>-50.38</td>\n",
       "      <td>75.33</td>\n",
       "      <td>0.94</td>\n",
       "    </tr>\n",
       "    <tr>\n",
       "      <td>4</td>\n",
       "      <td>Punta Arenas</td>\n",
       "      <td>92</td>\n",
       "      <td>CL</td>\n",
       "      <td>1580044481</td>\n",
       "      <td>58</td>\n",
       "      <td>-53.15</td>\n",
       "      <td>-70.92</td>\n",
       "      <td>53.01</td>\n",
       "      <td>23.00</td>\n",
       "    </tr>\n",
       "    <tr>\n",
       "      <td>5</td>\n",
       "      <td>Banyumas</td>\n",
       "      <td>85</td>\n",
       "      <td>ID</td>\n",
       "      <td>1580044453</td>\n",
       "      <td>83</td>\n",
       "      <td>-7.51</td>\n",
       "      <td>109.29</td>\n",
       "      <td>79.97</td>\n",
       "      <td>2.24</td>\n",
       "    </tr>\n",
       "    <tr>\n",
       "      <td>6</td>\n",
       "      <td>Padang</td>\n",
       "      <td>100</td>\n",
       "      <td>ID</td>\n",
       "      <td>1580044481</td>\n",
       "      <td>97</td>\n",
       "      <td>-0.95</td>\n",
       "      <td>100.35</td>\n",
       "      <td>71.10</td>\n",
       "      <td>0.58</td>\n",
       "    </tr>\n",
       "    <tr>\n",
       "      <td>7</td>\n",
       "      <td>Cidreira</td>\n",
       "      <td>7</td>\n",
       "      <td>BR</td>\n",
       "      <td>1580044481</td>\n",
       "      <td>63</td>\n",
       "      <td>-30.18</td>\n",
       "      <td>-50.21</td>\n",
       "      <td>75.87</td>\n",
       "      <td>8.03</td>\n",
       "    </tr>\n",
       "  </tbody>\n",
       "</table>\n",
       "</div>"
      ],
      "text/plain": [
       "           City Name  Cloudiness Country        Date  Humidity  Latitude  \\\n",
       "0  Sao Mateus do Sul           0      BR  1580044480        46    -25.87   \n",
       "4       Punta Arenas          92      CL  1580044481        58    -53.15   \n",
       "5           Banyumas          85      ID  1580044453        83     -7.51   \n",
       "6             Padang         100      ID  1580044481        97     -0.95   \n",
       "7           Cidreira           7      BR  1580044481        63    -30.18   \n",
       "\n",
       "   Longitude  Max Temperature  Wind Speed  \n",
       "0     -50.38            75.33        0.94  \n",
       "4     -70.92            53.01       23.00  \n",
       "5     109.29            79.97        2.24  \n",
       "6     100.35            71.10        0.58  \n",
       "7     -50.21            75.87        8.03  "
      ]
     },
     "execution_count": 7,
     "metadata": {},
     "output_type": "execute_result"
    }
   ],
   "source": [
    "south_forgets = weather_df.loc[weather_df[\"Latitude\"]<= 0, :]\n",
    "\n",
    "south_forgets.head()"
   ]
  },
  {
   "cell_type": "code",
   "execution_count": 8,
   "metadata": {},
   "outputs": [
    {
     "data": {
      "text/html": [
       "<div>\n",
       "<style scoped>\n",
       "    .dataframe tbody tr th:only-of-type {\n",
       "        vertical-align: middle;\n",
       "    }\n",
       "\n",
       "    .dataframe tbody tr th {\n",
       "        vertical-align: top;\n",
       "    }\n",
       "\n",
       "    .dataframe thead th {\n",
       "        text-align: right;\n",
       "    }\n",
       "</style>\n",
       "<table border=\"1\" class=\"dataframe\">\n",
       "  <thead>\n",
       "    <tr style=\"text-align: right;\">\n",
       "      <th></th>\n",
       "      <th>City Name</th>\n",
       "      <th>Cloudiness</th>\n",
       "      <th>Country</th>\n",
       "      <th>Date</th>\n",
       "      <th>Humidity</th>\n",
       "      <th>Latitude</th>\n",
       "      <th>Longitude</th>\n",
       "      <th>Max Temperature</th>\n",
       "      <th>Wind Speed</th>\n",
       "    </tr>\n",
       "  </thead>\n",
       "  <tbody>\n",
       "    <tr>\n",
       "      <td>1</td>\n",
       "      <td>Jamestown</td>\n",
       "      <td>99</td>\n",
       "      <td>US</td>\n",
       "      <td>1580044480</td>\n",
       "      <td>95</td>\n",
       "      <td>42.10</td>\n",
       "      <td>-79.24</td>\n",
       "      <td>33.01</td>\n",
       "      <td>10.00</td>\n",
       "    </tr>\n",
       "    <tr>\n",
       "      <td>2</td>\n",
       "      <td>Albany</td>\n",
       "      <td>53</td>\n",
       "      <td>US</td>\n",
       "      <td>1580044481</td>\n",
       "      <td>90</td>\n",
       "      <td>42.60</td>\n",
       "      <td>-73.97</td>\n",
       "      <td>35.01</td>\n",
       "      <td>4.38</td>\n",
       "    </tr>\n",
       "    <tr>\n",
       "      <td>3</td>\n",
       "      <td>San Policarpo</td>\n",
       "      <td>7</td>\n",
       "      <td>PH</td>\n",
       "      <td>1580044481</td>\n",
       "      <td>88</td>\n",
       "      <td>12.18</td>\n",
       "      <td>125.51</td>\n",
       "      <td>79.57</td>\n",
       "      <td>8.55</td>\n",
       "    </tr>\n",
       "    <tr>\n",
       "      <td>8</td>\n",
       "      <td>Ratnagiri</td>\n",
       "      <td>1</td>\n",
       "      <td>IN</td>\n",
       "      <td>1580044481</td>\n",
       "      <td>51</td>\n",
       "      <td>16.98</td>\n",
       "      <td>73.30</td>\n",
       "      <td>82.62</td>\n",
       "      <td>7.58</td>\n",
       "    </tr>\n",
       "    <tr>\n",
       "      <td>10</td>\n",
       "      <td>Sur</td>\n",
       "      <td>47</td>\n",
       "      <td>OM</td>\n",
       "      <td>1580044482</td>\n",
       "      <td>65</td>\n",
       "      <td>22.57</td>\n",
       "      <td>59.53</td>\n",
       "      <td>70.65</td>\n",
       "      <td>15.21</td>\n",
       "    </tr>\n",
       "  </tbody>\n",
       "</table>\n",
       "</div>"
      ],
      "text/plain": [
       "        City Name  Cloudiness Country        Date  Humidity  Latitude  \\\n",
       "1       Jamestown          99      US  1580044480        95     42.10   \n",
       "2          Albany          53      US  1580044481        90     42.60   \n",
       "3   San Policarpo           7      PH  1580044481        88     12.18   \n",
       "8       Ratnagiri           1      IN  1580044481        51     16.98   \n",
       "10            Sur          47      OM  1580044482        65     22.57   \n",
       "\n",
       "    Longitude  Max Temperature  Wind Speed  \n",
       "1      -79.24            33.01       10.00  \n",
       "2      -73.97            35.01        4.38  \n",
       "3      125.51            79.57        8.55  \n",
       "8       73.30            82.62        7.58  \n",
       "10      59.53            70.65       15.21  "
      ]
     },
     "execution_count": 8,
     "metadata": {},
     "output_type": "execute_result"
    }
   ],
   "source": [
    "north_remembers = weather_df.loc[weather_df[\"Latitude\"] >= 0, :]\n",
    "\n",
    "\n",
    "north_remembers.head()"
   ]
  },
  {
   "cell_type": "markdown",
   "metadata": {},
   "source": [
    "### Plotting the Data\n",
    "* Use proper labeling of the plots using plot titles (including date of analysis) and axes labels.\n",
    "* Save the plotted figures as .pngs."
   ]
  },
  {
   "cell_type": "markdown",
   "metadata": {},
   "source": [
    "#### Latitude vs. Temperature Plot"
   ]
  },
  {
   "cell_type": "code",
   "execution_count": 23,
   "metadata": {
    "scrolled": true
   },
   "outputs": [
    {
     "data": {
      "image/png": "[encoded data removed]",
      "text/plain": [
       "<Figure size 432x288 with 1 Axes>"
      ]
     },
     "metadata": {
      "needs_background": "light"
     },
     "output_type": "display_data"
    }
   ],
   "source": [
    "plt.title(\"City Latitude vs. Max Temperature\")\n",
    "plt.xlabel(\"Latitude\")\n",
    "plt.ylabel(\"Max Temp\")\n",
    "\n",
    "plt.scatter(weather_df[[\"Latitude\"]], weather_df[[\"Max Temperature\"]], marker=\"o\", color=\"green\")\n",
    "plt.show()"
   ]
  },
  {
   "cell_type": "code",
   "execution_count": 24,
   "metadata": {},
   "outputs": [
    {
     "name": "stdout",
     "output_type": "stream",
     "text": [
      "The above scatter plot is showing the max temeratures of the cities in the list with respect to their latitidues.\n",
      "From the plot, it appears that the further notrh a city is the lower the max temp. But not nearly so much of a differnce the further south.\n"
     ]
    }
   ],
   "source": [
    "print(\"The above scatter plot is showing the max temeratures of the cities in the list with respect to their latitidues.\")\n",
    "print(\"From the plot, it appears that the further notrh a city is the lower the max temp. But not nearly so much of a differnce the further south.\")"
   ]
  },
  {
   "cell_type": "markdown",
   "metadata": {},
   "source": [
    "#### Latitude vs. Humidity Plot"
   ]
  },
  {
   "cell_type": "code",
   "execution_count": 10,
   "metadata": {},
   "outputs": [
    {
     "data": {
      "image/png": "[encoded data removed]",
      "text/plain": [
       "<Figure size 432x288 with 1 Axes>"
      ]
     },
     "metadata": {
      "needs_background": "light"
     },
     "output_type": "display_data"
    }
   ],
   "source": [
    "plt.title(\"City Latitude vs. Humidity\")\n",
    "plt.xlabel(\"Latitude\")\n",
    "plt.ylabel(\"Humidity\")\n",
    "\n",
    "plt.scatter(weather_df[[\"Latitude\"]], weather_df[[\"Humidity\"]], marker=\"o\", color=\"green\")\n",
    "plt.show()"
   ]
  },
  {
   "cell_type": "code",
   "execution_count": null,
   "metadata": {},
   "outputs": [],
   "source": [
    "print(\"This is a sctter plot showing humidity with respect to latitide. This plot suggests that latitude is not closely related to humidity of a city.\")"
   ]
  },
  {
   "cell_type": "markdown",
   "metadata": {},
   "source": [
    "#### Latitude vs. Cloudiness Plot"
   ]
  },
  {
   "cell_type": "code",
   "execution_count": 11,
   "metadata": {},
   "outputs": [
    {
     "data": {
      "image/png": "[encoded data removed]",
      "text/plain": [
       "<Figure size 432x288 with 1 Axes>"
      ]
     },
     "metadata": {
      "needs_background": "light"
     },
     "output_type": "display_data"
    }
   ],
   "source": [
    "plt.title(\"City Latitude vs. Cloudiness\")\n",
    "plt.xlabel(\"Latitude\")\n",
    "plt.ylabel(\"Cloudiness\")\n",
    "\n",
    "plt.scatter(weather_df[[\"Latitude\"]], weather_df[[\"Cloudiness\"]], marker=\"o\", color=\"green\")\n",
    "plt.show()"
   ]
  },
  {
   "cell_type": "code",
   "execution_count": null,
   "metadata": {},
   "outputs": [],
   "source": [
    "print(\"The lattitide to cloudiness sctter plot also indicates no strong relationship between latitude of a city and how cloudy it may be.\")"
   ]
  },
  {
   "cell_type": "markdown",
   "metadata": {},
   "source": [
    "#### Latitude vs. Wind Speed Plot"
   ]
  },
  {
   "cell_type": "code",
   "execution_count": 12,
   "metadata": {},
   "outputs": [
    {
     "data": {
      "image/png": "[encoded data removed]",
      "text/plain": [
       "<Figure size 432x288 with 1 Axes>"
      ]
     },
     "metadata": {
      "needs_background": "light"
     },
     "output_type": "display_data"
    }
   ],
   "source": [
    "plt.title(\"City Latitude vs. Wind Speed (mph)\")\n",
    "plt.xlabel(\"Latitude\")\n",
    "plt.ylabel(\"Wind Speed (mph)\")\n",
    "\n",
    "plt.scatter(weather_df[[\"Latitude\"]], weather_df[[\"Wind Speed\"]], marker=\"o\", color=\"green\")\n",
    "plt.show()"
   ]
  },
  {
   "cell_type": "code",
   "execution_count": null,
   "metadata": {},
   "outputs": [],
   "source": [
    "print(\"Wind speed is typically low accross all latitudes per this scatter plot.\")"
   ]
  },
  {
   "cell_type": "markdown",
   "metadata": {},
   "source": [
    "## Linear Regression"
   ]
  },
  {
   "cell_type": "code",
   "execution_count": 13,
   "metadata": {},
   "outputs": [],
   "source": [
    "# OPTIONAL: Create a function to create Linear Regression plots\n"
   ]
  },
  {
   "cell_type": "code",
   "execution_count": 14,
   "metadata": {},
   "outputs": [],
   "source": [
    "# Create Northern and Southern Hemisphere DataFrames\n",
    "\n",
    "# Coded this earlier in th 'north_remembers and sout_forgets dataframes'\n"
   ]
  },
  {
   "cell_type": "markdown",
   "metadata": {},
   "source": [
    "####  Northern Hemisphere - Max Temp vs. Latitude Linear Regression"
   ]
  },
  {
   "cell_type": "code",
   "execution_count": 15,
   "metadata": {},
   "outputs": [
    {
     "data": {
      "image/png": "[encoded data removed]",
      "text/plain": [
       "<Figure size 432x288 with 1 Axes>"
      ]
     },
     "metadata": {
      "needs_background": "light"
     },
     "output_type": "display_data"
    }
   ],
   "source": [
    "x_values = north_remembers['Latitude']\n",
    "y_values = north_remembers['Max Temperature']\n",
    "(slope, intercept, rvalue, pvalue, stderr) = linregress(x_values, y_values)\n",
    "regress_values = x_values * slope + intercept\n",
    "line_eq = \"y = \" + str(round(slope,2)) + \"x + \" + str(round(intercept,2))\n",
    "plt.scatter(x_values,y_values)\n",
    "plt.plot(x_values,regress_values,\"r-\")\n",
    "plt.annotate(line_eq,(6,10),fontsize=15,color=\"red\")\n",
    "plt.title(\"Northern Hemisphere - Max Temp vs. Latitude Linear Regression\")\n",
    "plt.xlabel('Latitude')\n",
    "plt.ylabel('Max Temperature')\n",
    "plt.show()"
   ]
  },
  {
   "cell_type": "markdown",
   "metadata": {},
   "source": [
    "####  Southern Hemisphere - Max Temp vs. Latitude Linear Regression"
   ]
  },
  {
   "cell_type": "code",
   "execution_count": 16,
   "metadata": {
    "scrolled": true
   },
   "outputs": [
    {
     "data": {
      "image/png": "[encoded data removed]",
      "text/plain": [
       "<Figure size 432x288 with 1 Axes>"
      ]
     },
     "metadata": {
      "needs_background": "light"
     },
     "output_type": "display_data"
    }
   ],
   "source": [
    "x_values = south_forgets['Latitude']\n",
    "y_values = south_forgets['Max Temperature']\n",
    "(slope, intercept, rvalue, pvalue, stderr) = linregress(x_values, y_values)\n",
    "regress_values = x_values * slope + intercept\n",
    "line_eq = \"y = \" + str(round(slope,2)) + \"x + \" + str(round(intercept,2))\n",
    "plt.scatter(x_values,y_values)\n",
    "plt.plot(x_values,regress_values,\"r-\")\n",
    "plt.annotate(line_eq,(6,10),fontsize=15,color=\"red\")\n",
    "plt.title(\"Southern Hemisphere - Max Temp vs. Latitude Linear Regression\")\n",
    "plt.xlabel('Latitude')\n",
    "plt.ylabel('Max Temperature')\n",
    "plt.show()"
   ]
  },
  {
   "cell_type": "markdown",
   "metadata": {},
   "source": [
    "####  Northern Hemisphere - Humidity (%) vs. Latitude Linear Regression"
   ]
  },
  {
   "cell_type": "code",
   "execution_count": 17,
   "metadata": {},
   "outputs": [
    {
     "data": {
      "image/png": "[encoded data removed]",
      "text/plain": [
       "<Figure size 432x288 with 1 Axes>"
      ]
     },
     "metadata": {
      "needs_background": "light"
     },
     "output_type": "display_data"
    }
   ],
   "source": [
    "x_val = north_remembers['Latitude']\n",
    "y_val = north_remembers['Humidity']\n",
    "(slope, intercept, rvalue, pvalue, stderr) = linregress(x_val, y_val)\n",
    "regress_val = x_val * slope + intercept\n",
    "line_eq = \"y = \" + str(round(slope,2)) + \"x + \" + str(round(intercept,2))\n",
    "plt.scatter(x_val,y_val)\n",
    "plt.plot(x_val,regress_val,\"r-\")\n",
    "plt.annotate(line_eq,(6,10),fontsize=15,color=\"red\")\n",
    "plt.title(\"Northern Hemisphere - Humidity (%) vs. Latitude Linear Regression\")\n",
    "plt.xlabel('Latitude')\n",
    "plt.ylabel('Humidity')\n",
    "plt.show()"
   ]
  },
  {
   "cell_type": "markdown",
   "metadata": {},
   "source": [
    "####  Southern Hemisphere - Humidity (%) vs. Latitude Linear Regression"
   ]
  },
  {
   "cell_type": "code",
   "execution_count": 18,
   "metadata": {},
   "outputs": [
    {
     "data": {
      "image/png": "[encoded data removed]",
      "text/plain": [
       "<Figure size 432x288 with 1 Axes>"
      ]
     },
     "metadata": {
      "needs_background": "light"
     },
     "output_type": "display_data"
    }
   ],
   "source": [
    "x_values = south_forgets['Latitude']\n",
    "y_values = south_forgets['Humidity']\n",
    "(slope, intercept, rvalue, pvalue, stderr) = linregress(x_values, y_values)\n",
    "regress_values = x_values * slope + intercept\n",
    "line_eq = \"y = \" + str(round(slope,2)) + \"x + \" + str(round(intercept,2))\n",
    "plt.scatter(x_values,y_values)\n",
    "plt.plot(x_values,regress_values,\"r-\")\n",
    "plt.annotate(line_eq,(6,10),fontsize=15,color=\"red\")\n",
    "plt.title(\"Southern Hemisphere - Humidity (%) vs. Latitude Linear Regression\")\n",
    "plt.xlabel('Latitude')\n",
    "plt.ylabel('Humidity')\n",
    "plt.show()"
   ]
  },
  {
   "cell_type": "markdown",
   "metadata": {},
   "source": [
    "####  Northern Hemisphere - Cloudiness (%) vs. Latitude Linear Regression"
   ]
  },
  {
   "cell_type": "code",
   "execution_count": 19,
   "metadata": {},
   "outputs": [
    {
     "data": {
      "image/png": "[encoded data removed]",
      "text/plain": [
       "<Figure size 432x288 with 1 Axes>"
      ]
     },
     "metadata": {
      "needs_background": "light"
     },
     "output_type": "display_data"
    }
   ],
   "source": [
    "x_val = north_remembers['Latitude']\n",
    "y_val = north_remembers['Cloudiness']\n",
    "(slope, intercept, rvalue, pvalue, stderr) = linregress(x_val, y_val)\n",
    "regress_val = x_val * slope + intercept\n",
    "line_eq = \"y = \" + str(round(slope,2)) + \"x + \" + str(round(intercept,2))\n",
    "plt.scatter(x_val,y_val)\n",
    "plt.plot(x_val,regress_val,\"r-\")\n",
    "plt.annotate(line_eq,(6,10),fontsize=15,color=\"red\")\n",
    "plt.title(\"Northern Hemisphere - Cloudiness (%) vs. Latitude Linear Regression\")\n",
    "plt.xlabel('Latitude')\n",
    "plt.ylabel('Cloudiness')\n",
    "plt.show()"
   ]
  },
  {
   "cell_type": "markdown",
   "metadata": {},
   "source": [
    "####  Southern Hemisphere - Cloudiness (%) vs. Latitude Linear Regression"
   ]
  },
  {
   "cell_type": "code",
   "execution_count": 20,
   "metadata": {},
   "outputs": [
    {
     "data": {
      "image/png": "[encoded data removed]",
      "text/plain": [
       "<Figure size 432x288 with 1 Axes>"
      ]
     },
     "metadata": {
      "needs_background": "light"
     },
     "output_type": "display_data"
    }
   ],
   "source": [
    "x_val = south_forgets['Latitude']\n",
    "y_val = south_forgets['Cloudiness']\n",
    "(slope, intercept, rvalue, pvalue, stderr) = linregress(x_val, y_val)\n",
    "regress_val = x_val * slope + intercept\n",
    "line_eq = \"y = \" + str(round(slope,2)) + \"x + \" + str(round(intercept,2))\n",
    "plt.scatter(x_val,y_val)\n",
    "plt.plot(x_val,regress_val,\"r-\")\n",
    "plt.annotate(line_eq,(6,10),fontsize=15,color=\"red\")\n",
    "plt.title(\"Southern Hemisphere - Cloudiness (%) vs. Latitude Linear Regression\")\n",
    "plt.xlabel('Latitude')\n",
    "plt.ylabel('Cloudiness')\n",
    "plt.show()"
   ]
  },
  {
   "cell_type": "markdown",
   "metadata": {},
   "source": [
    "####  Northern Hemisphere - Wind Speed (mph) vs. Latitude Linear Regression"
   ]
  },
  {
   "cell_type": "code",
   "execution_count": 21,
   "metadata": {},
   "outputs": [
    {
     "data": {
      "image/png": "[encoded data removed]",
      "text/plain": [
       "<Figure size 432x288 with 1 Axes>"
      ]
     },
     "metadata": {
      "needs_background": "light"
     },
     "output_type": "display_data"
    }
   ],
   "source": [
    "x_val = north_remembers['Latitude']\n",
    "y_val = north_remembers['Wind Speed']\n",
    "(slope, intercept, rvalue, pvalue, stderr) = linregress(x_val, y_val)\n",
    "regress_val = x_val * slope + intercept\n",
    "line_eq = \"y = \" + str(round(slope,2)) + \"x + \" + str(round(intercept,2))\n",
    "plt.scatter(x_val,y_val)\n",
    "plt.plot(x_val,regress_val,\"r-\")\n",
    "plt.annotate(line_eq,(6,10),fontsize=15,color=\"red\")\n",
    "plt.title(\"Northern Hemisphere - Wind Speed (mph) vs. Latitude Linear Regression\")\n",
    "plt.xlabel('Latitude')\n",
    "plt.ylabel('Wind Speed (mph)')\n",
    "plt.show()"
   ]
  },
  {
   "cell_type": "markdown",
   "metadata": {},
   "source": [
    "####  Southern Hemisphere - Wind Speed (mph) vs. Latitude Linear Regression"
   ]
  },
  {
   "cell_type": "code",
   "execution_count": 22,
   "metadata": {},
   "outputs": [
    {
     "data": {
      "image/png": "[encoded data removed]",
      "text/plain": [
       "<Figure size 432x288 with 1 Axes>"
      ]
     },
     "metadata": {
      "needs_background": "light"
     },
     "output_type": "display_data"
    }
   ],
   "source": [
    "x_val = south_forgets['Latitude']\n",
    "y_val = south_forgets['Wind Speed']\n",
    "(slope, intercept, rvalue, pvalue, stderr) = linregress(x_val, y_val)\n",
    "regress_val = x_val * slope + intercept\n",
    "line_eq = \"y = \" + str(round(slope,2)) + \"x + \" + str(round(intercept,2))\n",
    "plt.scatter(x_val,y_val)\n",
    "plt.plot(x_val,regress_val,\"r-\")\n",
    "plt.annotate(line_eq,(6,10),fontsize=15,color=\"red\")\n",
    "plt.title(\"Southern Hemisphere - Wind Speed (mph) vs. Latitude Linear Regression\")\n",
    "plt.xlabel('Latitude')\n",
    "plt.ylabel('Wind Speed (mph)')\n",
    "plt.show()"
   ]
  },
  {
   "cell_type": "code",
   "execution_count": null,
   "metadata": {},
   "outputs": [],
   "source": []
  },
  {
   "cell_type": "code",
   "execution_count": null,
   "metadata": {},
   "outputs": [],
   "source": []
  },
  {
   "cell_type": "code",
   "execution_count": null,
   "metadata": {},
   "outputs": [],
   "source": []
  },
  {
   "cell_type": "code",
   "execution_count": null,
   "metadata": {},
   "outputs": [],
   "source": []
  }
 ],
 "metadata": {
  "anaconda-cloud": {},
  "kernel_info": {
   "name": "python3"
  },
  "kernelspec": {
   "display_name": "Python 3",
   "language": "python",
   "name": "python3"
  },
  "language_info": {
   "codemirror_mode": {
    "name": "ipython",
    "version": 3
   },
   "file_extension": ".py",
   "mimetype": "text/x-python",
   "name": "python",
   "nbconvert_exporter": "python",
   "pygments_lexer": "ipython3",
   "version": "3.7.4"
  },
  "latex_envs": {
   "LaTeX_envs_menu_present": true,
   "autoclose": false,
   "autocomplete": true,
   "bibliofile": "biblio.bib",
   "cite_by": "apalike",
   "current_citInitial": 1,
   "eqLabelWithNumbers": true,
   "eqNumInitial": 1,
   "hotkeys": {
    "equation": "Ctrl-E",
    "itemize": "Ctrl-I"
   },
   "labels_anchors": false,
   "latex_user_defs": false,
   "report_style_numbering": false,
   "user_envs_cfg": false
  },
  "nteract": {
   "version": "0.12.3"
  }
 },
 "nbformat": 4,
 "nbformat_minor": 2
}
