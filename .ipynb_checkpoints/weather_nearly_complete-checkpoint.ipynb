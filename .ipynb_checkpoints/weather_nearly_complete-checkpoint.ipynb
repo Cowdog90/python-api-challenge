{
 "cells": [
  {
   "cell_type": "markdown",
   "metadata": {},
   "source": [
    "# WeatherPy\n",
    "----\n",
    "\n",
    "#### Note\n",
    "* Instructions have been included for each segment. You do not have to follow them exactly, but they are included to help you think through the steps."
   ]
  },
  {
   "cell_type": "code",
   "execution_count": 23,
   "metadata": {
    "scrolled": true
   },
   "outputs": [],
   "source": [
    "# Dependencies and Setup\n",
    "import matplotlib.pyplot as plt\n",
    "import pandas as pd\n",
    "import numpy as np\n",
    "import requests\n",
    "import time\n",
    "from scipy.stats import linregress\n",
    "\n",
    "# Import API key\n",
    "from api_keys import weather_api_key\n",
    "\n",
    "# Incorporated citipy to determine city based on latitude and longitude\n",
    "from citipy import citipy\n",
    "\n",
    "# Output File (CSV)\n",
    "output_data_file = \"output_data/cities.csv\"\n",
    "\n",
    "# Range of latitudes and longitudes\n",
    "lat_range = (-90, 90)\n",
    "lng_range = (-180, 180)"
   ]
  },
  {
   "cell_type": "markdown",
   "metadata": {},
   "source": [
    "## Generate Cities List"
   ]
  },
  {
   "cell_type": "code",
   "execution_count": 24,
   "metadata": {},
   "outputs": [
    {
     "data": {
      "text/plain": [
       "631"
      ]
     },
     "execution_count": 24,
     "metadata": {},
     "output_type": "execute_result"
    }
   ],
   "source": [
    "# List for holding lat_lngs and cities\n",
    "lat_lngs = []\n",
    "cities = []\n",
    "\n",
    "# Create a set of random lat and lng combinations\n",
    "lats = np.random.uniform(low=-90.000, high=90.000, size=1500)\n",
    "lngs = np.random.uniform(low=-180.000, high=180.000, size=1500)\n",
    "lat_lngs = zip(lats, lngs)\n",
    "\n",
    "# Identify nearest city for each lat, lng combination\n",
    "for lat_lng in lat_lngs:\n",
    "    city = citipy.nearest_city(lat_lng[0], lat_lng[1]).city_name\n",
    "    \n",
    "    # If the city is unique, then add it to a our cities list\n",
    "    if city not in cities:\n",
    "        cities.append(city)\n",
    "\n",
    "# Print the city count to confirm sufficient count\n",
    "len(cities)"
   ]
  },
  {
   "cell_type": "markdown",
   "metadata": {},
   "source": [
    "### Perform API Calls\n",
    "* Perform a weather check on each city using a series of successive API calls.\n",
    "* Include a print log of each city as it'sbeing processed (with the city number and city name).\n"
   ]
  },
  {
   "cell_type": "code",
   "execution_count": 25,
   "metadata": {},
   "outputs": [
    {
     "name": "stdout",
     "output_type": "stream",
     "text": [
      "sitka\n",
      "busselton\n",
      "sentyabrskiy\n",
      "mirabad\n",
      "ushuaia\n",
      "barentsburg\n",
      "kapaa\n",
      "taolanaro\n",
      "vaini\n",
      "goderich\n",
      "hermanus\n",
      "rikitea\n",
      "illoqqortoormiut\n",
      "gunnedah\n",
      "airai\n",
      "kodiak\n",
      "yellowknife\n",
      "miri\n",
      "samusu\n",
      "carnarvon\n",
      "bambous virieux\n",
      "kodinsk\n",
      "cape town\n",
      "tasiilaq\n",
      "lompoc\n",
      "codrington\n",
      "chokurdakh\n",
      "hobart\n",
      "mercedes\n",
      "bredasdorp\n",
      "solnechnyy\n",
      "joensuu\n",
      "paamiut\n",
      "pontalina\n",
      "kathu\n",
      "vanimo\n",
      "cidreira\n",
      "christchurch\n",
      "castro\n",
      "kavieng\n",
      "saint-philippe\n",
      "nouadhibou\n",
      "belushya guba\n",
      "lolua\n",
      "sao filipe\n",
      "westport\n",
      "port elizabeth\n",
      "uribia\n",
      "galle\n",
      "azul\n",
      "port alfred\n",
      "port lincoln\n",
      "hilo\n",
      "veinte de noviembre\n",
      "zhaocheng\n",
      "monrovia\n",
      "mataura\n",
      "louisbourg\n",
      "tautira\n",
      "dauriya\n",
      "lebu\n",
      "faanui\n",
      "bengkulu\n",
      "lerwick\n",
      "angra dos reis\n",
      "tymovskoye\n",
      "magdagachi\n",
      "barra do garcas\n",
      "punta arenas\n",
      "sumbawa\n",
      "takoradi\n",
      "mahebourg\n",
      "intipuca\n",
      "sinazongwe\n",
      "nikolskoye\n",
      "norheimsund\n",
      "dingle\n",
      "doctor pedro p. pena\n",
      "saskylakh\n",
      "tonota\n",
      "nerchinsk\n",
      "chantada\n",
      "tsihombe\n",
      "marawi\n",
      "jamestown\n",
      "nanortalik\n",
      "kruisfontein\n",
      "pevek\n",
      "salalah\n",
      "bolungarvik\n",
      "palabuhanratu\n",
      "kaitangata\n",
      "asau\n",
      "milingimbi\n",
      "aksu\n",
      "atasu\n",
      "chuy\n",
      "puerto escondido\n",
      "puerto ayora\n",
      "atuona\n",
      "amapa\n",
      "cheney\n",
      "madang\n",
      "kirksville\n",
      "hay river\n",
      "mananjary\n",
      "san juan\n",
      "thompson\n",
      "salamiyah\n",
      "naryan-mar\n",
      "tateyama\n",
      "albany\n",
      "bowen\n",
      "fairbanks\n",
      "quatre cocos\n",
      "kiruna\n",
      "kuusamo\n",
      "luderitz\n",
      "kulhudhuffushi\n",
      "lazaro cardenas\n",
      "byron bay\n",
      "itarema\n",
      "georgetown\n",
      "hegang\n",
      "mar del plata\n",
      "bluff\n",
      "santa maria\n",
      "port hedland\n",
      "clemencia\n",
      "bur gabo\n",
      "yar-sale\n",
      "andenes\n",
      "severo-kurilsk\n",
      "kristiansund\n",
      "itoman\n",
      "great yarmouth\n",
      "bilibino\n",
      "serowe\n",
      "bukoba\n",
      "karasjok\n",
      "shibetsu\n",
      "qaanaaq\n",
      "steinbach\n",
      "viligili\n",
      "khatanga\n",
      "dikson\n",
      "portobelo\n",
      "chabahar\n",
      "ivanjica\n",
      "twin falls\n",
      "dudinka\n",
      "barrow\n",
      "souillac\n",
      "duz\n",
      "mys shmidta\n",
      "turukhansk\n",
      "otane\n",
      "namibe\n",
      "new norfolk\n",
      "ankazoabo\n",
      "bayan\n",
      "rio grande\n",
      "pinega\n",
      "rocha\n",
      "torbay\n",
      "ustye\n",
      "arraial do cabo\n",
      "houston\n",
      "nizhneyansk\n",
      "debre tabor\n",
      "petropavlovka\n",
      "zabid\n",
      "chitungwiza\n",
      "cayenne\n",
      "collie\n",
      "ribeira grande\n",
      "kuito\n",
      "grand river south east\n",
      "chimore\n",
      "vardo\n",
      "bandar\n",
      "buala\n",
      "port-gentil\n",
      "yunguyo\n",
      "neryungri\n",
      "sola\n",
      "attawapiskat\n",
      "el fuerte\n",
      "melenci\n",
      "kamina\n",
      "buraydah\n",
      "visby\n",
      "iqaluit\n",
      "yuzhno-kurilsk\n",
      "qiryat shemona\n",
      "upernavik\n",
      "darab\n",
      "la ronge\n",
      "butaritari\n",
      "umm lajj\n",
      "clyde river\n",
      "nicoya\n",
      "amderma\n",
      "alugan\n",
      "kalaleh\n",
      "killam\n",
      "karaul\n",
      "warqla\n",
      "sawakin\n",
      "barbar\n",
      "harer\n",
      "yulara\n",
      "guerrero negro\n",
      "thinadhoo\n",
      "pasinler\n",
      "ahipara\n",
      "mecca\n",
      "phan thiet\n",
      "mount isa\n",
      "baruun-urt\n",
      "valparaiso\n",
      "romny\n",
      "gazimurskiy zavod\n",
      "le vauclin\n",
      "mehamn\n",
      "marau\n",
      "opuwo\n",
      "east london\n",
      "svetlogorsk\n",
      "beloha\n",
      "saleaula\n",
      "vila velha\n",
      "lavrentiya\n",
      "pacific grove\n",
      "rundu\n",
      "mujiayingzi\n",
      "taoudenni\n",
      "saint anthony\n",
      "yeniseysk\n",
      "cabo san lucas\n",
      "ostrovnoy\n",
      "bac lieu\n",
      "klaksvik\n",
      "provideniya\n",
      "fayaoue\n",
      "merauke\n",
      "pafos\n",
      "hokitika\n",
      "pavilosta\n",
      "seoul\n",
      "murray bridge\n",
      "saint-leu\n",
      "san juan bautista\n",
      "dalvik\n",
      "bethel\n",
      "gweru\n",
      "dunda\n",
      "padrauna\n",
      "lakes entrance\n",
      "todos santos\n",
      "alvorada\n",
      "salaga\n",
      "madinat sittah uktubar\n",
      "tommot\n",
      "emerald\n",
      "ancud\n",
      "filadelfia\n",
      "alotau\n",
      "champerico\n",
      "hithadhoo\n",
      "carballo\n",
      "palmer\n",
      "kokkola\n",
      "fortuna\n",
      "santa cruz de la palma\n",
      "geraldton\n",
      "victoria\n",
      "necochea\n",
      "calama\n",
      "ponta do sol\n",
      "morondava\n",
      "tuktoyaktuk\n",
      "bakchar\n",
      "banda aceh\n",
      "ixtapa\n",
      "jalu\n",
      "alofi\n",
      "san patricio\n",
      "concord\n",
      "foshan\n",
      "coihaique\n",
      "kyra\n",
      "paralimni\n",
      "bulembu\n",
      "rock hill\n",
      "kpandae\n",
      "west memphis\n",
      "kant\n",
      "lagoa\n",
      "aklavik\n",
      "man\n",
      "popondetta\n",
      "laplace\n",
      "port antonio\n",
      "saint-augustin\n",
      "puerto leguizamo\n",
      "mango\n",
      "bathsheba\n",
      "dahuk\n",
      "waw\n",
      "itaituba\n",
      "birjand\n",
      "yarkovo\n",
      "carcassonne\n",
      "marcona\n",
      "chernyshevskiy\n",
      "taksimo\n",
      "erdenet\n",
      "tuatapere\n",
      "assiniboia\n",
      "alekseyevsk\n",
      "salinas\n",
      "dongfeng\n",
      "beringovskiy\n",
      "chapais\n",
      "tessalit\n",
      "devils lake\n",
      "samalaeulu\n",
      "amga\n",
      "zhigansk\n",
      "santa lucia\n",
      "lasa\n",
      "hasaki\n",
      "rawson\n",
      "paita\n",
      "tiksi\n",
      "erenhot\n",
      "saint george\n",
      "quang ngai\n",
      "neyshabur\n",
      "rakiv lis\n",
      "nizhniy kuranakh\n",
      "sangin\n",
      "norman wells\n",
      "monor\n",
      "leova\n",
      "avera\n",
      "mount gambier\n",
      "komsomolskiy\n",
      "broken hill\n",
      "fort morgan\n",
      "kardla\n",
      "araouane\n",
      "mirnyy\n",
      "yerbogachen\n",
      "vao\n",
      "oranjestad\n",
      "oxford\n",
      "kavaratti\n",
      "yarada\n",
      "coquimbo\n",
      "esperance\n",
      "bida\n",
      "keti bandar\n",
      "utiroa\n",
      "prince albert\n",
      "cockburn town\n",
      "pisco\n",
      "huesca\n",
      "oum hadjer\n",
      "olinda\n",
      "uvinza\n",
      "zhaotong\n",
      "bilma\n",
      "nguiu\n",
      "ngunguru\n",
      "sabha\n",
      "tawnat\n",
      "moyale\n",
      "kununurra\n",
      "hansot\n",
      "pinawa\n",
      "kutum\n",
      "tucupita\n",
      "nefteabad\n",
      "liaocheng\n",
      "asfi\n",
      "saldanha\n",
      "caconda\n",
      "berlevag\n",
      "kidal\n",
      "belle fourche\n",
      "abu dhabi\n",
      "praia\n",
      "yangshe\n",
      "longyearbyen\n",
      "rio gallegos\n",
      "arequipa\n",
      "atherton\n",
      "shimoda\n",
      "kawalu\n",
      "crateus\n",
      "kungurtug\n",
      "talnakh\n",
      "sistranda\n",
      "pingliang\n",
      "karauzyak\n",
      "el alto\n",
      "longlac\n",
      "pandan\n",
      "alta floresta\n",
      "vaitupu\n",
      "eyl\n",
      "aktau\n",
      "jiuquan\n",
      "ilinskoye-khovanskoye\n",
      "portmarnock\n",
      "luganville\n",
      "ntungamo\n",
      "butembo\n",
      "general pico\n",
      "dong hoi\n",
      "farafangana\n",
      "eureka\n",
      "padang\n",
      "evensk\n",
      "vila franca do campo\n",
      "gairo\n",
      "cherskiy\n",
      "basco\n",
      "birin\n",
      "faya\n",
      "humaita\n",
      "haines junction\n",
      "bilisht\n",
      "avarua\n",
      "inndyr\n",
      "yumen\n",
      "grand gaube\n",
      "manggar\n",
      "chipinge\n",
      "uyemskiy\n",
      "malwan\n",
      "smithers\n",
      "gigmoto\n",
      "broome\n",
      "soyo\n",
      "kamenka\n",
      "kerouane\n",
      "high river\n",
      "palauig\n",
      "kushima\n",
      "concepcion\n",
      "adelaide\n",
      "lixourion\n",
      "cravo norte\n",
      "arrecife\n",
      "kankon\n",
      "burica\n",
      "kenai\n",
      "havoysund\n",
      "canico\n",
      "svetlaya\n",
      "tshikapa\n",
      "derzhavinsk\n",
      "nikolayevsk-na-amure\n",
      "langham\n",
      "svetlyy\n",
      "halifax\n",
      "ina\n",
      "penzance\n",
      "hervey bay\n",
      "hambantota\n",
      "qaqortoq\n",
      "pouebo\n",
      "santa cruz\n",
      "tura\n",
      "oranjemund\n",
      "batesville\n",
      "srednekolymsk\n",
      "ratnagiri\n",
      "huarmey\n",
      "iwanai\n",
      "te anau\n",
      "hofn\n",
      "mogadishu\n",
      "athabasca\n",
      "caravelas\n",
      "mahadday weyne\n",
      "gejiu\n",
      "jinchang\n",
      "sorland\n",
      "aksaray\n",
      "bambanglipuro\n",
      "grindavik\n",
      "narsaq\n",
      "sovetskiy\n",
      "guarapari\n",
      "gold coast\n",
      "clearlake\n",
      "ternate\n",
      "jatibonico\n",
      "malakal\n",
      "boa vista\n",
      "tairua\n",
      "mayumba\n",
      "charters towers\n",
      "la palma\n",
      "sandakan\n",
      "port augusta\n",
      "namwala\n",
      "mporokoso\n",
      "praia da vitoria\n",
      "qiongshan\n",
      "dolbeau\n",
      "houma\n",
      "the pas\n",
      "juneau\n",
      "micheweni\n",
      "umzimvubu\n",
      "yarim\n",
      "kudahuvadhoo\n",
      "lorengau\n",
      "ponta delgada\n",
      "praxedis guerrero\n",
      "bubaque\n",
      "lumberton\n",
      "half moon bay\n",
      "taga\n",
      "nagato\n",
      "segou\n",
      "grevenbroich\n",
      "inderborskiy\n",
      "tomatlan\n",
      "port blair\n",
      "naze\n",
      "tekkali\n",
      "ketchenery\n",
      "yuci\n",
      "atar\n",
      "mwene-ditu\n",
      "port keats\n",
      "gaogou\n",
      "geresk\n",
      "ugoofaaru\n",
      "durango\n",
      "jinxiang\n",
      "katobu\n",
      "carnot\n",
      "nova olinda do norte\n",
      "chaiyaphum\n",
      "one hundred mile house\n",
      "aras\n",
      "xining\n",
      "pahrump\n",
      "yingcheng\n",
      "ilulissat\n",
      "tabiauea\n",
      "san luis\n",
      "chiredzi\n",
      "kvarkeno\n",
      "plymouth\n",
      "kinablangan\n",
      "kulu\n",
      "moron\n",
      "orange\n",
      "am timan\n",
      "madimba\n",
      "zhengjiatun\n",
      "talcahuano\n",
      "tumannyy\n",
      "nicolas bravo\n",
      "san quintin\n",
      "parrita\n",
      "znamenskoye\n",
      "tonj\n",
      "richards bay\n",
      "kisangani\n",
      "dickinson\n",
      "lodja\n",
      "akyab\n",
      "padilla\n",
      "saint-ambroise\n",
      "buariki\n",
      "jinchengjiang\n",
      "pathein\n",
      "makakilo city\n",
      "namatanai\n",
      "gamba\n",
      "fevralsk\n",
      "acapulco\n",
      "tecoanapa\n",
      "sibolga\n",
      "borger\n",
      "satitoa\n",
      "oskarshamn\n",
      "bandarbeyla\n",
      "havelock\n",
      "riyadh\n",
      "victor harbor\n",
      "mitsamiouli\n",
      "istra\n",
      "ndioum\n",
      "mezen\n",
      "hawera\n",
      "beoumi\n",
      "akdepe\n",
      "anito\n",
      "hamilton\n",
      "sigli\n",
      "karratha\n",
      "road town\n",
      "sioux lookout\n",
      "coahuayana\n",
      "kilmez\n",
      "sunrise\n",
      "sabalgarh\n",
      "nkowakowa\n",
      "antalaha\n",
      "madaripur\n",
      "canutama\n",
      "mentok\n",
      "nuuk\n",
      "hovd\n",
      "sarangani\n",
      "koboldo\n",
      "okhotsk\n",
      "mangrol\n",
      "fort dix\n",
      "swan hill\n",
      "khani\n"
     ]
    }
   ],
   "source": [
    "url = \"http://api.openweathermap.org/data/2.5/weather?\"\n",
    "units = \"imperial\"\n",
    "\n",
    "lat = []\n",
    "lng = []\n",
    "city_id = []\n",
    "wind = []\n",
    "hum = []\n",
    "max_tmp = []\n",
    "country = []\n",
    "cloudiness = []\n",
    "city_name = []\n",
    "date = []\n",
    "\n",
    "for city in cities:\n",
    "    try:\n",
    "        query_url = f\"{url}appid={weather_api_key}&units={units}&q={city}\"\n",
    "        response = requests.get(query_url).json()\n",
    "        lat.append(response['coord']['lat'])\n",
    "        lng.append(response['coord']['lon'])\n",
    "        cloudiness.append(response['clouds']['all'])\n",
    "        wind.append(response['wind']['speed'])\n",
    "        hum.append(response['main']['humidity'])\n",
    "        max_tmp.append(response['main']['temp_max'])\n",
    "        country.append(response['sys']['country'])\n",
    "        city_id.append(response['id'])\n",
    "        city_name.append(response['name'])\n",
    "        date.append(response['dt'])\n",
    "        #print(f\"Processing {cities[city]} | {city}\")\n",
    "    except: KeyError \n",
    "        \n",
    "       #print(f\"No data returnd for \" {city}: \"skipping.\")\n",
    "        \n",
    "        \n",
    "    \n",
    "    print(city)\n"
   ]
  },
  {
   "cell_type": "markdown",
   "metadata": {},
   "source": [
    "### Convert Raw Data to DataFrame\n",
    "* Export the city data into a .csv.\n",
    "* Display the DataFrame"
   ]
  },
  {
   "cell_type": "code",
   "execution_count": 26,
   "metadata": {},
   "outputs": [
    {
     "data": {
      "text/html": [
       "<div>\n",
       "<style scoped>\n",
       "    .dataframe tbody tr th:only-of-type {\n",
       "        vertical-align: middle;\n",
       "    }\n",
       "\n",
       "    .dataframe tbody tr th {\n",
       "        vertical-align: top;\n",
       "    }\n",
       "\n",
       "    .dataframe thead th {\n",
       "        text-align: right;\n",
       "    }\n",
       "</style>\n",
       "<table border=\"1\" class=\"dataframe\">\n",
       "  <thead>\n",
       "    <tr style=\"text-align: right;\">\n",
       "      <th></th>\n",
       "      <th>City Name</th>\n",
       "      <th>Cloudiness</th>\n",
       "      <th>Country</th>\n",
       "      <th>Date</th>\n",
       "      <th>Humidity</th>\n",
       "      <th>Latitude</th>\n",
       "      <th>Longitude</th>\n",
       "      <th>Max Temperature</th>\n",
       "      <th>Wind Speed</th>\n",
       "    </tr>\n",
       "  </thead>\n",
       "  <tbody>\n",
       "    <tr>\n",
       "      <td>0</td>\n",
       "      <td>Sitka</td>\n",
       "      <td>100</td>\n",
       "      <td>US</td>\n",
       "      <td>1579952315</td>\n",
       "      <td>70</td>\n",
       "      <td>57.05</td>\n",
       "      <td>-135.33</td>\n",
       "      <td>31.96</td>\n",
       "      <td>7.16</td>\n",
       "    </tr>\n",
       "    <tr>\n",
       "      <td>1</td>\n",
       "      <td>Busselton</td>\n",
       "      <td>89</td>\n",
       "      <td>AU</td>\n",
       "      <td>1579952315</td>\n",
       "      <td>74</td>\n",
       "      <td>-33.65</td>\n",
       "      <td>115.33</td>\n",
       "      <td>69.91</td>\n",
       "      <td>16.67</td>\n",
       "    </tr>\n",
       "    <tr>\n",
       "      <td>2</td>\n",
       "      <td>Mirabad</td>\n",
       "      <td>16</td>\n",
       "      <td>AF</td>\n",
       "      <td>1579952315</td>\n",
       "      <td>63</td>\n",
       "      <td>30.44</td>\n",
       "      <td>61.84</td>\n",
       "      <td>59.68</td>\n",
       "      <td>5.06</td>\n",
       "    </tr>\n",
       "    <tr>\n",
       "      <td>3</td>\n",
       "      <td>Ushuaia</td>\n",
       "      <td>90</td>\n",
       "      <td>AR</td>\n",
       "      <td>1579952315</td>\n",
       "      <td>87</td>\n",
       "      <td>-54.80</td>\n",
       "      <td>-68.30</td>\n",
       "      <td>44.60</td>\n",
       "      <td>5.82</td>\n",
       "    </tr>\n",
       "    <tr>\n",
       "      <td>4</td>\n",
       "      <td>Kapaa</td>\n",
       "      <td>90</td>\n",
       "      <td>US</td>\n",
       "      <td>1579952316</td>\n",
       "      <td>83</td>\n",
       "      <td>22.08</td>\n",
       "      <td>-159.32</td>\n",
       "      <td>73.40</td>\n",
       "      <td>17.22</td>\n",
       "    </tr>\n",
       "  </tbody>\n",
       "</table>\n",
       "</div>"
      ],
      "text/plain": [
       "   City Name  Cloudiness Country        Date  Humidity  Latitude  Longitude  \\\n",
       "0      Sitka         100      US  1579952315        70     57.05    -135.33   \n",
       "1  Busselton          89      AU  1579952315        74    -33.65     115.33   \n",
       "2    Mirabad          16      AF  1579952315        63     30.44      61.84   \n",
       "3    Ushuaia          90      AR  1579952315        87    -54.80     -68.30   \n",
       "4      Kapaa          90      US  1579952316        83     22.08    -159.32   \n",
       "\n",
       "   Max Temperature  Wind Speed  \n",
       "0            31.96        7.16  \n",
       "1            69.91       16.67  \n",
       "2            59.68        5.06  \n",
       "3            44.60        5.82  \n",
       "4            73.40       17.22  "
      ]
     },
     "execution_count": 26,
     "metadata": {},
     "output_type": "execute_result"
    }
   ],
   "source": [
    "weather_dict = {\n",
    "    \"City Name\": city_name,\n",
    "    \"Cloudiness\": cloudiness,\n",
    "    \"Country\": country,\n",
    "    \"Date\": date,\n",
    "    \"Humidity\": hum,\n",
    "    \"Latitude\": lat,\n",
    "    \"Longitude\": lng,\n",
    "    \"Max Temperature\": max_tmp,\n",
    "    \"Wind Speed\": wind\n",
    "    \n",
    "}\n",
    "\n",
    "weather_df = pd.DataFrame(weather_dict)\n",
    "\n",
    "weather_df.to_csv(output_data_file)\n",
    "\n",
    "weather_df.head()"
   ]
  },
  {
   "cell_type": "code",
   "execution_count": 27,
   "metadata": {},
   "outputs": [
    {
     "data": {
      "text/html": [
       "<div>\n",
       "<style scoped>\n",
       "    .dataframe tbody tr th:only-of-type {\n",
       "        vertical-align: middle;\n",
       "    }\n",
       "\n",
       "    .dataframe tbody tr th {\n",
       "        vertical-align: top;\n",
       "    }\n",
       "\n",
       "    .dataframe thead th {\n",
       "        text-align: right;\n",
       "    }\n",
       "</style>\n",
       "<table border=\"1\" class=\"dataframe\">\n",
       "  <thead>\n",
       "    <tr style=\"text-align: right;\">\n",
       "      <th></th>\n",
       "      <th>City Name</th>\n",
       "      <th>Cloudiness</th>\n",
       "      <th>Country</th>\n",
       "      <th>Date</th>\n",
       "      <th>Humidity</th>\n",
       "      <th>Latitude</th>\n",
       "      <th>Longitude</th>\n",
       "      <th>Max Temperature</th>\n",
       "      <th>Wind Speed</th>\n",
       "    </tr>\n",
       "  </thead>\n",
       "  <tbody>\n",
       "    <tr>\n",
       "      <td>1</td>\n",
       "      <td>Busselton</td>\n",
       "      <td>89</td>\n",
       "      <td>AU</td>\n",
       "      <td>1579952315</td>\n",
       "      <td>74</td>\n",
       "      <td>-33.65</td>\n",
       "      <td>115.33</td>\n",
       "      <td>69.91</td>\n",
       "      <td>16.67</td>\n",
       "    </tr>\n",
       "    <tr>\n",
       "      <td>3</td>\n",
       "      <td>Ushuaia</td>\n",
       "      <td>90</td>\n",
       "      <td>AR</td>\n",
       "      <td>1579952315</td>\n",
       "      <td>87</td>\n",
       "      <td>-54.80</td>\n",
       "      <td>-68.30</td>\n",
       "      <td>44.60</td>\n",
       "      <td>5.82</td>\n",
       "    </tr>\n",
       "    <tr>\n",
       "      <td>5</td>\n",
       "      <td>Vaini</td>\n",
       "      <td>75</td>\n",
       "      <td>TO</td>\n",
       "      <td>1579952316</td>\n",
       "      <td>94</td>\n",
       "      <td>-21.20</td>\n",
       "      <td>-175.20</td>\n",
       "      <td>77.00</td>\n",
       "      <td>12.75</td>\n",
       "    </tr>\n",
       "    <tr>\n",
       "      <td>7</td>\n",
       "      <td>Hermanus</td>\n",
       "      <td>32</td>\n",
       "      <td>ZA</td>\n",
       "      <td>1579952316</td>\n",
       "      <td>81</td>\n",
       "      <td>-34.42</td>\n",
       "      <td>19.23</td>\n",
       "      <td>77.00</td>\n",
       "      <td>7.00</td>\n",
       "    </tr>\n",
       "    <tr>\n",
       "      <td>8</td>\n",
       "      <td>Rikitea</td>\n",
       "      <td>0</td>\n",
       "      <td>PF</td>\n",
       "      <td>1579952316</td>\n",
       "      <td>81</td>\n",
       "      <td>-23.12</td>\n",
       "      <td>-134.97</td>\n",
       "      <td>77.95</td>\n",
       "      <td>13.31</td>\n",
       "    </tr>\n",
       "  </tbody>\n",
       "</table>\n",
       "</div>"
      ],
      "text/plain": [
       "   City Name  Cloudiness Country        Date  Humidity  Latitude  Longitude  \\\n",
       "1  Busselton          89      AU  1579952315        74    -33.65     115.33   \n",
       "3    Ushuaia          90      AR  1579952315        87    -54.80     -68.30   \n",
       "5      Vaini          75      TO  1579952316        94    -21.20    -175.20   \n",
       "7   Hermanus          32      ZA  1579952316        81    -34.42      19.23   \n",
       "8    Rikitea           0      PF  1579952316        81    -23.12    -134.97   \n",
       "\n",
       "   Max Temperature  Wind Speed  \n",
       "1            69.91       16.67  \n",
       "3            44.60        5.82  \n",
       "5            77.00       12.75  \n",
       "7            77.00        7.00  \n",
       "8            77.95       13.31  "
      ]
     },
     "execution_count": 27,
     "metadata": {},
     "output_type": "execute_result"
    }
   ],
   "source": [
    "south_forgets = weather_df.loc[weather_df[\"Latitude\"]<= 0, :]\n",
    "\n",
    "south_forgets.head()"
   ]
  },
  {
   "cell_type": "code",
   "execution_count": 28,
   "metadata": {},
   "outputs": [
    {
     "data": {
      "text/html": [
       "<div>\n",
       "<style scoped>\n",
       "    .dataframe tbody tr th:only-of-type {\n",
       "        vertical-align: middle;\n",
       "    }\n",
       "\n",
       "    .dataframe tbody tr th {\n",
       "        vertical-align: top;\n",
       "    }\n",
       "\n",
       "    .dataframe thead th {\n",
       "        text-align: right;\n",
       "    }\n",
       "</style>\n",
       "<table border=\"1\" class=\"dataframe\">\n",
       "  <thead>\n",
       "    <tr style=\"text-align: right;\">\n",
       "      <th></th>\n",
       "      <th>City Name</th>\n",
       "      <th>Cloudiness</th>\n",
       "      <th>Country</th>\n",
       "      <th>Date</th>\n",
       "      <th>Humidity</th>\n",
       "      <th>Latitude</th>\n",
       "      <th>Longitude</th>\n",
       "      <th>Max Temperature</th>\n",
       "      <th>Wind Speed</th>\n",
       "    </tr>\n",
       "  </thead>\n",
       "  <tbody>\n",
       "    <tr>\n",
       "      <td>0</td>\n",
       "      <td>Sitka</td>\n",
       "      <td>100</td>\n",
       "      <td>US</td>\n",
       "      <td>1579952315</td>\n",
       "      <td>70</td>\n",
       "      <td>57.05</td>\n",
       "      <td>-135.33</td>\n",
       "      <td>31.96</td>\n",
       "      <td>7.16</td>\n",
       "    </tr>\n",
       "    <tr>\n",
       "      <td>2</td>\n",
       "      <td>Mirabad</td>\n",
       "      <td>16</td>\n",
       "      <td>AF</td>\n",
       "      <td>1579952315</td>\n",
       "      <td>63</td>\n",
       "      <td>30.44</td>\n",
       "      <td>61.84</td>\n",
       "      <td>59.68</td>\n",
       "      <td>5.06</td>\n",
       "    </tr>\n",
       "    <tr>\n",
       "      <td>4</td>\n",
       "      <td>Kapaa</td>\n",
       "      <td>90</td>\n",
       "      <td>US</td>\n",
       "      <td>1579952316</td>\n",
       "      <td>83</td>\n",
       "      <td>22.08</td>\n",
       "      <td>-159.32</td>\n",
       "      <td>73.40</td>\n",
       "      <td>17.22</td>\n",
       "    </tr>\n",
       "    <tr>\n",
       "      <td>6</td>\n",
       "      <td>Goderich</td>\n",
       "      <td>100</td>\n",
       "      <td>CA</td>\n",
       "      <td>1579952316</td>\n",
       "      <td>95</td>\n",
       "      <td>43.75</td>\n",
       "      <td>-81.72</td>\n",
       "      <td>39.00</td>\n",
       "      <td>1.99</td>\n",
       "    </tr>\n",
       "    <tr>\n",
       "      <td>11</td>\n",
       "      <td>Kodiak</td>\n",
       "      <td>83</td>\n",
       "      <td>US</td>\n",
       "      <td>1579952317</td>\n",
       "      <td>84</td>\n",
       "      <td>57.79</td>\n",
       "      <td>-152.41</td>\n",
       "      <td>18.90</td>\n",
       "      <td>21.83</td>\n",
       "    </tr>\n",
       "  </tbody>\n",
       "</table>\n",
       "</div>"
      ],
      "text/plain": [
       "   City Name  Cloudiness Country        Date  Humidity  Latitude  Longitude  \\\n",
       "0      Sitka         100      US  1579952315        70     57.05    -135.33   \n",
       "2    Mirabad          16      AF  1579952315        63     30.44      61.84   \n",
       "4      Kapaa          90      US  1579952316        83     22.08    -159.32   \n",
       "6   Goderich         100      CA  1579952316        95     43.75     -81.72   \n",
       "11    Kodiak          83      US  1579952317        84     57.79    -152.41   \n",
       "\n",
       "    Max Temperature  Wind Speed  \n",
       "0             31.96        7.16  \n",
       "2             59.68        5.06  \n",
       "4             73.40       17.22  \n",
       "6             39.00        1.99  \n",
       "11            18.90       21.83  "
      ]
     },
     "execution_count": 28,
     "metadata": {},
     "output_type": "execute_result"
    }
   ],
   "source": [
    "north_remembers = weather_df.loc[weather_df[\"Latitude\"] >= 0, :]\n",
    "\n",
    "\n",
    "north_remembers.head()"
   ]
  },
  {
   "cell_type": "markdown",
   "metadata": {},
   "source": [
    "### Plotting the Data\n",
    "* Use proper labeling of the plots using plot titles (including date of analysis) and axes labels.\n",
    "* Save the plotted figures as .pngs."
   ]
  },
  {
   "cell_type": "markdown",
   "metadata": {},
   "source": [
    "#### Latitude vs. Temperature Plot"
   ]
  },
  {
   "cell_type": "code",
   "execution_count": 29,
   "metadata": {
    "scrolled": true
   },
   "outputs": [
    {
     "data": {
      "image/png": "[encoded data removed]",
      "text/plain": [
       "<Figure size 432x288 with 1 Axes>"
      ]
     },
     "metadata": {
      "needs_background": "light"
     },
     "output_type": "display_data"
    }
   ],
   "source": [
    "plt.title(\"City Latitude vs. Max Temperature\")\n",
    "plt.xlabel(\"Latitude\")\n",
    "plt.ylabel(\"Max Temp\")\n",
    "\n",
    "plt.scatter(weather_df[[\"Latitude\"]], weather_df[[\"Max Temperature\"]], marker=\"o\", color=\"green\")\n",
    "plt.show()"
   ]
  },
  {
   "cell_type": "markdown",
   "metadata": {},
   "source": [
    "#### Latitude vs. Humidity Plot"
   ]
  },
  {
   "cell_type": "code",
   "execution_count": 30,
   "metadata": {},
   "outputs": [
    {
     "data": {
      "image/png": "[encoded data removed]",
      "text/plain": [
       "<Figure size 432x288 with 1 Axes>"
      ]
     },
     "metadata": {
      "needs_background": "light"
     },
     "output_type": "display_data"
    }
   ],
   "source": [
    "plt.title(\"City Latitude vs. Humidity\")\n",
    "plt.xlabel(\"Latitude\")\n",
    "plt.ylabel(\"Humidity\")\n",
    "\n",
    "plt.scatter(weather_df[[\"Latitude\"]], weather_df[[\"Humidity\"]], marker=\"o\", color=\"green\")\n",
    "plt.show()"
   ]
  },
  {
   "cell_type": "markdown",
   "metadata": {},
   "source": [
    "#### Latitude vs. Cloudiness Plot"
   ]
  },
  {
   "cell_type": "code",
   "execution_count": 31,
   "metadata": {},
   "outputs": [
    {
     "data": {
      "image/png": "[encoded data removed]",
      "text/plain": [
       "<Figure size 432x288 with 1 Axes>"
      ]
     },
     "metadata": {
      "needs_background": "light"
     },
     "output_type": "display_data"
    }
   ],
   "source": [
    "plt.title(\"City Latitude vs. Cloudiness\")\n",
    "plt.xlabel(\"Latitude\")\n",
    "plt.ylabel(\"Cloudiness\")\n",
    "\n",
    "plt.scatter(weather_df[[\"Latitude\"]], weather_df[[\"Cloudiness\"]], marker=\"o\", color=\"green\")\n",
    "plt.show()"
   ]
  },
  {
   "cell_type": "markdown",
   "metadata": {},
   "source": [
    "#### Latitude vs. Wind Speed Plot"
   ]
  },
  {
   "cell_type": "code",
   "execution_count": 32,
   "metadata": {},
   "outputs": [
    {
     "data": {
      "image/png": "[encoded data removed]",
      "text/plain": [
       "<Figure size 432x288 with 1 Axes>"
      ]
     },
     "metadata": {
      "needs_background": "light"
     },
     "output_type": "display_data"
    }
   ],
   "source": [
    "plt.title(\"City Latitude vs. Wind Speed (mph)\")\n",
    "plt.xlabel(\"Latitude\")\n",
    "plt.ylabel(\"Wind Speed (mph)\")\n",
    "\n",
    "plt.scatter(weather_df[[\"Latitude\"]], weather_df[[\"Wind Speed\"]], marker=\"o\", color=\"green\")\n",
    "plt.show()"
   ]
  },
  {
   "cell_type": "markdown",
   "metadata": {},
   "source": [
    "## Linear Regression"
   ]
  },
  {
   "cell_type": "code",
   "execution_count": 33,
   "metadata": {},
   "outputs": [],
   "source": [
    "# OPTIONAL: Create a function to create Linear Regression plots\n"
   ]
  },
  {
   "cell_type": "code",
   "execution_count": 34,
   "metadata": {},
   "outputs": [],
   "source": [
    "# Create Northern and Southern Hemisphere DataFrames\n"
   ]
  },
  {
   "cell_type": "markdown",
   "metadata": {},
   "source": [
    "####  Northern Hemisphere - Max Temp vs. Latitude Linear Regression"
   ]
  },
  {
   "cell_type": "code",
   "execution_count": 35,
   "metadata": {},
   "outputs": [
    {
     "data": {
      "image/png": "[encoded data removed]",
      "text/plain": [
       "<Figure size 432x288 with 1 Axes>"
      ]
     },
     "metadata": {
      "needs_background": "light"
     },
     "output_type": "display_data"
    }
   ],
   "source": [
    "x_values = north_remembers['Latitude']\n",
    "y_values = north_remembers['Max Temperature']\n",
    "(slope, intercept, rvalue, pvalue, stderr) = linregress(x_values, y_values)\n",
    "regress_values = x_values * slope + intercept\n",
    "line_eq = \"y = \" + str(round(slope,2)) + \"x + \" + str(round(intercept,2))\n",
    "plt.scatter(x_values,y_values)\n",
    "plt.plot(x_values,regress_values,\"r-\")\n",
    "plt.annotate(line_eq,(6,10),fontsize=15,color=\"red\")\n",
    "plt.xlabel('Latitude')\n",
    "plt.ylabel('Max Temperature')\n",
    "plt.show()"
   ]
  },
  {
   "cell_type": "markdown",
   "metadata": {},
   "source": [
    "####  Southern Hemisphere - Max Temp vs. Latitude Linear Regression"
   ]
  },
  {
   "cell_type": "code",
   "execution_count": 36,
   "metadata": {
    "scrolled": true
   },
   "outputs": [
    {
     "data": {
      "image/png": "[encoded data removed]",
      "text/plain": [
       "<Figure size 432x288 with 1 Axes>"
      ]
     },
     "metadata": {
      "needs_background": "light"
     },
     "output_type": "display_data"
    }
   ],
   "source": [
    "x_values = south_forgets['Latitude']\n",
    "y_values = south_forgets['Max Temperature']\n",
    "(slope, intercept, rvalue, pvalue, stderr) = linregress(x_values, y_values)\n",
    "regress_values = x_values * slope + intercept\n",
    "line_eq = \"y = \" + str(round(slope,2)) + \"x + \" + str(round(intercept,2))\n",
    "plt.scatter(x_values,y_values)\n",
    "plt.plot(x_values,regress_values,\"r-\")\n",
    "plt.annotate(line_eq,(6,10),fontsize=15,color=\"red\")\n",
    "plt.xlabel('Latitude')\n",
    "plt.ylabel('Max Temperature')\n",
    "plt.show()"
   ]
  },
  {
   "cell_type": "markdown",
   "metadata": {},
   "source": [
    "####  Northern Hemisphere - Humidity (%) vs. Latitude Linear Regression"
   ]
  },
  {
   "cell_type": "code",
   "execution_count": 37,
   "metadata": {},
   "outputs": [
    {
     "data": {
      "image/png": "[encoded data removed]",
      "text/plain": [
       "<Figure size 432x288 with 1 Axes>"
      ]
     },
     "metadata": {
      "needs_background": "light"
     },
     "output_type": "display_data"
    }
   ],
   "source": [
    "x_val = north_remembers['Latitude']\n",
    "y_val = north_remembers['Humidity']\n",
    "(slope, intercept, rvalue, pvalue, stderr) = linregress(x_val, y_val)\n",
    "regress_val = x_val * slope + intercept\n",
    "line_eq = \"y = \" + str(round(slope,2)) + \"x + \" + str(round(intercept,2))\n",
    "plt.scatter(x_val,y_val)\n",
    "plt.plot(x_val,regress_val,\"r-\")\n",
    "plt.annotate(line_eq,(6,10),fontsize=15,color=\"red\")\n",
    "plt.xlabel('Latitude')\n",
    "plt.ylabel('Humidity')\n",
    "plt.show()"
   ]
  },
  {
   "cell_type": "markdown",
   "metadata": {},
   "source": [
    "####  Southern Hemisphere - Humidity (%) vs. Latitude Linear Regression"
   ]
  },
  {
   "cell_type": "code",
   "execution_count": 38,
   "metadata": {},
   "outputs": [
    {
     "data": {
      "image/png": "[encoded data removed]",
      "text/plain": [
       "<Figure size 432x288 with 1 Axes>"
      ]
     },
     "metadata": {
      "needs_background": "light"
     },
     "output_type": "display_data"
    }
   ],
   "source": [
    "x_values = south_forgets['Latitude']\n",
    "y_values = south_forgets['Humidity']\n",
    "(slope, intercept, rvalue, pvalue, stderr) = linregress(x_values, y_values)\n",
    "regress_values = x_values * slope + intercept\n",
    "line_eq = \"y = \" + str(round(slope,2)) + \"x + \" + str(round(intercept,2))\n",
    "plt.scatter(x_values,y_values)\n",
    "plt.plot(x_values,regress_values,\"r-\")\n",
    "plt.annotate(line_eq,(6,10),fontsize=15,color=\"red\")\n",
    "plt.xlabel('Latitude')\n",
    "plt.ylabel('Humidity')\n",
    "plt.show()"
   ]
  },
  {
   "cell_type": "markdown",
   "metadata": {},
   "source": [
    "####  Northern Hemisphere - Cloudiness (%) vs. Latitude Linear Regression"
   ]
  },
  {
   "cell_type": "code",
   "execution_count": 39,
   "metadata": {},
   "outputs": [
    {
     "data": {
      "image/png": "[encoded data removed]",
      "text/plain": [
       "<Figure size 432x288 with 1 Axes>"
      ]
     },
     "metadata": {
      "needs_background": "light"
     },
     "output_type": "display_data"
    }
   ],
   "source": [
    "x_val = north_remembers['Latitude']\n",
    "y_val = north_remembers['Cloudiness']\n",
    "(slope, intercept, rvalue, pvalue, stderr) = linregress(x_val, y_val)\n",
    "regress_val = x_val * slope + intercept\n",
    "line_eq = \"y = \" + str(round(slope,2)) + \"x + \" + str(round(intercept,2))\n",
    "plt.scatter(x_val,y_val)\n",
    "plt.plot(x_val,regress_val,\"r-\")\n",
    "plt.annotate(line_eq,(6,10),fontsize=15,color=\"red\")\n",
    "plt.xlabel('Latitude')\n",
    "plt.ylabel('Cloudiness')\n",
    "plt.show()"
   ]
  },
  {
   "cell_type": "markdown",
   "metadata": {},
   "source": [
    "####  Southern Hemisphere - Cloudiness (%) vs. Latitude Linear Regression"
   ]
  },
  {
   "cell_type": "code",
   "execution_count": 40,
   "metadata": {},
   "outputs": [
    {
     "data": {
      "image/png": "[encoded data removed]",
      "text/plain": [
       "<Figure size 432x288 with 1 Axes>"
      ]
     },
     "metadata": {
      "needs_background": "light"
     },
     "output_type": "display_data"
    }
   ],
   "source": [
    "x_val = south_forgets['Latitude']\n",
    "y_val = south_forgets['Cloudiness']\n",
    "(slope, intercept, rvalue, pvalue, stderr) = linregress(x_val, y_val)\n",
    "regress_val = x_val * slope + intercept\n",
    "line_eq = \"y = \" + str(round(slope,2)) + \"x + \" + str(round(intercept,2))\n",
    "plt.scatter(x_val,y_val)\n",
    "plt.plot(x_val,regress_val,\"r-\")\n",
    "plt.annotate(line_eq,(6,10),fontsize=15,color=\"red\")\n",
    "plt.xlabel('Latitude')\n",
    "plt.ylabel('Cloudiness')\n",
    "plt.show()"
   ]
  },
  {
   "cell_type": "markdown",
   "metadata": {},
   "source": [
    "####  Northern Hemisphere - Wind Speed (mph) vs. Latitude Linear Regression"
   ]
  },
  {
   "cell_type": "code",
   "execution_count": 41,
   "metadata": {},
   "outputs": [
    {
     "data": {
      "image/png": "[encoded data removed]",
      "text/plain": [
       "<Figure size 432x288 with 1 Axes>"
      ]
     },
     "metadata": {
      "needs_background": "light"
     },
     "output_type": "display_data"
    }
   ],
   "source": [
    "x_val = north_remembers['Latitude']\n",
    "y_val = north_remembers['Wind Speed']\n",
    "(slope, intercept, rvalue, pvalue, stderr) = linregress(x_val, y_val)\n",
    "regress_val = x_val * slope + intercept\n",
    "line_eq = \"y = \" + str(round(slope,2)) + \"x + \" + str(round(intercept,2))\n",
    "plt.scatter(x_val,y_val)\n",
    "plt.plot(x_val,regress_val,\"r-\")\n",
    "plt.annotate(line_eq,(6,10),fontsize=15,color=\"red\")\n",
    "plt.xlabel('Latitude')\n",
    "plt.ylabel('Wind Speed (mph)')\n",
    "plt.show()"
   ]
  },
  {
   "cell_type": "markdown",
   "metadata": {},
   "source": [
    "####  Southern Hemisphere - Wind Speed (mph) vs. Latitude Linear Regression"
   ]
  },
  {
   "cell_type": "code",
   "execution_count": 42,
   "metadata": {},
   "outputs": [
    {
     "data": {
      "image/png": "[encoded data removed]",
      "text/plain": [
       "<Figure size 432x288 with 1 Axes>"
      ]
     },
     "metadata": {
      "needs_background": "light"
     },
     "output_type": "display_data"
    }
   ],
   "source": [
    "x_val = south_forgets['Latitude']\n",
    "y_val = south_forgets['Wind Speed']\n",
    "(slope, intercept, rvalue, pvalue, stderr) = linregress(x_val, y_val)\n",
    "regress_val = x_val * slope + intercept\n",
    "line_eq = \"y = \" + str(round(slope,2)) + \"x + \" + str(round(intercept,2))\n",
    "plt.scatter(x_val,y_val)\n",
    "plt.plot(x_val,regress_val,\"r-\")\n",
    "plt.annotate(line_eq,(6,10),fontsize=15,color=\"red\")\n",
    "plt.xlabel('Latitude')\n",
    "plt.ylabel('Wind Speed (mph)')\n",
    "plt.show()"
   ]
  },
  {
   "cell_type": "code",
   "execution_count": null,
   "metadata": {},
   "outputs": [],
   "source": []
  },
  {
   "cell_type": "code",
   "execution_count": null,
   "metadata": {},
   "outputs": [],
   "source": []
  },
  {
   "cell_type": "code",
   "execution_count": null,
   "metadata": {},
   "outputs": [],
   "source": []
  },
  {
   "cell_type": "code",
   "execution_count": null,
   "metadata": {},
   "outputs": [],
   "source": []
  }
 ],
 "metadata": {
  "anaconda-cloud": {},
  "kernel_info": {
   "name": "python3"
  },
  "kernelspec": {
   "display_name": "Python 3",
   "language": "python",
   "name": "python3"
  },
  "language_info": {
   "codemirror_mode": {
    "name": "ipython",
    "version": 3
   },
   "file_extension": ".py",
   "mimetype": "text/x-python",
   "name": "python",
   "nbconvert_exporter": "python",
   "pygments_lexer": "ipython3",
   "version": "3.7.4"
  },
  "latex_envs": {
   "LaTeX_envs_menu_present": true,
   "autoclose": false,
   "autocomplete": true,
   "bibliofile": "biblio.bib",
   "cite_by": "apalike",
   "current_citInitial": 1,
   "eqLabelWithNumbers": true,
   "eqNumInitial": 1,
   "hotkeys": {
    "equation": "Ctrl-E",
    "itemize": "Ctrl-I"
   },
   "labels_anchors": false,
   "latex_user_defs": false,
   "report_style_numbering": false,
   "user_envs_cfg": false
  },
  "nteract": {
   "version": "0.12.3"
  }
 },
 "nbformat": 4,
 "nbformat_minor": 2
}
